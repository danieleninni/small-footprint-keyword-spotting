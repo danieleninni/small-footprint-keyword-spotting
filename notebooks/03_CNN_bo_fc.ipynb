{
  "cells": [
    {
      "cell_type": "markdown",
      "metadata": {
        "id": "dsT1FPnBguaJ"
      },
      "source": [
        "# Bayesian Optimization and Feature Comparison with CNN"
      ]
    },
    {
      "cell_type": "markdown",
      "metadata": {
        "id": "0lYQXwCmh402"
      },
      "source": [
        "## Get scripts from GitHub and install wget\n",
        "Only required when running on Colab. "
      ]
    },
    {
      "cell_type": "code",
      "execution_count": 1,
      "metadata": {
        "colab": {
          "base_uri": "https://localhost:8080/"
        },
        "id": "_V8fO0IpyMLd",
        "outputId": "0f4f8a7a-9dbf-4f58-a0af-1ea36ee052f6"
      },
      "outputs": [
        {
          "name": "stdout",
          "output_type": "stream",
          "text": [
            "Looking in indexes: https://pypi.org/simple, https://us-python.pkg.dev/colab-wheels/public/simple/\n",
            "Collecting wget\n",
            "  Downloading wget-3.2.zip (10 kB)\n",
            "  Preparing metadata (setup.py) ... \u001b[?25l\u001b[?25hdone\n",
            "Building wheels for collected packages: wget\n",
            "  Building wheel for wget (setup.py) ... \u001b[?25l\u001b[?25hdone\n",
            "  Created wheel for wget: filename=wget-3.2-py3-none-any.whl size=9674 sha256=5f24242ddf107f949d6fa28c6d9e7b9a308598e3d103b11c76279d7328ec21aa\n",
            "  Stored in directory: /root/.cache/pip/wheels/bd/a8/c3/3cf2c14a1837a4e04bd98631724e81f33f462d86a1d895fae0\n",
            "Successfully built wget\n",
            "Installing collected packages: wget\n",
            "Successfully installed wget-3.2\n"
          ]
        }
      ],
      "source": [
        "! pip install wget"
      ]
    },
    {
      "cell_type": "code",
      "execution_count": 2,
      "metadata": {
        "colab": {
          "base_uri": "https://localhost:8080/"
        },
        "id": "J7ZaKB5zhwiz",
        "outputId": "7c775276-0fac-4e69-a2df-c07b03be7b1e"
      },
      "outputs": [
        {
          "name": "stdout",
          "output_type": "stream",
          "text": [
            "--2023-01-27 09:16:03--  https://raw.githubusercontent.com/NicolaZomer/Keyword_Spotting/main/utils/models_utils.py\n",
            "Resolving raw.githubusercontent.com (raw.githubusercontent.com)... 185.199.108.133, 185.199.109.133, 185.199.110.133, ...\n",
            "Connecting to raw.githubusercontent.com (raw.githubusercontent.com)|185.199.108.133|:443... connected.\n",
            "HTTP request sent, awaiting response... 200 OK\n",
            "Length: 10904 (11K) [text/plain]\n",
            "Saving to: ‘models_utils.py’\n",
            "\n",
            "models_utils.py     100%[===================>]  10.65K  --.-KB/s    in 0s      \n",
            "\n",
            "2023-01-27 09:16:03 (92.1 MB/s) - ‘models_utils.py’ saved [10904/10904]\n",
            "\n",
            "--2023-01-27 09:16:03--  https://raw.githubusercontent.com/NicolaZomer/Keyword_Spotting/main/utils/plot_utils.py\n",
            "Resolving raw.githubusercontent.com (raw.githubusercontent.com)... 185.199.108.133, 185.199.109.133, 185.199.110.133, ...\n",
            "Connecting to raw.githubusercontent.com (raw.githubusercontent.com)|185.199.108.133|:443... connected.\n",
            "HTTP request sent, awaiting response... 200 OK\n",
            "Length: 2253 (2.2K) [text/plain]\n",
            "Saving to: ‘plot_utils.py’\n",
            "\n",
            "plot_utils.py       100%[===================>]   2.20K  --.-KB/s    in 0s      \n",
            "\n",
            "2023-01-27 09:16:04 (27.1 MB/s) - ‘plot_utils.py’ saved [2253/2253]\n",
            "\n",
            "--2023-01-27 09:16:04--  https://raw.githubusercontent.com/NicolaZomer/Keyword_Spotting/main/utils/preprocessing_utils.py\n",
            "Resolving raw.githubusercontent.com (raw.githubusercontent.com)... 185.199.108.133, 185.199.109.133, 185.199.110.133, ...\n",
            "Connecting to raw.githubusercontent.com (raw.githubusercontent.com)|185.199.108.133|:443... connected.\n",
            "HTTP request sent, awaiting response... 200 OK\n",
            "Length: 9421 (9.2K) [text/plain]\n",
            "Saving to: ‘preprocessing_utils.py’\n",
            "\n",
            "preprocessing_utils 100%[===================>]   9.20K  --.-KB/s    in 0s      \n",
            "\n",
            "2023-01-27 09:16:04 (98.5 MB/s) - ‘preprocessing_utils.py’ saved [9421/9421]\n",
            "\n"
          ]
        }
      ],
      "source": [
        "! wget -nc https://raw.githubusercontent.com/NicolaZomer/Keyword_Spotting/main/utils/models_utils.py\n",
        "! wget -nc https://raw.githubusercontent.com/NicolaZomer/Keyword_Spotting/main/utils/plot_utils.py\n",
        "! wget -nc https://raw.githubusercontent.com/NicolaZomer/Keyword_Spotting/main/utils/preprocessing_utils.py"
      ]
    },
    {
      "cell_type": "markdown",
      "metadata": {
        "id": "ZFq83kJvyatv"
      },
      "source": [
        "## Import"
      ]
    },
    {
      "cell_type": "code",
      "execution_count": 3,
      "metadata": {
        "id": "Y_4uCFuXgucW"
      },
      "outputs": [],
      "source": [
        "import os\n",
        "import pathlib\n",
        "import requests\n",
        "import wget\n",
        "import inspect\n",
        "\n",
        "import matplotlib.pyplot as plt\n",
        "import numpy as np\n",
        "import pandas as pd\n",
        "import seaborn as sns\n",
        "import tensorflow as tf\n",
        "\n",
        "from IPython.display import display, Audio, Image\n",
        "\n",
        "from sklearn.metrics import confusion_matrix, precision_recall_fscore_support, accuracy_score, log_loss, cohen_kappa_score\n",
        "\n",
        "from scipy.io import wavfile\n",
        "\n",
        "from models_utils import available_models, select_model\n",
        "import plot_utils \n",
        "\n",
        "plt.rcParams['font.size'] = '12'\n",
        "# %matplotlib inline"
      ]
    },
    {
      "cell_type": "code",
      "execution_count": 4,
      "metadata": {
        "colab": {
          "base_uri": "https://localhost:8080/"
        },
        "id": "v58f7JtLicT4",
        "outputId": "52e2c825-7adf-44a8-de04-e2486deac0f7"
      },
      "outputs": [
        {
          "name": "stderr",
          "output_type": "stream",
          "text": [
            "WARNING:tensorflow:From <ipython-input-4-8b196a1e910a>:1: is_gpu_available (from tensorflow.python.framework.test_util) is deprecated and will be removed in a future version.\n",
            "Instructions for updating:\n",
            "Use `tf.config.list_physical_devices('GPU')` instead.\n"
          ]
        },
        {
          "name": "stdout",
          "output_type": "stream",
          "text": [
            "GPU Available: True\n",
            "Version: 2.9.2\n"
          ]
        }
      ],
      "source": [
        "print(\"GPU Available:\", tf.test.is_gpu_available())\n",
        "print(\"Version:\", tf.__version__)"
      ]
    },
    {
      "cell_type": "markdown",
      "metadata": {
        "id": "RMYTM7mrgufm"
      },
      "source": [
        "To extract MFCC features from audio signals we use the Python library [python_speech_features](https://github.com/jameslyons/python_speech_features)."
      ]
    },
    {
      "cell_type": "code",
      "execution_count": 5,
      "metadata": {
        "colab": {
          "base_uri": "https://localhost:8080/"
        },
        "id": "83mmHptRgufv",
        "outputId": "777d5f98-11a7-426a-9436-3d81eec74354"
      },
      "outputs": [
        {
          "name": "stdout",
          "output_type": "stream",
          "text": [
            "Looking in indexes: https://pypi.org/simple, https://us-python.pkg.dev/colab-wheels/public/simple/\n",
            "Collecting python_speech_features\n",
            "  Downloading python_speech_features-0.6.tar.gz (5.6 kB)\n",
            "  Preparing metadata (setup.py) ... \u001b[?25l\u001b[?25hdone\n",
            "Building wheels for collected packages: python_speech_features\n",
            "  Building wheel for python_speech_features (setup.py) ... \u001b[?25l\u001b[?25hdone\n",
            "  Created wheel for python_speech_features: filename=python_speech_features-0.6-py3-none-any.whl size=5889 sha256=b8b15c8c1f3ed1a2e2b4c8501d4c87e7d5054de24aae9110ed8df562ff740eb1\n",
            "  Stored in directory: /root/.cache/pip/wheels/5b/60/87/28af2605138deac93d162904df42b6fdda1dab9b8757c62aa3\n",
            "Successfully built python_speech_features\n",
            "Installing collected packages: python_speech_features\n",
            "Successfully installed python_speech_features-0.6\n",
            "Looking in indexes: https://pypi.org/simple, https://us-python.pkg.dev/colab-wheels/public/simple/\n",
            "Collecting visualkeras\n",
            "  Downloading visualkeras-0.0.2-py3-none-any.whl (12 kB)\n",
            "Requirement already satisfied: numpy>=1.18.1 in /usr/local/lib/python3.8/dist-packages (from visualkeras) (1.21.6)\n",
            "Collecting aggdraw>=1.3.11\n",
            "  Downloading aggdraw-1.3.15-cp38-cp38-manylinux_2_17_x86_64.manylinux2014_x86_64.whl (992 kB)\n",
            "\u001b[2K     \u001b[90m━━━━━━━━━━━━━━━━━━━━━━━━━━━━━━━━━━━━━━\u001b[0m \u001b[32m992.2/992.2 KB\u001b[0m \u001b[31m50.7 MB/s\u001b[0m eta \u001b[36m0:00:00\u001b[0m\n",
            "\u001b[?25hRequirement already satisfied: pillow>=6.2.0 in /usr/local/lib/python3.8/dist-packages (from visualkeras) (7.1.2)\n",
            "Installing collected packages: aggdraw, visualkeras\n",
            "Successfully installed aggdraw-1.3.15 visualkeras-0.0.2\n"
          ]
        }
      ],
      "source": [
        "# uncomment to install python_speech_features\n",
        "! pip install python_speech_features\n",
        "! pip install visualkeras\n",
        "\n",
        "from python_speech_features import logfbank, mfcc, delta\n",
        "import visualkeras\n",
        "\n",
        "import preprocessing_utils\n",
        "from preprocessing_utils import create_dataset, remove_file_starting_with"
      ]
    },
    {
      "cell_type": "markdown",
      "metadata": {
        "id": "7N6hBU0Tgugj"
      },
      "source": [
        "To perform Discrete Wavelet Transform on audio signals we use the Python library [PyWavelets](https://github.com/PyWavelets/pywt)."
      ]
    },
    {
      "cell_type": "code",
      "execution_count": 6,
      "metadata": {
        "colab": {
          "base_uri": "https://localhost:8080/"
        },
        "id": "MhiIcU5Xgugy",
        "outputId": "9e9d509e-f92c-41e8-e7ba-a3cd0b336aba"
      },
      "outputs": [
        {
          "name": "stdout",
          "output_type": "stream",
          "text": [
            "Looking in indexes: https://pypi.org/simple, https://us-python.pkg.dev/colab-wheels/public/simple/\n",
            "Requirement already satisfied: PyWavelets in /usr/local/lib/python3.8/dist-packages (1.4.1)\n",
            "Requirement already satisfied: numpy>=1.17.3 in /usr/local/lib/python3.8/dist-packages (from PyWavelets) (1.21.6)\n"
          ]
        }
      ],
      "source": [
        "# uncomment to install PyWavelets\n",
        "! pip install PyWavelets\n",
        "\n",
        "from pywt import dwt"
      ]
    },
    {
      "cell_type": "markdown",
      "metadata": {
        "id": "5J6-132RguqS"
      },
      "source": [
        "## 1 - Data loading \n",
        "In this project we use the [Speech Commands dataset](https://www.tensorflow.org/datasets/catalog/speech_commands), which contains short (one-second long) audio clips of English commands, stored as audio files in the WAV format. More in detail, the version 0.02 of the dataset contains 105.829 utterances of 35 short words, by thousands of different people. It was released on April 11th 2018 under [Creative Commons BY 4.0 license](https://creativecommons.org/licenses/by/4.0/) and collected using crowdsourcing, through [AIY](https://aiyprojects.withgoogle.com/) by Google. Some of these words are \"yes\", \"no\", \"up\", \"down\", \"left\", \"right\", \"on\", \"off\", \"stop\" and \"go\".\n",
        "\n",
        "### 1.1 - Download data and create data folder\n",
        "We import both a smaller version of the Speech Commands dataset and the full version. The mini dataset can be used for testing and demo reasons, however the entire work will be focused only on the complete dataset (or a subset of it). "
      ]
    },
    {
      "cell_type": "code",
      "execution_count": 7,
      "metadata": {
        "colab": {
          "base_uri": "https://localhost:8080/"
        },
        "id": "qMEgF_1Oguqb",
        "outputId": "b34a8c2f-dd40-4038-dfec-bfe17588456b"
      },
      "outputs": [
        {
          "name": "stdout",
          "output_type": "stream",
          "text": [
            "Downloading data from http://download.tensorflow.org/data/speech_commands_v0.02.tar.gz\n",
            "2428923189/2428923189 [==============================] - 28s 0us/step\n",
            "\n",
            "\n",
            "Working with the full dataset!\n"
          ]
        }
      ],
      "source": [
        "choose_dataset = 2 # 1 for mini, 2 for full\n",
        "download_also_mini = False\n",
        "\n",
        "DATASET_PATH_mini = 'data/mini_speech_commands'\n",
        "DATASET_PATH_full = 'data/full_speech_commands'\n",
        "\n",
        "data_dir_mini = pathlib.Path(DATASET_PATH_mini)\n",
        "if not data_dir_mini.exists() and download_also_mini:\n",
        "  tf.keras.utils.get_file(\n",
        "      'mini_speech_commands.zip',\n",
        "      origin=\"http://storage.googleapis.com/download.tensorflow.org/data/mini_speech_commands.zip\",\n",
        "      extract=True,\n",
        "      cache_dir='.', cache_subdir='data')\n",
        "  print('\\n')\n",
        "  \n",
        "data_dir_full = pathlib.Path(DATASET_PATH_full)\n",
        "if not data_dir_full.exists():\n",
        "  tf.keras.utils.get_file(\n",
        "      'full_speech_commands.zip',\n",
        "      origin=\"http://download.tensorflow.org/data/speech_commands_v0.02.tar.gz\",\n",
        "      extract=True,\n",
        "      cache_dir='.', cache_subdir='data/full_speech_commands')\n",
        "  print('\\n')\n",
        "  \n",
        "if choose_dataset==1:\n",
        "  data_dir = data_dir_mini\n",
        "  data_path = DATASET_PATH_mini\n",
        "  print('Working with the mini dataset!')\n",
        "elif choose_dataset==2:\n",
        "  data_dir = data_dir_full\n",
        "  data_path = DATASET_PATH_full\n",
        "  print('Working with the full dataset!')\n",
        "else:\n",
        "  print(\"Error, 'choose_dataset' must be 1 or 2\")"
      ]
    },
    {
      "cell_type": "markdown",
      "metadata": {
        "id": "TajS9BZPgurM"
      },
      "source": [
        "### 1.1 - Dataset organization\n",
        "The audio files are organized into folders based on the word they contain. For more details see \\[[Warden18](https://arxiv.org/abs/1804.03209)\\].\n",
        "\n",
        "**Mini dataset** <br>\n",
        "The dataset's audio clips are stored in 8 folders corresponding to each speech command: `down`, `go`, `left`, `no`, `right`, `stop`, `up`, `yes`, and `stop`. \n",
        "\n",
        "**Full dataset** <br>\n",
        "The dataset's audio clips are stored in 35 folders corresponding to each speech command: <br>\n",
        "`backward`, `bed`, `bird`, `cat`, `dog`, `down`, `eight`, `five`, `follow`, `forward`, `four`, `go`, `happy`, `house`, `learn`, `left`, `marvin`, `nine`, `no`, `off`, `on`, `one`, `right`, `seven`, `sheila`, `six`, `stop`, `three`, `tree`, `two`, `up`, `visual`, `wow`, `yes`, `zero`\n",
        "\n",
        "\n"
      ]
    },
    {
      "cell_type": "code",
      "execution_count": 8,
      "metadata": {
        "colab": {
          "base_uri": "https://localhost:8080/"
        },
        "id": "gE9p410cgur8",
        "outputId": "b4c39500-8a70-4443-9702-b0e8078cb5b8"
      },
      "outputs": [
        {
          "name": "stdout",
          "output_type": "stream",
          "text": [
            "Commands: ['backward', 'bed', 'bird', 'cat', 'dog', 'down', 'eight', 'five', 'follow', 'forward', 'four', 'go', 'happy', 'house', 'learn', 'left', 'marvin', 'nine', 'no', 'off', 'on', 'one', 'right', 'seven', 'sheila', 'six', 'stop', 'three', 'tree', 'two', 'up', 'visual', 'wow', 'yes', 'zero']\n",
            "\n",
            "Number of commands: 35\n"
          ]
        }
      ],
      "source": [
        "commands = np.array(tf.io.gfile.listdir(str(data_dir)))\n",
        "\n",
        "if choose_dataset==1:\n",
        "  mask = commands != 'README.md'\n",
        "\n",
        "elif choose_dataset==2:\n",
        "  mask = (\n",
        "      np.array(commands != 'README.md')                 &\n",
        "      np.array(commands != 'LICENSE')                   &\n",
        "      np.array(commands != '.DS_Store')                 &\n",
        "      np.array(commands != 'training_list.txt')         &  \n",
        "      np.array(commands != 'validation_list.txt')       &  \n",
        "      np.array(commands != 'testing_list.txt')          &  \n",
        "      np.array(commands != 'full_speech_commands.zip')  &\n",
        "      np.array(commands != '_background_noise_')        \n",
        "  )\n",
        "  \n",
        "commands = sorted(commands[mask])\n",
        "print('Commands:', commands)\n",
        "\n",
        "print('\\nNumber of commands: %i' %len(commands))"
      ]
    },
    {
      "cell_type": "markdown",
      "metadata": {
        "id": "N_HQ4GIRguvw"
      },
      "source": [
        "### 1.2 - Processing of the original audio files \n",
        "The original audio files were captured in a variety of formats and then converted to .WAV file at a 16000 sample rate. The audio was then trimmed to a one second length to align most utterances, using the [extract_loudest_section](https://github.com/petewarden/extract_loudest_section) tool. The audio files were then screened for silence or incorrect words, and arranged into folders by label."
      ]
    },
    {
      "cell_type": "markdown",
      "metadata": {
        "id": "b0tSd_N15atF"
      },
      "source": [
        "### 1.3 - Training, testing and validation sets\n",
        "The text files `validation_list.txt` and `testing_list.txt` available in the [Speech Commands dataset](https://www.tensorflow.org/datasets/catalog/speech_commands) contain the paths to all the files in each set, with each path on a new line. Any files that aren't in either of these lists can be considered to be part of the training set. The validation and test set sizes thus obtained are approximatly 10% of the size of the complete set. For more information on how the partition is made, see the README.md file of the dataset. \n",
        "\n",
        "The following code performs these operations:\n",
        "- Load the reference validation and testing files as separated Pandas dataframe objects. \n",
        "- Store the path of all audio files in a dictionary. \n",
        "- Create the reference file for training data, by storing in a Pandas dataframe object the paths of all files that aren't in the validation or testing list. If it has been already created, we simply import it as we did for the reference validation and testing files. \n",
        "\n",
        "To each file we associate the corresponding label (i.e. the name of the folder it is in), so that we get a proper labeling for each file to be used with our loss function. Of course, we still need to load the actual data."
      ]
    },
    {
      "cell_type": "code",
      "execution_count": 9,
      "metadata": {
        "colab": {
          "base_uri": "https://localhost:8080/"
        },
        "id": "_fygRaSrguv0",
        "outputId": "f34344a6-e615-43c9-c621-7a9f50951890"
      },
      "outputs": [
        {
          "name": "stdout",
          "output_type": "stream",
          "text": [
            "There are 105829 audio files in the dataset\n",
            "File downloaded from GitHub\n"
          ]
        }
      ],
      "source": [
        "training_list_path = data_path + \"/training_list.txt\"\n",
        "\n",
        "reference_df_val = pd.read_csv(data_path+\"/validation_list.txt\", sep=\"/\", header=None, names=['label', 'file'])\n",
        "reference_df_test = pd.read_csv(data_path+\"/testing_list.txt\", sep=\"/\", header=None, names=['label', 'file'])\n",
        "\n",
        "# all audio files\n",
        "all_files = {}\n",
        "for command in commands:\n",
        "    all_files[command] = os.listdir(data_path+'/'+command)\n",
        "    \n",
        "num_files = 0\n",
        "for x_ in all_files.values():\n",
        "    num_files += len(x_)\n",
        "        \n",
        "print('There are %i audio files in the dataset' %num_files)\n",
        "\n",
        "# reference file for training set\n",
        "# if already exists import it\n",
        "if pathlib.Path(training_list_path).exists(): \n",
        "    reference_df_train =  pd.read_csv(data_path+\"/training_list.txt\", sep=\"/\", header=None, names=['label', 'file'])\n",
        "    \n",
        "# else search if it can be dowloaded\n",
        "else: \n",
        "  training_list_url = 'https://raw.githubusercontent.com/NicolaZomer/Keyword_Spotting/main/training_list.txt'\n",
        "  response = requests.get(training_list_url)\n",
        "\n",
        "  if response.status_code == 200:\n",
        "      wget.download(training_list_url, out=str(data_path))\n",
        "      print('File downloaded from GitHub')\n",
        "\n",
        "      reference_df_train =  pd.read_csv(data_path+\"/training_list.txt\", sep=\"/\", header=None, names=['label', 'file'])\n",
        "\n",
        "  else: # create it and store the dataframe as a .txt file; creating the pd object can take some time\n",
        "      print('File not found, error '+str(response.status_code))\n",
        "\n",
        "      reference_df_train = pd.DataFrame(columns=['label', 'file'])\n",
        "      for i, command in enumerate(commands):\n",
        "          print(\"Processing command '%s', %i commands missing...\" %(command, len(commands)-i-1))\n",
        "          for file in all_files[command]:\n",
        "              if file in reference_df_val['file'].values:\n",
        "                  continue\n",
        "              if file in reference_df_test['file'].values:\n",
        "                  continue\n",
        "\n",
        "              reference_df_train.loc[len(reference_df_train)] = [command, file]\n",
        "\n",
        "      print('Done!')\n",
        "      print('\\n')\n",
        "\n",
        "      # store reference_df_train in .txt file\n",
        "      reference_df_train.to_csv(data_path+'/training_list.txt', header=None, index=None, sep='/', mode='a')\n",
        "\n",
        "# print the result\n",
        "# print('----------------------------')\n",
        "# print('TRAINING FILES:')\n",
        "# print(reference_df_train)\n",
        "# print('----------------------------')\n",
        "# print('VALIDATION FILES:')\n",
        "# print(reference_df_val)\n",
        "# print('----------------------------')\n",
        "# print('TESTING FILES:')\n",
        "# print(reference_df_test)"
      ]
    },
    {
      "cell_type": "markdown",
      "metadata": {
        "id": "2naK4mEeguv5"
      },
      "source": [
        "Encode target labels with value between 0 and n_commands-1."
      ]
    },
    {
      "cell_type": "code",
      "execution_count": 10,
      "metadata": {
        "id": "tyTfKJQbguv6"
      },
      "outputs": [],
      "source": [
        "label_to_class = {commands[i]:i for i in range(len(commands))}\n",
        "# label_to_class"
      ]
    },
    {
      "cell_type": "code",
      "execution_count": 11,
      "metadata": {
        "id": "9bEaJKJkguv7"
      },
      "outputs": [],
      "source": [
        "class_to_label = {i:commands[i] for i in range(len(commands))}\n",
        "# class_to_label"
      ]
    },
    {
      "cell_type": "code",
      "execution_count": 12,
      "metadata": {
        "colab": {
          "base_uri": "https://localhost:8080/"
        },
        "id": "8vgwIDfSguv8",
        "outputId": "c033a18d-67ed-49b5-da50-3b964cdb320f"
      },
      "outputs": [
        {
          "name": "stdout",
          "output_type": "stream",
          "text": [
            "TRAINING FILES:\n",
            "          label                   file  class\n",
            "0      backward  0165e0e8_nohash_0.wav      0\n",
            "1      backward  017c4098_nohash_0.wav      0\n",
            "2      backward  017c4098_nohash_1.wav      0\n",
            "3      backward  017c4098_nohash_2.wav      0\n",
            "4      backward  017c4098_nohash_3.wav      0\n",
            "...         ...                    ...    ...\n",
            "84838      zero  ffd2ba2f_nohash_1.wav     34\n",
            "84839      zero  ffd2ba2f_nohash_2.wav     34\n",
            "84840      zero  ffd2ba2f_nohash_3.wav     34\n",
            "84841      zero  ffd2ba2f_nohash_4.wav     34\n",
            "84842      zero  fffcabd1_nohash_0.wav     34\n",
            "\n",
            "[84843 rows x 3 columns]\n",
            "----------------------------\n",
            "VALIDATION FILES:\n",
            "      label                   file  class\n",
            "0     right  a69b9b3e_nohash_0.wav     22\n",
            "1     right  439c84f4_nohash_1.wav     22\n",
            "2     right  409c962a_nohash_1.wav     22\n",
            "3     right  dbaf8fc6_nohash_2.wav     22\n",
            "4     right  a6d586b7_nohash_1.wav     22\n",
            "...     ...                    ...    ...\n",
            "9976   four  d107dc42_nohash_0.wav     10\n",
            "9977   four  ad63d93c_nohash_0.wav     10\n",
            "9978   four  d3831f6a_nohash_1.wav     10\n",
            "9979   four  3c4aa5ef_nohash_3.wav     10\n",
            "9980   four  c6389ab0_nohash_0.wav     10\n",
            "\n",
            "[9981 rows x 3 columns]\n",
            "----------------------------\n",
            "TESTING FILES:\n",
            "       label                   file  class\n",
            "0      right  bb05582b_nohash_3.wav     22\n",
            "1      right  97f4c236_nohash_2.wav     22\n",
            "2      right  f2e59fea_nohash_3.wav     22\n",
            "3      right  fdb5155e_nohash_2.wav     22\n",
            "4      right  dc75148d_nohash_0.wav     22\n",
            "...      ...                    ...    ...\n",
            "11000   four  189cbabe_nohash_2.wav     10\n",
            "11001   four  8fe67225_nohash_3.wav     10\n",
            "11002   four  c9e251d2_nohash_1.wav     10\n",
            "11003   four  0c40e715_nohash_0.wav     10\n",
            "11004   four  8769c34c_nohash_3.wav     10\n",
            "\n",
            "[11005 rows x 3 columns]\n"
          ]
        }
      ],
      "source": [
        "reference_df_train['class'] = reference_df_train['label'].map(label_to_class)\n",
        "reference_df_val['class']   = reference_df_val['label'].map(label_to_class)\n",
        "reference_df_test['class']  = reference_df_test['label'].map(label_to_class)\n",
        "\n",
        "# print the result\n",
        "print('TRAINING FILES:')\n",
        "print(reference_df_train)\n",
        "print('----------------------------')\n",
        "print('VALIDATION FILES:')\n",
        "print(reference_df_val)\n",
        "print('----------------------------')\n",
        "print('TESTING FILES:')\n",
        "print(reference_df_test)"
      ]
    },
    {
      "cell_type": "code",
      "execution_count": 13,
      "metadata": {
        "colab": {
          "base_uri": "https://localhost:8080/"
        },
        "id": "QdOpKmpwguwi",
        "outputId": "8b8c122e-c918-48ae-c15d-e21524265178"
      },
      "outputs": [
        {
          "name": "stdout",
          "output_type": "stream",
          "text": [
            "TRAINING SET\n",
            "\tnumber of audio files: 84843\n",
            "\tpercentage of audio files: 80.17%\n",
            "VALIDATION SET\n",
            "\tnumber of audio files: 9981\n",
            "\tpercentage of audio files: 9.43%\n",
            "TEST SET\n",
            "\tnumber of audio files: 11005\n",
            "\tpercentage of audio files: 10.40%\n"
          ]
        }
      ],
      "source": [
        "print('TRAINING SET')\n",
        "print('\\tnumber of audio files: %i' %len(reference_df_train))\n",
        "print('\\tpercentage of audio files: %.2f%%' %(len(reference_df_train)/num_files*100))\n",
        "\n",
        "print('VALIDATION SET')\n",
        "print('\\tnumber of audio files: %i' %len(reference_df_val))\n",
        "print('\\tpercentage of audio files: %.2f%%' %(len(reference_df_val)/num_files*100))\n",
        "\n",
        "print('TEST SET')\n",
        "print('\\tnumber of audio files: %i' %len(reference_df_test))\n",
        "print('\\tpercentage of audio files: %.2f%%' %(len(reference_df_test)/num_files*100))"
      ]
    },
    {
      "cell_type": "markdown",
      "metadata": {
        "id": "5OntieQwayQN"
      },
      "source": [
        "### 1.4 Noise loading \n",
        "We load here the available noisy audio signals and we defined the object `noise_dict`, which is required by the function `load_and_preprocessing_data` (see next section)."
      ]
    },
    {
      "cell_type": "code",
      "execution_count": 14,
      "metadata": {
        "colab": {
          "base_uri": "https://localhost:8080/"
        },
        "id": "G_Mm2LkLaxUT",
        "outputId": "2b92854a-3562-459b-9204-da817cac4288"
      },
      "outputs": [
        {
          "name": "stderr",
          "output_type": "stream",
          "text": [
            "/content/preprocessing_utils.py:70: WavFileWarning: Chunk (non-data) not understood, skipping it.\n",
            "  _, data = wavfile.read(file_path)\n"
          ]
        }
      ],
      "source": [
        "noise_path = '_background_noise_'\n",
        "\n",
        "# load all noises \n",
        "noise_1 = preprocessing_utils.load_data('doing_the_dishes.wav', noise_path)\n",
        "noise_2 = preprocessing_utils.load_data('dude_miaowing.wav', noise_path)\n",
        "noise_3 = preprocessing_utils.load_data('exercise_bike.wav', noise_path)\n",
        "noise_4 = preprocessing_utils.load_data('pink_noise.wav', noise_path)\n",
        "noise_5 = preprocessing_utils.load_data('running_tap.wav', noise_path)\n",
        "noise_6 = preprocessing_utils.load_data('white_noise.wav', noise_path)\n",
        "\n",
        "noise_dict = {\n",
        "    '1': noise_1, \n",
        "    '2': noise_2, \n",
        "    '3': noise_3, \n",
        "    '4': noise_4, \n",
        "    '5': noise_5, \n",
        "    '6': noise_6\n",
        "}"
      ]
    },
    {
      "attachments": {},
      "cell_type": "markdown",
      "metadata": {
        "id": "af53Vbe4gu07"
      },
      "source": [
        "## 2 - Data Loading using the Dataset API\n",
        "As the dataset is quite large (>5GiB), there is the risk that it will not entirely fit in the memory, plus the preprocessing pipeline would be computationally intensive. For these reasons, we want to implement a proper and optimized data-loading pipeline, as reading the data can be the main bottleneck of the entire training process. This can be done by exploit the [Tensorflow Dataset API](https://www.tensorflow.org/guide/datasets).\n",
        "\n",
        "The main goal of this phase is to create a `tf.data.Dataset` object to efficiently load and preprocess your data. \n",
        "\n",
        "### 2.1 Loading and preprocessing\n",
        "First, to load and preprocess the data, we use the function `load_and_preprocess_data`, defined in the file `preprocessing_utils.py`. This function puts together all loading and preprocessing methods that can be explored in the notebook `B1_data_analysis_and_preprocessing_inspection.ipynb`. \n",
        "\n"
      ]
    },
    {
      "cell_type": "code",
      "execution_count": 15,
      "metadata": {
        "colab": {
          "base_uri": "https://localhost:8080/"
        },
        "id": "XPDcrdmCY17R",
        "outputId": "c6f66440-927e-45cc-a97b-5e756c0e3ece"
      },
      "outputs": [
        {
          "name": "stdout",
          "output_type": "stream",
          "text": [
            "def load_and_preprocess_data(file_name, file_label, data_path_=data_path):\n",
            "\n",
            "    # load data\n",
            "    data = load_data(file_name, file_label, data_path_=data_path_)\n",
            "    \n",
            "    # padding/trimming\n",
            "    data = padding_trimming(data)\n",
            "        \n",
            "    # TensorFlow takes as input 32-bit floating point data\n",
            "    return data.astype(np.float32)\n",
            "\n"
          ]
        }
      ],
      "source": [
        "print(inspect.getsource(preprocessing_utils.load_and_preprocess_data))"
      ]
    },
    {
      "attachments": {},
      "cell_type": "markdown",
      "metadata": {
        "id": "2fIv5VEdgu1a"
      },
      "source": [
        "### 2.2 - Dataset definition\n",
        "We now use the function `create_dataset`, defined in the file `preprocessing_utils.py`. This function initializes a `tf.data.Dataset` object and properly maps all the required processing. More details on this procedure can be found [here](https://www.tensorflow.org/guide/performance/datasets), along with additional tips and tricks for performance optimization."
      ]
    },
    {
      "cell_type": "code",
      "execution_count": 16,
      "metadata": {
        "id": "IpL9t-wfcgSu"
      },
      "outputs": [
        {
          "name": "stdout",
          "output_type": "stream",
          "text": [
            "def create_dataset(df, is_train=True, data_path_=data_path, cache_file=None, shuffle=True, apply_random_shift=False, apply_background_noise=False, noise_dict=None, noise_reduction=0.5, features=1, batch_size=32):\n",
            "    '''\n",
            "    features:\n",
            "    - 1 for MFCC features [delta_order=2] (default)\n",
            "    - 2 for log Mel-filterbank energy features\n",
            "    - 3 for spectrogram\n",
            "    - 4 for Discrete Wavelet Transform + MFCC features\n",
            "    - 5 for MFCC features [delta_order=0]\n",
            "    - 6 for log Mel-filterbank energy features [winlen=32, winstep=15.5, nfilt=64]\n",
            "    - 7 for log Mel-filterbank energy features [winlen=25, winstep=8,    nfilt=80]\n",
            "    '''\n",
            "\n",
            "    # Convert DataFrame to lists\n",
            "    file_names  = df['file'].tolist()\n",
            "    file_labels = df['class'].tolist()\n",
            "\n",
            "    # Create a Dataset object\n",
            "    dataset = tf.data.Dataset.from_tensor_slices((file_names, file_labels))\n",
            "\n",
            "    # Map the \"load_and_preprocess_data\" function\n",
            "    dataset = dataset.map(lambda file_name, file_label: (tf.numpy_function(load_and_preprocess_data, [file_name, file_label, data_path_], tf.float32), file_label), num_parallel_calls=os.cpu_count())\n",
            "\n",
            "    if is_train:\n",
            "\n",
            "        # Cache\n",
            "        if cache_file:\n",
            "            dataset = dataset.cache(filename=cache_file)\n",
            "\n",
            "        # Shuffle\n",
            "        if shuffle:\n",
            "            dataset = dataset.shuffle(buffer_size=len(df))\n",
            "\n",
            "        # Repeat the dataset indefinitely\n",
            "        dataset = dataset.repeat()\n",
            "\n",
            "    # Map the \"random_time_shift\" function\n",
            "    if apply_random_shift:\n",
            "        dataset = dataset.map(lambda data, label: (tf.numpy_function(random_time_shift, [data], tf.float32), label))\n",
            "\n",
            "    # Map the \"background_noise\" function\n",
            "    if apply_background_noise and np.random.uniform() < 0.8:\n",
            "        noise_list = [tf.convert_to_tensor(noise, dtype=tf.float32) for noise in noise_dict.values()]\n",
            "        dataset    = dataset.map(lambda data, label: (tf.numpy_function(background_noise, [data, -1, -1, noise_reduction, *noise_list], tf.float32), label))\n",
            "\n",
            "    # Extract features\n",
            "    if   features == 1:\n",
            "        dataset = dataset.map(lambda data, label: (tf.numpy_function(get_mfcc,        [data], tf.float32), label))\n",
            "    elif features == 2:\n",
            "        dataset = dataset.map(lambda data, label: (tf.numpy_function(get_logfbank,    [data], tf.float32), label))\n",
            "    elif features == 3:\n",
            "        dataset = dataset.map(lambda data, label: (tf.numpy_function(get_spectrogram, [data], tf.float32), label))\n",
            "    elif features == 4:\n",
            "        dataset = dataset.map(lambda data, label: (tf.numpy_function(get_dwt,         [data], tf.float32), label))\n",
            "        dataset = dataset.map(lambda data, label: (tf.numpy_function(get_mfcc,        [data], tf.float32), label))\n",
            "    elif features == 5:\n",
            "        dataset = dataset.map(lambda data, label: (tf.numpy_function(get_mfcc,        [data, 0], tf.float32), label))\n",
            "    elif features == 6:\n",
            "        dataset = dataset.map(lambda data, label: (tf.numpy_function(get_logfbank,    [data, 16000, 32, 15.5, 64], tf.float32), label))\n",
            "    elif features == 7:\n",
            "        dataset = dataset.map(lambda data, label: (tf.numpy_function(get_logfbank,    [data, 16000, 25, 8, 80], tf.float32), label))\n",
            "\n",
            "    if not is_train:\n",
            "\n",
            "        # Cache\n",
            "        if cache_file:\n",
            "            dataset = dataset.cache(filename=cache_file)\n",
            "\n",
            "        # Shuffle\n",
            "        if shuffle:\n",
            "            dataset = dataset.shuffle(buffer_size=len(df))\n",
            "\n",
            "        # Repeat the dataset indefinitely\n",
            "        dataset = dataset.repeat()\n",
            "\n",
            "    # Batch\n",
            "    dataset = dataset.batch(batch_size=batch_size)\n",
            "\n",
            "    # Prefetch\n",
            "    dataset = dataset.prefetch(buffer_size=1)\n",
            "\n",
            "    # Steps\n",
            "    steps = int(np.ceil(len(df) / batch_size))\n",
            "\n",
            "    return dataset, steps\n",
            "\n"
          ]
        }
      ],
      "source": [
        "print(inspect.getsource(preprocessing_utils.create_dataset))"
      ]
    },
    {
      "attachments": {},
      "cell_type": "markdown",
      "metadata": {
        "id": "g7wcCw0Kgu1b"
      },
      "source": [
        "### 2.3 - Dataset initialization\n",
        "Finally, we define the training, validation and testing dataset, applying the above function to each of the corresponding reference dataframes. We also evaluate the number of steps (*train_steps*, *val_steps* and *test_steps*) required to load and process the entire dataset (num. of samples / batch_size).\n",
        "\n",
        "We perform the Bayesian Optimization using the log Mel-filterbank energies, as from some preliminary tests we have seen that they could lead to best performances. For this reason we set `features_to_extract=2`."
      ]
    },
    {
      "cell_type": "code",
      "execution_count": 23,
      "metadata": {
        "id": "i2c5zxUVgu1b"
      },
      "outputs": [],
      "source": [
        "apply_bn = True\n",
        "noise_red = 0.5\n",
        "features_to_extract = 2 # for log Mel-filterbank energy features\n",
        "batch_size = 32\n",
        "\n",
        "train_dataset, train_steps = create_dataset(\n",
        "    reference_df_train,\n",
        "    is_train=True,\n",
        "    cache_file='train_cache',\n",
        "    shuffle=True,\n",
        "    apply_background_noise=apply_bn,\n",
        "    noise_dict=noise_dict,\n",
        "    noise_reduction=noise_red,\n",
        "    features=features_to_extract,\n",
        "    batch_size=batch_size\n",
        ")\n",
        "\n",
        "val_dataset, val_steps = create_dataset(\n",
        "    reference_df_val,\n",
        "    is_train=False,\n",
        "    cache_file='val_cache',\n",
        "    shuffle=True,\n",
        "    apply_background_noise=False,\n",
        "    features=features_to_extract,\n",
        "    batch_size=batch_size\n",
        ")\n",
        "\n",
        "# important! shuffle=False\n",
        "test_dataset, test_steps = create_dataset(\n",
        "    reference_df_test,\n",
        "    is_train=False,\n",
        "    cache_file='test_cache',\n",
        "    shuffle=False,\n",
        "    apply_background_noise=False,\n",
        "    features=features_to_extract,\n",
        "    batch_size=batch_size\n",
        ")"
      ]
    },
    {
      "cell_type": "markdown",
      "metadata": {
        "id": "pAzYaBq6avvO"
      },
      "source": [
        "# Bayesian Optimization"
      ]
    },
    {
      "cell_type": "markdown",
      "metadata": {
        "id": "1dp116A5gu1c"
      },
      "source": [
        "## 3 - BO, introduction\n",
        "Bayesian optimization is a strategy to find the optimum of a black-box function, whose analytic form is not known and which is expensive to evaluate. The optimization is achieved through a sequential data\n",
        "driven scenario, where the goal is to improve the guess of the optimum while being data efficient in terms of how many queries we ask of the black-box. In this case we apply it to find the CNN model parameter values that lead to the best accuracy.\n",
        "\n",
        "For more information, refer to the following references: \n",
        "- [Bayesian optimization with skopt — scikit-optimize 0.8.1 documentation](https://scikit-optimize.github.io/stable/auto_examples/bayesian-optimization.html)\n",
        "- [Bayesian Optimisation: Gaussian processes & Beyond — Haitham Bou Ammar (LinkedIn)](https://www.linkedin.com/posts/haitham-bou-ammar-a723a932_long-bayesian-optimisation-talk-from-simple-activity-6989891577967968256-b6DC?utm_source=share&utm_medium=member_desktop)\n",
        "\n",
        "### 3.0 - Import for BO"
      ]
    },
    {
      "cell_type": "code",
      "execution_count": null,
      "metadata": {
        "colab": {
          "base_uri": "https://localhost:8080/"
        },
        "id": "IavVFHif1vRL",
        "outputId": "d300c548-e70b-40f4-f833-00919fee0226"
      },
      "outputs": [
        {
          "name": "stdout",
          "output_type": "stream",
          "text": [
            "\u001b[?25l     \u001b[90m━━━━━━━━━━━━━━━━━━━━━━━━━━━━━━━━━━━━━━━━\u001b[0m \u001b[32m0.0/100.3 KB\u001b[0m \u001b[31m?\u001b[0m eta \u001b[36m-:--:--\u001b[0m\r\u001b[2K     \u001b[90m━━━━━━━━━━━━━━━━━━━━━━━━━━━━━━━━━━━━━━━\u001b[0m \u001b[32m100.3/100.3 KB\u001b[0m \u001b[31m6.9 MB/s\u001b[0m eta \u001b[36m0:00:00\u001b[0m\n",
            "\u001b[?25h"
          ]
        }
      ],
      "source": [
        "!pip install -q scikit-optimize\n",
        "\n",
        "from skopt.space import Real, Integer\n",
        "from skopt.utils import use_named_args\n",
        "from skopt.plots import plot_convergence \n",
        "\n",
        "from skopt import gp_minimize"
      ]
    },
    {
      "cell_type": "markdown",
      "metadata": {
        "id": "1_ig3uhw1oi7"
      },
      "source": [
        "### 3.1 - Model definition"
      ]
    },
    {
      "cell_type": "code",
      "execution_count": 19,
      "metadata": {
        "id": "bvPRWpCRgu1f"
      },
      "outputs": [],
      "source": [
        "features_to_input = { # input shapes\n",
        "    1 : (99, 39),     # MFCC features with delta\n",
        "    2 : (99, 40),     # log Mel-filterbank energy features\n",
        "    3 : (98, 257),    # spectrogram\n",
        "    4 : (49, 39),     # Discrete Wavelet Transform + MFCC features\n",
        "    5 : (99, 13)      # MFCC features no delta\n",
        "}\n",
        "\n",
        "input_shape = features_to_input[features_to_extract]\n",
        "\n",
        "def custom_cnn_simple(\n",
        "    input_shape, \n",
        "    nf_sp_1, nf_sp_2, nk_sp_l, nk_sp_r, mp_sp, dp_sp, \n",
        "    nf_tp_1, nf_tp_2, nk_tp_l, nk_tp_r, mp_tp_1, mp_tp_2, dp_tp, \n",
        "    dp_fc, lr\n",
        "    ):\n",
        "    '''\n",
        "      4 cnn blocks, 2x pooling, 2x pooling in time\n",
        "    '''\n",
        "\n",
        "    model = tf.keras.models.Sequential(name='custom_cnn')\n",
        "\n",
        "    model.add(tf.keras.layers.Reshape(input_shape=input_shape, target_shape=(input_shape[0], input_shape[1], 1)))\n",
        "    model.add(tf.keras.layers.BatchNormalization())\n",
        "\n",
        "    filters_pool = [nf_sp_1, nf_sp_2]\n",
        "\n",
        "    for num_filters in filters_pool:\n",
        "\n",
        "      model.add(tf.keras.layers.Conv2D(num_filters, kernel_size=(nk_sp_l, nk_sp_r), padding='same'))\n",
        "      model.add(tf.keras.layers.BatchNormalization())\n",
        "      model.add(tf.keras.layers.Activation('relu'))\n",
        "\n",
        "      model.add(tf.keras.layers.MaxPooling2D(pool_size=(mp_sp, mp_sp)))\n",
        "      model.add(tf.keras.layers.Dropout(dp_sp))\n",
        "\n",
        "    filters_pool_in_time = [nf_tp_1, nf_tp_2]\n",
        "\n",
        "    for p, num_filters in zip([mp_tp_1, mp_tp_2], filters_pool_in_time):\n",
        "\n",
        "      model.add(tf.keras.layers.Conv2D(num_filters, kernel_size=(nk_tp_l, nk_tp_r), padding='same'))\n",
        "      model.add(tf.keras.layers.BatchNormalization())\n",
        "      model.add(tf.keras.layers.Activation('relu'))\n",
        "\n",
        "      model.add(tf.keras.layers.MaxPooling2D(pool_size=(p, 1)))\n",
        "      model.add(tf.keras.layers.Dropout(dp_tp))\n",
        "\n",
        "    model.add(tf.keras.layers.Flatten())\n",
        "    model.add(tf.keras.layers.Dropout(dp_fc))\n",
        "    model.add(tf.keras.layers.Dense(256))\n",
        "    model.add(tf.keras.layers.BatchNormalization())\n",
        "    model.add(tf.keras.layers.Activation('relu'))\n",
        "    model.add(tf.keras.layers.Dense(35, activation='softmax'))\n",
        "\n",
        "    model.compile(loss='sparse_categorical_crossentropy', \n",
        "              optimizer=tf.keras.optimizers.Adam(learning_rate=lr),\n",
        "              metrics=[\"sparse_categorical_accuracy\"])\n",
        "\n",
        "    return model\n",
        "\n",
        "model_name = 'custom_cnn_simple'"
      ]
    },
    {
      "cell_type": "markdown",
      "metadata": {
        "id": "tXtyU_GnWTzg"
      },
      "source": [
        "### 3.2 - Search space dimensions and objective function"
      ]
    },
    {
      "cell_type": "code",
      "execution_count": null,
      "metadata": {
        "id": "079jwj07ndiU"
      },
      "outputs": [],
      "source": [
        "search_space  = [\n",
        "    Integer(2, 128, name='nf_sp_1'),\n",
        "    Integer(2, 128, name='nf_sp_2'),\n",
        "    Integer(2, 8, name='nk_sp_l'),\n",
        "    Integer(2, 8, name='nk_sp_r'),\n",
        "    Integer(1, 3, name='mp_sp'),\n",
        "    Real(0.1, 0.5, name='dp_sp'),\n",
        "\n",
        "    Integer(8, 256, name='nf_tp_1'),\n",
        "    Integer(8, 256, name='nf_tp_2'),\n",
        "    Integer(2, 8, name='nk_tp_l'),\n",
        "    Integer(2, 8, name='nk_tp_r'),\n",
        "    Integer(1, 3, name='mp_tp_1'),\n",
        "    Integer(1, 3, name='mp_tp_2'),\n",
        "    Real(0.1, 0.5, name='dp_tp'),\n",
        "\n",
        "    Real(0.1, 0.5, name='dp_fc'),\n",
        "    Real(1e-6, 1e-2, 'log-uniform', name='lr')\n",
        "]"
      ]
    },
    {
      "cell_type": "code",
      "execution_count": null,
      "metadata": {
        "id": "7jlOmoCM61B2"
      },
      "outputs": [],
      "source": [
        "@use_named_args(search_space)\n",
        "def objective_f(nf_sp_1, nf_sp_2, nk_sp_l, nk_sp_r, mp_sp, dp_sp, \n",
        "      nf_tp_1, nf_tp_2, nk_tp_l, nk_tp_r, mp_tp_1, mp_tp_2, dp_tp, \n",
        "      dp_fc, lr):\n",
        "    model = custom_cnn_simple(\n",
        "      input_shape, \n",
        "      nf_sp_1, nf_sp_2, nk_sp_l, nk_sp_r, mp_sp, dp_sp, \n",
        "      nf_tp_1, nf_tp_2, nk_tp_l, nk_tp_r, mp_tp_1, mp_tp_2, dp_tp, \n",
        "      dp_fc, lr\n",
        "    )\n",
        "    \n",
        "    num_epochs = 20\n",
        "\n",
        "    early_stop_callback = tf.keras.callbacks.EarlyStopping(monitor='val_loss', patience=5)\n",
        "    reduce_LR = tf.keras.callbacks.ReduceLROnPlateau(monitor='val_loss', patience=3, verbose=1)\n",
        "    \n",
        "    history = model.fit(\n",
        "                train_dataset,\n",
        "                epochs=num_epochs,\n",
        "                steps_per_epoch=train_steps,\n",
        "                validation_data=val_dataset,\n",
        "                validation_steps=val_steps,\n",
        "                callbacks=[early_stop_callback, reduce_LR], \n",
        "                verbose=0\n",
        "                )\n",
        "    \n",
        "    # get last epoch accuracy and print is\n",
        "    accuracy = history.history['val_sparse_categorical_accuracy'][-1]\n",
        "    \n",
        "    print(\"\\n\\nAccuracy: {0:.2%}\\n\\n\".format(accuracy))\n",
        "\n",
        "    # clean memory: delete model and clean session \n",
        "    del model\n",
        "    \n",
        "    tf.keras.backend.clear_session()\n",
        "\n",
        "    return -accuracy # minus because it returns what we want to minimize"
      ]
    },
    {
      "cell_type": "code",
      "execution_count": null,
      "metadata": {
        "colab": {
          "base_uri": "https://localhost:8080/"
        },
        "id": "gGJ5IAK-7kk6",
        "outputId": "75ea58ef-9269-4d6b-82cf-8fd2e2f3c70d"
      },
      "outputs": [
        {
          "name": "stdout",
          "output_type": "stream",
          "text": [
            "Iteration No: 1 started. Evaluating function at random point.\n"
          ]
        },
        {
          "name": "stderr",
          "output_type": "stream",
          "text": [
            "/usr/local/lib/python3.8/dist-packages/keras/optimizers/optimizer_v2/adam.py:110: UserWarning: The `lr` argument is deprecated, use `learning_rate` instead.\n",
            "  super(Adam, self).__init__(name, **kwargs)\n"
          ]
        },
        {
          "name": "stdout",
          "output_type": "stream",
          "text": [
            "\n",
            "\n",
            "Accuracy: 91.18%\n",
            "\n",
            "\n",
            "Iteration No: 1 ended. Evaluation done at random point.\n",
            "Time taken: 5723.5120\n",
            "Function value obtained: -0.9118\n",
            "Current minimum: -0.9118\n",
            "Iteration No: 2 started. Evaluating function at random point.\n",
            "\n",
            "\n",
            "Accuracy: 67.21%\n",
            "\n",
            "\n",
            "Iteration No: 2 ended. Evaluation done at random point.\n",
            "Time taken: 743.0302\n",
            "Function value obtained: -0.6721\n",
            "Current minimum: -0.9118\n",
            "Iteration No: 3 started. Evaluating function at random point.\n",
            "\n",
            "\n",
            "Accuracy: 80.86%\n",
            "\n",
            "\n",
            "Iteration No: 3 ended. Evaluation done at random point.\n",
            "Time taken: 923.2033\n",
            "Function value obtained: -0.8086\n",
            "Current minimum: -0.9118\n",
            "Iteration No: 4 started. Evaluating function at random point.\n",
            "\n",
            "\n",
            "Accuracy: 87.76%\n",
            "\n",
            "\n",
            "Iteration No: 4 ended. Evaluation done at random point.\n",
            "Time taken: 983.1694\n",
            "Function value obtained: -0.8776\n",
            "Current minimum: -0.9118\n",
            "Iteration No: 5 started. Evaluating function at random point.\n",
            "\n",
            "\n",
            "Accuracy: 67.22%\n",
            "\n",
            "\n",
            "Iteration No: 5 ended. Evaluation done at random point.\n",
            "Time taken: 878.4694\n",
            "Function value obtained: -0.6722\n",
            "Current minimum: -0.9118\n",
            "Iteration No: 6 started. Evaluating function at random point.\n",
            "\n",
            "\n",
            "Accuracy: 47.70%\n",
            "\n",
            "\n",
            "Iteration No: 6 ended. Evaluation done at random point.\n",
            "Time taken: 575.3358\n",
            "Function value obtained: -0.4770\n",
            "Current minimum: -0.9118\n",
            "Iteration No: 7 started. Evaluating function at random point.\n",
            "\n",
            "\n",
            "Accuracy: 14.28%\n",
            "\n",
            "\n",
            "Iteration No: 7 ended. Evaluation done at random point.\n",
            "Time taken: 623.0400\n",
            "Function value obtained: -0.1428\n",
            "Current minimum: -0.9118\n",
            "Iteration No: 8 started. Evaluating function at random point.\n",
            "\n",
            "\n",
            "Accuracy: 85.20%\n",
            "\n",
            "\n",
            "Iteration No: 8 ended. Evaluation done at random point.\n",
            "Time taken: 863.0069\n",
            "Function value obtained: -0.8520\n",
            "Current minimum: -0.9118\n",
            "Iteration No: 9 started. Evaluating function at random point.\n",
            "\n",
            "\n",
            "Accuracy: 90.97%\n",
            "\n",
            "\n",
            "Iteration No: 9 ended. Evaluation done at random point.\n",
            "Time taken: 5784.6899\n",
            "Function value obtained: -0.9097\n",
            "Current minimum: -0.9118\n",
            "Iteration No: 10 started. Evaluating function at random point.\n",
            "\n",
            "\n",
            "Accuracy: 87.36%\n",
            "\n",
            "\n",
            "Iteration No: 10 ended. Evaluation done at random point.\n",
            "Time taken: 404.5852\n",
            "Function value obtained: -0.8736\n",
            "Current minimum: -0.9118\n",
            "Iteration No: 11 started. Searching for the next optimal point.\n"
          ]
        },
        {
          "name": "stderr",
          "output_type": "stream",
          "text": [
            "/usr/local/lib/python3.8/dist-packages/keras/optimizers/optimizer_v2/adam.py:110: UserWarning: The `lr` argument is deprecated, use `learning_rate` instead.\n",
            "  super(Adam, self).__init__(name, **kwargs)\n"
          ]
        },
        {
          "name": "stdout",
          "output_type": "stream",
          "text": [
            "\n",
            "Epoch 15: ReduceLROnPlateau reducing learning rate to 4.05108803533949e-06.\n",
            "\n",
            "Epoch 20: ReduceLROnPlateau reducing learning rate to 4.05108812628896e-07.\n",
            "\n",
            "\n",
            "Accuracy: 91.49%\n",
            "\n",
            "\n",
            "Iteration No: 11 ended. Search finished for the next optimal point.\n",
            "Time taken: 6023.5126\n",
            "Function value obtained: -0.9149\n",
            "Current minimum: -0.9149\n",
            "Iteration No: 12 started. Searching for the next optimal point.\n"
          ]
        },
        {
          "name": "stderr",
          "output_type": "stream",
          "text": [
            "/usr/local/lib/python3.8/dist-packages/keras/optimizers/optimizer_v2/adam.py:110: UserWarning: The `lr` argument is deprecated, use `learning_rate` instead.\n",
            "  super(Adam, self).__init__(name, **kwargs)\n"
          ]
        },
        {
          "name": "stdout",
          "output_type": "stream",
          "text": [
            "\n",
            "\n",
            "Accuracy: 77.46%\n",
            "\n",
            "\n",
            "Iteration No: 12 ended. Search finished for the next optimal point.\n",
            "Time taken: 904.3447\n",
            "Function value obtained: -0.7746\n",
            "Current minimum: -0.9149\n",
            "Iteration No: 13 started. Searching for the next optimal point.\n"
          ]
        },
        {
          "name": "stderr",
          "output_type": "stream",
          "text": [
            "/usr/local/lib/python3.8/dist-packages/keras/optimizers/optimizer_v2/adam.py:110: UserWarning: The `lr` argument is deprecated, use `learning_rate` instead.\n",
            "  super(Adam, self).__init__(name, **kwargs)\n"
          ]
        },
        {
          "name": "stdout",
          "output_type": "stream",
          "text": [
            "\n",
            "\n",
            "Accuracy: 79.45%\n",
            "\n",
            "\n",
            "Iteration No: 13 ended. Search finished for the next optimal point.\n",
            "Time taken: 803.6716\n",
            "Function value obtained: -0.7945\n",
            "Current minimum: -0.9149\n",
            "Iteration No: 14 started. Searching for the next optimal point.\n"
          ]
        },
        {
          "name": "stderr",
          "output_type": "stream",
          "text": [
            "/usr/local/lib/python3.8/dist-packages/keras/optimizers/optimizer_v2/adam.py:110: UserWarning: The `lr` argument is deprecated, use `learning_rate` instead.\n",
            "  super(Adam, self).__init__(name, **kwargs)\n"
          ]
        },
        {
          "name": "stdout",
          "output_type": "stream",
          "text": [
            "\n",
            "\n",
            "Accuracy: 83.74%\n",
            "\n",
            "\n",
            "Iteration No: 14 ended. Search finished for the next optimal point.\n",
            "Time taken: 1044.0244\n",
            "Function value obtained: -0.8374\n",
            "Current minimum: -0.9149\n",
            "Iteration No: 15 started. Searching for the next optimal point.\n"
          ]
        },
        {
          "name": "stderr",
          "output_type": "stream",
          "text": [
            "/usr/local/lib/python3.8/dist-packages/keras/optimizers/optimizer_v2/adam.py:110: UserWarning: The `lr` argument is deprecated, use `learning_rate` instead.\n",
            "  super(Adam, self).__init__(name, **kwargs)\n"
          ]
        },
        {
          "name": "stdout",
          "output_type": "stream",
          "text": [
            "\n",
            "Epoch 18: ReduceLROnPlateau reducing learning rate to 2.9234515750431456e-06.\n",
            "\n",
            "\n",
            "Accuracy: 89.88%\n",
            "\n",
            "\n",
            "Iteration No: 15 ended. Search finished for the next optimal point.\n",
            "Time taken: 6143.5191\n",
            "Function value obtained: -0.8988\n",
            "Current minimum: -0.9149\n",
            "Iteration No: 16 started. Searching for the next optimal point.\n"
          ]
        },
        {
          "name": "stderr",
          "output_type": "stream",
          "text": [
            "/usr/local/lib/python3.8/dist-packages/keras/optimizers/optimizer_v2/adam.py:110: UserWarning: The `lr` argument is deprecated, use `learning_rate` instead.\n",
            "  super(Adam, self).__init__(name, **kwargs)\n"
          ]
        },
        {
          "name": "stdout",
          "output_type": "stream",
          "text": [
            "\n",
            "Epoch 10: ReduceLROnPlateau reducing learning rate to 1.6177868019440213e-06.\n",
            "\n",
            "\n",
            "Accuracy: 31.74%\n",
            "\n",
            "\n",
            "Iteration No: 16 ended. Search finished for the next optimal point.\n",
            "Time taken: 383.4020\n",
            "Function value obtained: -0.3174\n",
            "Current minimum: -0.9149\n",
            "Iteration No: 17 started. Searching for the next optimal point.\n"
          ]
        },
        {
          "name": "stderr",
          "output_type": "stream",
          "text": [
            "/usr/local/lib/python3.8/dist-packages/keras/optimizers/optimizer_v2/adam.py:110: UserWarning: The `lr` argument is deprecated, use `learning_rate` instead.\n",
            "  super(Adam, self).__init__(name, **kwargs)\n"
          ]
        },
        {
          "name": "stdout",
          "output_type": "stream",
          "text": [
            "\n",
            "Epoch 19: ReduceLROnPlateau reducing learning rate to 6.540543108712882e-06.\n",
            "\n",
            "\n",
            "Accuracy: 90.78%\n",
            "\n",
            "\n",
            "Iteration No: 17 ended. Search finished for the next optimal point.\n",
            "Time taken: 743.5392\n",
            "Function value obtained: -0.9078\n",
            "Current minimum: -0.9149\n",
            "Iteration No: 18 started. Searching for the next optimal point.\n"
          ]
        },
        {
          "name": "stderr",
          "output_type": "stream",
          "text": [
            "/usr/local/lib/python3.8/dist-packages/keras/optimizers/optimizer_v2/adam.py:110: UserWarning: The `lr` argument is deprecated, use `learning_rate` instead.\n",
            "  super(Adam, self).__init__(name, **kwargs)\n"
          ]
        },
        {
          "name": "stdout",
          "output_type": "stream",
          "text": [
            "\n",
            "Epoch 8: ReduceLROnPlateau reducing learning rate to 0.00022847854997962714.\n",
            "\n",
            "Epoch 13: ReduceLROnPlateau reducing learning rate to 2.2847854415886105e-05.\n",
            "\n",
            "\n",
            "Accuracy: 91.71%\n",
            "\n",
            "\n",
            "Iteration No: 18 ended. Search finished for the next optimal point.\n",
            "Time taken: 3863.5165\n",
            "Function value obtained: -0.9171\n",
            "Current minimum: -0.9171\n",
            "Iteration No: 19 started. Searching for the next optimal point.\n"
          ]
        },
        {
          "name": "stderr",
          "output_type": "stream",
          "text": [
            "/usr/local/lib/python3.8/dist-packages/keras/optimizers/optimizer_v2/adam.py:110: UserWarning: The `lr` argument is deprecated, use `learning_rate` instead.\n",
            "  super(Adam, self).__init__(name, **kwargs)\n"
          ]
        },
        {
          "name": "stdout",
          "output_type": "stream",
          "text": [
            "\n",
            "Epoch 10: ReduceLROnPlateau reducing learning rate to 2.055695658782497e-05.\n",
            "\n",
            "Epoch 16: ReduceLROnPlateau reducing learning rate to 2.055695586022921e-06.\n",
            "\n",
            "\n",
            "Accuracy: 91.61%\n",
            "\n",
            "\n",
            "Iteration No: 19 ended. Search finished for the next optimal point.\n",
            "Time taken: 4584.9453\n",
            "Function value obtained: -0.9161\n",
            "Current minimum: -0.9171\n",
            "Iteration No: 20 started. Searching for the next optimal point.\n"
          ]
        },
        {
          "name": "stderr",
          "output_type": "stream",
          "text": [
            "/usr/local/lib/python3.8/dist-packages/keras/optimizers/optimizer_v2/adam.py:110: UserWarning: The `lr` argument is deprecated, use `learning_rate` instead.\n",
            "  super(Adam, self).__init__(name, **kwargs)\n"
          ]
        },
        {
          "name": "stdout",
          "output_type": "stream",
          "text": [
            "\n",
            "Epoch 10: ReduceLROnPlateau reducing learning rate to 0.0009554545395076275.\n",
            "\n",
            "Epoch 15: ReduceLROnPlateau reducing learning rate to 9.554545395076276e-05.\n",
            "\n",
            "\n",
            "Accuracy: 89.25%\n",
            "\n",
            "\n",
            "Iteration No: 20 ended. Search finished for the next optimal point.\n",
            "Time taken: 429.8047\n",
            "Function value obtained: -0.8925\n",
            "Current minimum: -0.9171\n",
            "Iteration No: 21 started. Searching for the next optimal point.\n"
          ]
        },
        {
          "name": "stderr",
          "output_type": "stream",
          "text": [
            "/usr/local/lib/python3.8/dist-packages/keras/optimizers/optimizer_v2/adam.py:110: UserWarning: The `lr` argument is deprecated, use `learning_rate` instead.\n",
            "  super(Adam, self).__init__(name, **kwargs)\n"
          ]
        },
        {
          "name": "stdout",
          "output_type": "stream",
          "text": [
            "\n",
            "Epoch 9: ReduceLROnPlateau reducing learning rate to 3.523117047734559e-05.\n",
            "\n",
            "Epoch 14: ReduceLROnPlateau reducing learning rate to 3.5231169022154063e-06.\n",
            "\n",
            "\n",
            "Accuracy: 90.11%\n",
            "\n",
            "\n",
            "Iteration No: 21 ended. Search finished for the next optimal point.\n",
            "Time taken: 3323.4001\n",
            "Function value obtained: -0.9011\n",
            "Current minimum: -0.9171\n",
            "Iteration No: 22 started. Searching for the next optimal point.\n"
          ]
        },
        {
          "name": "stderr",
          "output_type": "stream",
          "text": [
            "/usr/local/lib/python3.8/dist-packages/keras/optimizers/optimizer_v2/adam.py:110: UserWarning: The `lr` argument is deprecated, use `learning_rate` instead.\n",
            "  super(Adam, self).__init__(name, **kwargs)\n"
          ]
        },
        {
          "name": "stdout",
          "output_type": "stream",
          "text": [
            "\n",
            "Epoch 18: ReduceLROnPlateau reducing learning rate to 8.384155808016659e-06.\n",
            "\n",
            "\n",
            "Accuracy: 92.48%\n",
            "\n",
            "\n",
            "Iteration No: 22 ended. Search finished for the next optimal point.\n",
            "Time taken: 5363.9511\n",
            "Function value obtained: -0.9248\n",
            "Current minimum: -0.9248\n",
            "Iteration No: 23 started. Searching for the next optimal point.\n"
          ]
        },
        {
          "name": "stderr",
          "output_type": "stream",
          "text": [
            "/usr/local/lib/python3.8/dist-packages/keras/optimizers/optimizer_v2/adam.py:110: UserWarning: The `lr` argument is deprecated, use `learning_rate` instead.\n",
            "  super(Adam, self).__init__(name, **kwargs)\n"
          ]
        },
        {
          "name": "stdout",
          "output_type": "stream",
          "text": [
            "\n",
            "Epoch 12: ReduceLROnPlateau reducing learning rate to 0.0007373829372227192.\n",
            "\n",
            "Epoch 17: ReduceLROnPlateau reducing learning rate to 7.37382913939655e-05.\n",
            "\n",
            "\n",
            "Accuracy: 93.21%\n",
            "\n",
            "\n",
            "Iteration No: 23 ended. Search finished for the next optimal point.\n",
            "Time taken: 922.0916\n",
            "Function value obtained: -0.9321\n",
            "Current minimum: -0.9321\n",
            "Iteration No: 24 started. Searching for the next optimal point.\n"
          ]
        },
        {
          "name": "stderr",
          "output_type": "stream",
          "text": [
            "/usr/local/lib/python3.8/dist-packages/keras/optimizers/optimizer_v2/adam.py:110: UserWarning: The `lr` argument is deprecated, use `learning_rate` instead.\n",
            "  super(Adam, self).__init__(name, **kwargs)\n"
          ]
        },
        {
          "name": "stdout",
          "output_type": "stream",
          "text": [
            "\n",
            "Epoch 11: ReduceLROnPlateau reducing learning rate to 2.1247580298222603e-05.\n",
            "\n",
            "Epoch 16: ReduceLROnPlateau reducing learning rate to 2.1247580662020484e-06.\n",
            "\n",
            "\n",
            "Accuracy: 92.74%\n",
            "\n",
            "\n",
            "Iteration No: 24 ended. Search finished for the next optimal point.\n",
            "Time taken: 5022.9299\n",
            "Function value obtained: -0.9274\n",
            "Current minimum: -0.9321\n",
            "Iteration No: 25 started. Searching for the next optimal point.\n"
          ]
        },
        {
          "name": "stderr",
          "output_type": "stream",
          "text": [
            "/usr/local/lib/python3.8/dist-packages/keras/optimizers/optimizer_v2/adam.py:110: UserWarning: The `lr` argument is deprecated, use `learning_rate` instead.\n",
            "  super(Adam, self).__init__(name, **kwargs)\n"
          ]
        },
        {
          "name": "stdout",
          "output_type": "stream",
          "text": [
            "\n",
            "\n",
            "Accuracy: 85.61%\n",
            "\n",
            "\n",
            "Iteration No: 25 ended. Search finished for the next optimal point.\n",
            "Time taken: 1043.6623\n",
            "Function value obtained: -0.8561\n",
            "Current minimum: -0.9321\n",
            "Iteration No: 26 started. Searching for the next optimal point.\n"
          ]
        },
        {
          "name": "stderr",
          "output_type": "stream",
          "text": [
            "/usr/local/lib/python3.8/dist-packages/keras/optimizers/optimizer_v2/adam.py:110: UserWarning: The `lr` argument is deprecated, use `learning_rate` instead.\n",
            "  super(Adam, self).__init__(name, **kwargs)\n"
          ]
        },
        {
          "name": "stdout",
          "output_type": "stream",
          "text": [
            "\n",
            "Epoch 10: ReduceLROnPlateau reducing learning rate to 0.0007281574420630933.\n",
            "\n",
            "\n",
            "Accuracy: 92.93%\n",
            "\n",
            "\n",
            "Iteration No: 26 ended. Search finished for the next optimal point.\n",
            "Time taken: 2876.6627\n",
            "Function value obtained: -0.9293\n",
            "Current minimum: -0.9321\n",
            "Iteration No: 27 started. Searching for the next optimal point.\n"
          ]
        },
        {
          "name": "stderr",
          "output_type": "stream",
          "text": [
            "/usr/local/lib/python3.8/dist-packages/keras/optimizers/optimizer_v2/adam.py:110: UserWarning: The `lr` argument is deprecated, use `learning_rate` instead.\n",
            "  super(Adam, self).__init__(name, **kwargs)\n"
          ]
        },
        {
          "name": "stdout",
          "output_type": "stream",
          "text": [
            "\n",
            "Epoch 12: ReduceLROnPlateau reducing learning rate to 1.0061615466838704e-05.\n",
            "\n",
            "Epoch 17: ReduceLROnPlateau reducing learning rate to 1.0061615284939763e-06.\n",
            "\n",
            "\n",
            "Accuracy: 92.47%\n",
            "\n",
            "\n",
            "Iteration No: 27 ended. Search finished for the next optimal point.\n",
            "Time taken: 4732.1137\n",
            "Function value obtained: -0.9247\n",
            "Current minimum: -0.9321\n",
            "Iteration No: 28 started. Searching for the next optimal point.\n"
          ]
        },
        {
          "name": "stderr",
          "output_type": "stream",
          "text": [
            "/usr/local/lib/python3.8/dist-packages/keras/optimizers/optimizer_v2/adam.py:110: UserWarning: The `lr` argument is deprecated, use `learning_rate` instead.\n",
            "  super(Adam, self).__init__(name, **kwargs)\n"
          ]
        },
        {
          "name": "stdout",
          "output_type": "stream",
          "text": [
            "\n",
            "Epoch 9: ReduceLROnPlateau reducing learning rate to 0.0009999999776482583.\n",
            "\n",
            "Epoch 13: ReduceLROnPlateau reducing learning rate to 9.999999310821295e-05.\n",
            "\n",
            "\n",
            "Accuracy: 92.61%\n",
            "\n",
            "\n",
            "Iteration No: 28 ended. Search finished for the next optimal point.\n",
            "Time taken: 3220.7459\n",
            "Function value obtained: -0.9261\n",
            "Current minimum: -0.9321\n",
            "Iteration No: 29 started. Searching for the next optimal point.\n"
          ]
        },
        {
          "name": "stderr",
          "output_type": "stream",
          "text": [
            "/usr/local/lib/python3.8/dist-packages/keras/optimizers/optimizer_v2/adam.py:110: UserWarning: The `lr` argument is deprecated, use `learning_rate` instead.\n",
            "  super(Adam, self).__init__(name, **kwargs)\n"
          ]
        },
        {
          "name": "stdout",
          "output_type": "stream",
          "text": [
            "\n",
            "Epoch 7: ReduceLROnPlateau reducing learning rate to 0.00017483937554061413.\n",
            "\n",
            "\n",
            "Accuracy: 92.55%\n",
            "\n",
            "\n",
            "Iteration No: 29 ended. Search finished for the next optimal point.\n",
            "Time taken: 6507.9529\n",
            "Function value obtained: -0.9255\n",
            "Current minimum: -0.9321\n",
            "Iteration No: 30 started. Searching for the next optimal point.\n"
          ]
        },
        {
          "name": "stderr",
          "output_type": "stream",
          "text": [
            "/usr/local/lib/python3.8/dist-packages/keras/optimizers/optimizer_v2/adam.py:110: UserWarning: The `lr` argument is deprecated, use `learning_rate` instead.\n",
            "  super(Adam, self).__init__(name, **kwargs)\n"
          ]
        },
        {
          "name": "stdout",
          "output_type": "stream",
          "text": [
            "\n",
            "Epoch 13: ReduceLROnPlateau reducing learning rate to 0.0006198943126946688.\n",
            "\n",
            "\n",
            "Accuracy: 89.50%\n",
            "\n",
            "\n",
            "Iteration No: 30 ended. Search finished for the next optimal point.\n",
            "Time taken: 470.8903\n",
            "Function value obtained: -0.8950\n",
            "Current minimum: -0.9321\n"
          ]
        }
      ],
      "source": [
        "bo_result = gp_minimize(func=objective_f,\n",
        "                            dimensions=search_space,\n",
        "                            n_calls=30,\n",
        "                            verbose=True)"
      ]
    },
    {
      "cell_type": "code",
      "execution_count": null,
      "metadata": {
        "colab": {
          "base_uri": "https://localhost:8080/"
        },
        "id": "hxXDicpT7rbN",
        "outputId": "b08cefe8-09ed-49c8-8052-d1c68db053c6"
      },
      "outputs": [
        {
          "name": "stdout",
          "output_type": "stream",
          "text": [
            "Parameters obtained via the Bayesian Optimization:\n",
            "\n",
            "nf_sp_1 = 48\n",
            "nf_sp_2 = 30\n",
            "nk_sp_l = 8\n",
            "nk_sp_r = 3\n",
            "mp_sp = 2\n",
            "dp_sp = 0.3208725109346078\n",
            "nf_tp_1 = 213\n",
            "nf_tp_2 = 70\n",
            "nk_tp_l = 6\n",
            "nk_tp_r = 8\n",
            "mp_tp_1 = 3\n",
            "mp_tp_2 = 1\n",
            "dp_tp = 0.29021674764792915\n",
            "dp_fc = 0.17477829885526042\n",
            "lr = 0.0073738292402841825\n"
          ]
        }
      ],
      "source": [
        "bo_parameters = {p.name: value for p, value in zip(search_space, bo_result.x)}\n",
        "print('Parameters obtained via the Bayesian Optimization:\\n')\n",
        "\n",
        "for i in bo_parameters:\n",
        "  print(i, '=', bo_parameters[i])\n",
        "\n",
        "# print('\\n')\n",
        "# plot_convergence(bo_result)\n",
        "# plt.show()"
      ]
    },
    {
      "cell_type": "code",
      "execution_count": null,
      "metadata": {
        "colab": {
          "base_uri": "https://localhost:8080/",
          "height": 630
        },
        "id": "9Qed5-lMu-uR",
        "outputId": "2c80cc15-2b13-41b4-ae06-1670082765ff"
      },
      "outputs": [
        {
          "data": {
            "image/png": "[encoded data removed]",
            "text/plain": [
              "<Figure size 1008x720 with 1 Axes>"
            ]
          },
          "metadata": {
            "needs_background": "light"
          },
          "output_type": "display_data"
        }
      ],
      "source": [
        "plt.rcParams[\"figure.figsize\"] = (14,10)\n",
        "plot_convergence(bo_result)\n",
        "plt.savefig('bayesian_optimization.svg', dpi=300, facecolor='white')"
      ]
    },
    {
      "cell_type": "markdown",
      "metadata": {
        "id": "-khCC16dgu2K"
      },
      "source": [
        "## 4 - Best model, training and testing\n"
      ]
    },
    {
      "cell_type": "markdown",
      "metadata": {
        "id": "cUkhIoN8Y32y"
      },
      "source": [
        "### 4.0 - Best model import"
      ]
    },
    {
      "cell_type": "code",
      "execution_count": 20,
      "metadata": {
        "colab": {
          "base_uri": "https://localhost:8080/",
          "height": 1000
        },
        "id": "6SEkoJxU9CgE",
        "outputId": "d39adf09-32b8-4c51-9a0a-1ca027081932"
      },
      "outputs": [
        {
          "name": "stdout",
          "output_type": "stream",
          "text": [
            "Model: \"custom_cnn\"\n",
            "_________________________________________________________________\n",
            " Layer (type)                Output Shape              Param #   \n",
            "=================================================================\n",
            " reshape (Reshape)           (None, 99, 40, 1)         0         \n",
            "                                                                 \n",
            " batch_normalization (BatchN  (None, 99, 40, 1)        4         \n",
            " ormalization)                                                   \n",
            "                                                                 \n",
            " conv2d (Conv2D)             (None, 99, 40, 48)        1200      \n",
            "                                                                 \n",
            " batch_normalization_1 (Batc  (None, 99, 40, 48)       192       \n",
            " hNormalization)                                                 \n",
            "                                                                 \n",
            " activation (Activation)     (None, 99, 40, 48)        0         \n",
            "                                                                 \n",
            " max_pooling2d (MaxPooling2D  (None, 49, 20, 48)       0         \n",
            " )                                                               \n",
            "                                                                 \n",
            " dropout (Dropout)           (None, 49, 20, 48)        0         \n",
            "                                                                 \n",
            " conv2d_1 (Conv2D)           (None, 49, 20, 32)        36896     \n",
            "                                                                 \n",
            " batch_normalization_2 (Batc  (None, 49, 20, 32)       128       \n",
            " hNormalization)                                                 \n",
            "                                                                 \n",
            " activation_1 (Activation)   (None, 49, 20, 32)        0         \n",
            "                                                                 \n",
            " max_pooling2d_1 (MaxPooling  (None, 24, 10, 32)       0         \n",
            " 2D)                                                             \n",
            "                                                                 \n",
            " dropout_1 (Dropout)         (None, 24, 10, 32)        0         \n",
            "                                                                 \n",
            " conv2d_2 (Conv2D)           (None, 24, 10, 128)       102528    \n",
            "                                                                 \n",
            " batch_normalization_3 (Batc  (None, 24, 10, 128)      512       \n",
            " hNormalization)                                                 \n",
            "                                                                 \n",
            " activation_2 (Activation)   (None, 24, 10, 128)       0         \n",
            "                                                                 \n",
            " max_pooling2d_2 (MaxPooling  (None, 8, 10, 128)       0         \n",
            " 2D)                                                             \n",
            "                                                                 \n",
            " dropout_2 (Dropout)         (None, 8, 10, 128)        0         \n",
            "                                                                 \n",
            " conv2d_3 (Conv2D)           (None, 8, 10, 64)         204864    \n",
            "                                                                 \n",
            " batch_normalization_4 (Batc  (None, 8, 10, 64)        256       \n",
            " hNormalization)                                                 \n",
            "                                                                 \n",
            " activation_3 (Activation)   (None, 8, 10, 64)         0         \n",
            "                                                                 \n",
            " max_pooling2d_3 (MaxPooling  (None, 8, 10, 64)        0         \n",
            " 2D)                                                             \n",
            "                                                                 \n",
            " dropout_3 (Dropout)         (None, 8, 10, 64)         0         \n",
            "                                                                 \n",
            " flatten (Flatten)           (None, 5120)              0         \n",
            "                                                                 \n",
            " dropout_4 (Dropout)         (None, 5120)              0         \n",
            "                                                                 \n",
            " dense (Dense)               (None, 256)               1310976   \n",
            "                                                                 \n",
            " batch_normalization_5 (Batc  (None, 256)              1024      \n",
            " hNormalization)                                                 \n",
            "                                                                 \n",
            " activation_4 (Activation)   (None, 256)               0         \n",
            "                                                                 \n",
            " dense_1 (Dense)             (None, 35)                8995      \n",
            "                                                                 \n",
            "=================================================================\n",
            "Total params: 1,667,575\n",
            "Trainable params: 1,666,517\n",
            "Non-trainable params: 1,058\n",
            "_________________________________________________________________\n"
          ]
        },
        {
          "data": {
            "image/png": "[encoded data removed]",
            "text/plain": [
              "<PIL.Image.Image image mode=RGBA size=1697x292 at 0x7FAD5C9F73A0>"
            ]
          },
          "execution_count": 20,
          "metadata": {},
          "output_type": "execute_result"
        }
      ],
      "source": [
        "bo_params_redefined = [48, 32, 8, 3, 2, 0.3, 128, 64, 5, 5, 3, 1, 0.3, 0.2, 0.01]\n",
        "\n",
        "model = custom_cnn_simple(input_shape, *bo_params_redefined)\n",
        "model_name = 'custom_cnn_simple'\n",
        "\n",
        "model.compile(optimizer=\"adam\", loss=\"sparse_categorical_crossentropy\", metrics=[\"sparse_categorical_accuracy\"])\n",
        "model.summary()\n",
        "\n",
        "visualkeras.layered_view(model)"
      ]
    },
    {
      "cell_type": "markdown",
      "metadata": {
        "id": "6AOKfTzRgu2Y"
      },
      "source": [
        "### 4.1 - Model training\n",
        "At this point we can train the model for some epochs."
      ]
    },
    {
      "cell_type": "code",
      "execution_count": null,
      "metadata": {
        "colab": {
          "base_uri": "https://localhost:8080/"
        },
        "id": "SUAN7oqp9dN3",
        "outputId": "010dd00b-0de2-4956-8de9-3abbbb2f1dbf"
      },
      "outputs": [
        {
          "name": "stdout",
          "output_type": "stream",
          "text": [
            "Epoch 1/30\n",
            "2652/2652 [==============================] - 40s 14ms/step - loss: 1.1444 - sparse_categorical_accuracy: 0.6641 - val_loss: 0.5291 - val_sparse_categorical_accuracy: 0.8412 - lr: 0.0010\n",
            "Epoch 2/30\n",
            "2652/2652 [==============================] - 35s 13ms/step - loss: 0.6201 - sparse_categorical_accuracy: 0.8126 - val_loss: 0.4425 - val_sparse_categorical_accuracy: 0.8668 - lr: 0.0010\n",
            "Epoch 3/30\n",
            "2652/2652 [==============================] - 35s 13ms/step - loss: 0.5141 - sparse_categorical_accuracy: 0.8426 - val_loss: 0.4123 - val_sparse_categorical_accuracy: 0.8733 - lr: 0.0010\n",
            "Epoch 4/30\n",
            "2652/2652 [==============================] - 38s 14ms/step - loss: 0.4508 - sparse_categorical_accuracy: 0.8618 - val_loss: 0.3423 - val_sparse_categorical_accuracy: 0.8975 - lr: 0.0010\n",
            "Epoch 5/30\n",
            "2652/2652 [==============================] - 36s 14ms/step - loss: 0.4107 - sparse_categorical_accuracy: 0.8743 - val_loss: 0.3472 - val_sparse_categorical_accuracy: 0.8947 - lr: 0.0010\n",
            "Epoch 6/30\n",
            "2652/2652 [==============================] - 40s 15ms/step - loss: 0.3765 - sparse_categorical_accuracy: 0.8838 - val_loss: 0.3327 - val_sparse_categorical_accuracy: 0.8976 - lr: 0.0010\n",
            "Epoch 7/30\n",
            "2652/2652 [==============================] - 39s 15ms/step - loss: 0.3540 - sparse_categorical_accuracy: 0.8898 - val_loss: 0.3171 - val_sparse_categorical_accuracy: 0.9039 - lr: 0.0010\n",
            "Epoch 8/30\n",
            "2652/2652 [==============================] - 38s 14ms/step - loss: 0.3305 - sparse_categorical_accuracy: 0.8967 - val_loss: 0.2907 - val_sparse_categorical_accuracy: 0.9131 - lr: 0.0010\n",
            "Epoch 9/30\n",
            "2652/2652 [==============================] - 36s 14ms/step - loss: 0.3141 - sparse_categorical_accuracy: 0.9017 - val_loss: 0.2978 - val_sparse_categorical_accuracy: 0.9120 - lr: 0.0010\n",
            "Epoch 10/30\n",
            "2652/2652 [==============================] - 38s 14ms/step - loss: 0.2982 - sparse_categorical_accuracy: 0.9067 - val_loss: 0.2887 - val_sparse_categorical_accuracy: 0.9155 - lr: 0.0010\n",
            "Epoch 11/30\n",
            "2652/2652 [==============================] - 36s 14ms/step - loss: 0.2826 - sparse_categorical_accuracy: 0.9111 - val_loss: 0.2891 - val_sparse_categorical_accuracy: 0.9141 - lr: 0.0010\n",
            "Epoch 12/30\n",
            "2652/2652 [==============================] - 37s 14ms/step - loss: 0.2697 - sparse_categorical_accuracy: 0.9146 - val_loss: 0.2834 - val_sparse_categorical_accuracy: 0.9169 - lr: 0.0010\n",
            "Epoch 13/30\n",
            "2652/2652 [==============================] - 36s 14ms/step - loss: 0.2596 - sparse_categorical_accuracy: 0.9178 - val_loss: 0.3095 - val_sparse_categorical_accuracy: 0.9087 - lr: 0.0010\n",
            "Epoch 14/30\n",
            "2652/2652 [==============================] - 36s 14ms/step - loss: 0.2523 - sparse_categorical_accuracy: 0.9203 - val_loss: 0.3024 - val_sparse_categorical_accuracy: 0.9141 - lr: 0.0010\n",
            "Epoch 15/30\n",
            "2651/2652 [============================>.] - ETA: 0s - loss: 0.2418 - sparse_categorical_accuracy: 0.9232\n",
            "Epoch 15: ReduceLROnPlateau reducing learning rate to 0.00010000000474974513.\n",
            "2652/2652 [==============================] - 35s 13ms/step - loss: 0.2418 - sparse_categorical_accuracy: 0.9232 - val_loss: 0.3034 - val_sparse_categorical_accuracy: 0.9150 - lr: 0.0010\n",
            "Epoch 16/30\n",
            "2652/2652 [==============================] - 37s 14ms/step - loss: 0.1975 - sparse_categorical_accuracy: 0.9374 - val_loss: 0.2693 - val_sparse_categorical_accuracy: 0.9257 - lr: 1.0000e-04\n",
            "Epoch 17/30\n",
            "2652/2652 [==============================] - 36s 13ms/step - loss: 0.1841 - sparse_categorical_accuracy: 0.9414 - val_loss: 0.2658 - val_sparse_categorical_accuracy: 0.9266 - lr: 1.0000e-04\n",
            "Epoch 18/30\n",
            "2652/2652 [==============================] - 36s 13ms/step - loss: 0.1791 - sparse_categorical_accuracy: 0.9428 - val_loss: 0.2693 - val_sparse_categorical_accuracy: 0.9265 - lr: 1.0000e-04\n",
            "Epoch 19/30\n",
            "2652/2652 [==============================] - 37s 14ms/step - loss: 0.1733 - sparse_categorical_accuracy: 0.9452 - val_loss: 0.2691 - val_sparse_categorical_accuracy: 0.9265 - lr: 1.0000e-04\n",
            "Epoch 20/30\n",
            "2651/2652 [============================>.] - ETA: 0s - loss: 0.1711 - sparse_categorical_accuracy: 0.9457\n",
            "Epoch 20: ReduceLROnPlateau reducing learning rate to 1.0000000474974514e-05.\n",
            "2652/2652 [==============================] - 36s 14ms/step - loss: 0.1710 - sparse_categorical_accuracy: 0.9457 - val_loss: 0.2680 - val_sparse_categorical_accuracy: 0.9265 - lr: 1.0000e-04\n",
            "Epoch 21/30\n",
            "2652/2652 [==============================] - 36s 13ms/step - loss: 0.1665 - sparse_categorical_accuracy: 0.9471 - val_loss: 0.2666 - val_sparse_categorical_accuracy: 0.9266 - lr: 1.0000e-05\n",
            "Epoch 22/30\n",
            "2652/2652 [==============================] - 36s 14ms/step - loss: 0.1652 - sparse_categorical_accuracy: 0.9477 - val_loss: 0.2661 - val_sparse_categorical_accuracy: 0.9276 - lr: 1.0000e-05\n",
            "\n",
            "--- Training time: 811.8110883235931 seconds ---\n"
          ]
        }
      ],
      "source": [
        "import time\n",
        "start_time = time.time()\n",
        "\n",
        "num_epochs = 30\n",
        "\n",
        "early_stop_callback = tf.keras.callbacks.EarlyStopping(monitor='val_loss', patience=5)\n",
        "\n",
        "reduce_LR = tf.keras.callbacks.ReduceLROnPlateau(monitor='val_loss', patience=3, verbose=1)\n",
        "\n",
        "model_checkpoint = tf.keras.callbacks.ModelCheckpoint(f'trained_models/{model_name}.h5', monitor='val_loss', save_best_only=True)\n",
        "\n",
        "history = model.fit(\n",
        "                train_dataset,\n",
        "                epochs=num_epochs,\n",
        "                steps_per_epoch=train_steps,\n",
        "                validation_data=val_dataset,\n",
        "                validation_steps=val_steps,\n",
        "                callbacks=[early_stop_callback, model_checkpoint, reduce_LR], \n",
        "                verbose=1\n",
        "                )\n",
        "\n",
        "print(\"\\n--- Training time: %s seconds ---\" % (time.time() - start_time))"
      ]
    },
    {
      "cell_type": "code",
      "execution_count": null,
      "metadata": {
        "colab": {
          "base_uri": "https://localhost:8080/",
          "height": 756
        },
        "id": "g6xpCJ7Tgu2f",
        "outputId": "6327917f-9af2-4613-f45d-435d9c6b0987"
      },
      "outputs": [
        {
          "name": "stdout",
          "output_type": "stream",
          "text": [
            "Training history:\n"
          ]
        },
        {
          "data": {
            "text/html": [
              "\n",
              "  <div id=\"df-736e5b7a-3721-4b1f-8f25-b50ae059f8a1\">\n",
              "    <div class=\"colab-df-container\">\n",
              "      <div>\n",
              "<style scoped>\n",
              "    .dataframe tbody tr th:only-of-type {\n",
              "        vertical-align: middle;\n",
              "    }\n",
              "\n",
              "    .dataframe tbody tr th {\n",
              "        vertical-align: top;\n",
              "    }\n",
              "\n",
              "    .dataframe thead th {\n",
              "        text-align: right;\n",
              "    }\n",
              "</style>\n",
              "<table border=\"1\" class=\"dataframe\">\n",
              "  <thead>\n",
              "    <tr style=\"text-align: right;\">\n",
              "      <th></th>\n",
              "      <th>loss</th>\n",
              "      <th>sparse_categorical_accuracy</th>\n",
              "      <th>val_loss</th>\n",
              "      <th>val_sparse_categorical_accuracy</th>\n",
              "      <th>lr</th>\n",
              "    </tr>\n",
              "  </thead>\n",
              "  <tbody>\n",
              "    <tr>\n",
              "      <th>0</th>\n",
              "      <td>1.144419</td>\n",
              "      <td>0.664098</td>\n",
              "      <td>0.529104</td>\n",
              "      <td>0.841246</td>\n",
              "      <td>0.00100</td>\n",
              "    </tr>\n",
              "    <tr>\n",
              "      <th>1</th>\n",
              "      <td>0.620087</td>\n",
              "      <td>0.812571</td>\n",
              "      <td>0.442531</td>\n",
              "      <td>0.866787</td>\n",
              "      <td>0.00100</td>\n",
              "    </tr>\n",
              "    <tr>\n",
              "      <th>2</th>\n",
              "      <td>0.514116</td>\n",
              "      <td>0.842607</td>\n",
              "      <td>0.412306</td>\n",
              "      <td>0.873297</td>\n",
              "      <td>0.00100</td>\n",
              "    </tr>\n",
              "    <tr>\n",
              "      <th>3</th>\n",
              "      <td>0.450812</td>\n",
              "      <td>0.861814</td>\n",
              "      <td>0.342255</td>\n",
              "      <td>0.897536</td>\n",
              "      <td>0.00100</td>\n",
              "    </tr>\n",
              "    <tr>\n",
              "      <th>4</th>\n",
              "      <td>0.410683</td>\n",
              "      <td>0.874317</td>\n",
              "      <td>0.347168</td>\n",
              "      <td>0.894732</td>\n",
              "      <td>0.00100</td>\n",
              "    </tr>\n",
              "    <tr>\n",
              "      <th>5</th>\n",
              "      <td>0.376468</td>\n",
              "      <td>0.883779</td>\n",
              "      <td>0.332693</td>\n",
              "      <td>0.897636</td>\n",
              "      <td>0.00100</td>\n",
              "    </tr>\n",
              "    <tr>\n",
              "      <th>6</th>\n",
              "      <td>0.354026</td>\n",
              "      <td>0.889812</td>\n",
              "      <td>0.317141</td>\n",
              "      <td>0.903946</td>\n",
              "      <td>0.00100</td>\n",
              "    </tr>\n",
              "    <tr>\n",
              "      <th>7</th>\n",
              "      <td>0.330532</td>\n",
              "      <td>0.896658</td>\n",
              "      <td>0.290663</td>\n",
              "      <td>0.913061</td>\n",
              "      <td>0.00100</td>\n",
              "    </tr>\n",
              "    <tr>\n",
              "      <th>8</th>\n",
              "      <td>0.314081</td>\n",
              "      <td>0.901702</td>\n",
              "      <td>0.297845</td>\n",
              "      <td>0.911959</td>\n",
              "      <td>0.00100</td>\n",
              "    </tr>\n",
              "    <tr>\n",
              "      <th>9</th>\n",
              "      <td>0.298196</td>\n",
              "      <td>0.906710</td>\n",
              "      <td>0.288654</td>\n",
              "      <td>0.915465</td>\n",
              "      <td>0.00100</td>\n",
              "    </tr>\n",
              "    <tr>\n",
              "      <th>10</th>\n",
              "      <td>0.282642</td>\n",
              "      <td>0.911117</td>\n",
              "      <td>0.289111</td>\n",
              "      <td>0.914062</td>\n",
              "      <td>0.00100</td>\n",
              "    </tr>\n",
              "    <tr>\n",
              "      <th>11</th>\n",
              "      <td>0.269650</td>\n",
              "      <td>0.914640</td>\n",
              "      <td>0.283418</td>\n",
              "      <td>0.916867</td>\n",
              "      <td>0.00100</td>\n",
              "    </tr>\n",
              "    <tr>\n",
              "      <th>12</th>\n",
              "      <td>0.259555</td>\n",
              "      <td>0.917751</td>\n",
              "      <td>0.309484</td>\n",
              "      <td>0.908654</td>\n",
              "      <td>0.00100</td>\n",
              "    </tr>\n",
              "    <tr>\n",
              "      <th>13</th>\n",
              "      <td>0.252265</td>\n",
              "      <td>0.920320</td>\n",
              "      <td>0.302379</td>\n",
              "      <td>0.914062</td>\n",
              "      <td>0.00100</td>\n",
              "    </tr>\n",
              "    <tr>\n",
              "      <th>14</th>\n",
              "      <td>0.241811</td>\n",
              "      <td>0.923195</td>\n",
              "      <td>0.303385</td>\n",
              "      <td>0.914964</td>\n",
              "      <td>0.00100</td>\n",
              "    </tr>\n",
              "    <tr>\n",
              "      <th>15</th>\n",
              "      <td>0.197460</td>\n",
              "      <td>0.937429</td>\n",
              "      <td>0.269314</td>\n",
              "      <td>0.925681</td>\n",
              "      <td>0.00010</td>\n",
              "    </tr>\n",
              "    <tr>\n",
              "      <th>16</th>\n",
              "      <td>0.184078</td>\n",
              "      <td>0.941447</td>\n",
              "      <td>0.265811</td>\n",
              "      <td>0.926583</td>\n",
              "      <td>0.00010</td>\n",
              "    </tr>\n",
              "    <tr>\n",
              "      <th>17</th>\n",
              "      <td>0.179149</td>\n",
              "      <td>0.942814</td>\n",
              "      <td>0.269334</td>\n",
              "      <td>0.926482</td>\n",
              "      <td>0.00010</td>\n",
              "    </tr>\n",
              "    <tr>\n",
              "      <th>18</th>\n",
              "      <td>0.173298</td>\n",
              "      <td>0.945195</td>\n",
              "      <td>0.269115</td>\n",
              "      <td>0.926482</td>\n",
              "      <td>0.00010</td>\n",
              "    </tr>\n",
              "    <tr>\n",
              "      <th>19</th>\n",
              "      <td>0.171043</td>\n",
              "      <td>0.945666</td>\n",
              "      <td>0.268033</td>\n",
              "      <td>0.926482</td>\n",
              "      <td>0.00010</td>\n",
              "    </tr>\n",
              "    <tr>\n",
              "      <th>20</th>\n",
              "      <td>0.166475</td>\n",
              "      <td>0.947127</td>\n",
              "      <td>0.266620</td>\n",
              "      <td>0.926583</td>\n",
              "      <td>0.00001</td>\n",
              "    </tr>\n",
              "    <tr>\n",
              "      <th>21</th>\n",
              "      <td>0.165161</td>\n",
              "      <td>0.947728</td>\n",
              "      <td>0.266080</td>\n",
              "      <td>0.927584</td>\n",
              "      <td>0.00001</td>\n",
              "    </tr>\n",
              "  </tbody>\n",
              "</table>\n",
              "</div>\n",
              "      <button class=\"colab-df-convert\" onclick=\"convertToInteractive('df-736e5b7a-3721-4b1f-8f25-b50ae059f8a1')\"\n",
              "              title=\"Convert this dataframe to an interactive table.\"\n",
              "              style=\"display:none;\">\n",
              "        \n",
              "  <svg xmlns=\"http://www.w3.org/2000/svg\" height=\"24px\"viewBox=\"0 0 24 24\"\n",
              "       width=\"24px\">\n",
              "    <path d=\"M0 0h24v24H0V0z\" fill=\"none\"/>\n",
              "    <path d=\"M18.56 5.44l.94 2.06.94-2.06 2.06-.94-2.06-.94-.94-2.06-.94 2.06-2.06.94zm-11 1L8.5 8.5l.94-2.06 2.06-.94-2.06-.94L8.5 2.5l-.94 2.06-2.06.94zm10 10l.94 2.06.94-2.06 2.06-.94-2.06-.94-.94-2.06-.94 2.06-2.06.94z\"/><path d=\"M17.41 7.96l-1.37-1.37c-.4-.4-.92-.59-1.43-.59-.52 0-1.04.2-1.43.59L10.3 9.45l-7.72 7.72c-.78.78-.78 2.05 0 2.83L4 21.41c.39.39.9.59 1.41.59.51 0 1.02-.2 1.41-.59l7.78-7.78 2.81-2.81c.8-.78.8-2.07 0-2.86zM5.41 20L4 18.59l7.72-7.72 1.47 1.35L5.41 20z\"/>\n",
              "  </svg>\n",
              "      </button>\n",
              "      \n",
              "  <style>\n",
              "    .colab-df-container {\n",
              "      display:flex;\n",
              "      flex-wrap:wrap;\n",
              "      gap: 12px;\n",
              "    }\n",
              "\n",
              "    .colab-df-convert {\n",
              "      background-color: #E8F0FE;\n",
              "      border: none;\n",
              "      border-radius: 50%;\n",
              "      cursor: pointer;\n",
              "      display: none;\n",
              "      fill: #1967D2;\n",
              "      height: 32px;\n",
              "      padding: 0 0 0 0;\n",
              "      width: 32px;\n",
              "    }\n",
              "\n",
              "    .colab-df-convert:hover {\n",
              "      background-color: #E2EBFA;\n",
              "      box-shadow: 0px 1px 2px rgba(60, 64, 67, 0.3), 0px 1px 3px 1px rgba(60, 64, 67, 0.15);\n",
              "      fill: #174EA6;\n",
              "    }\n",
              "\n",
              "    [theme=dark] .colab-df-convert {\n",
              "      background-color: #3B4455;\n",
              "      fill: #D2E3FC;\n",
              "    }\n",
              "\n",
              "    [theme=dark] .colab-df-convert:hover {\n",
              "      background-color: #434B5C;\n",
              "      box-shadow: 0px 1px 3px 1px rgba(0, 0, 0, 0.15);\n",
              "      filter: drop-shadow(0px 1px 2px rgba(0, 0, 0, 0.3));\n",
              "      fill: #FFFFFF;\n",
              "    }\n",
              "  </style>\n",
              "\n",
              "      <script>\n",
              "        const buttonEl =\n",
              "          document.querySelector('#df-736e5b7a-3721-4b1f-8f25-b50ae059f8a1 button.colab-df-convert');\n",
              "        buttonEl.style.display =\n",
              "          google.colab.kernel.accessAllowed ? 'block' : 'none';\n",
              "\n",
              "        async function convertToInteractive(key) {\n",
              "          const element = document.querySelector('#df-736e5b7a-3721-4b1f-8f25-b50ae059f8a1');\n",
              "          const dataTable =\n",
              "            await google.colab.kernel.invokeFunction('convertToInteractive',\n",
              "                                                     [key], {});\n",
              "          if (!dataTable) return;\n",
              "\n",
              "          const docLinkHtml = 'Like what you see? Visit the ' +\n",
              "            '<a target=\"_blank\" href=https://colab.research.google.com/notebooks/data_table.ipynb>data table notebook</a>'\n",
              "            + ' to learn more about interactive tables.';\n",
              "          element.innerHTML = '';\n",
              "          dataTable['output_type'] = 'display_data';\n",
              "          await google.colab.output.renderOutput(dataTable, element);\n",
              "          const docLink = document.createElement('div');\n",
              "          docLink.innerHTML = docLinkHtml;\n",
              "          element.appendChild(docLink);\n",
              "        }\n",
              "      </script>\n",
              "    </div>\n",
              "  </div>\n",
              "  "
            ],
            "text/plain": [
              "        loss  sparse_categorical_accuracy  val_loss  \\\n",
              "0   1.144419                     0.664098  0.529104   \n",
              "1   0.620087                     0.812571  0.442531   \n",
              "2   0.514116                     0.842607  0.412306   \n",
              "3   0.450812                     0.861814  0.342255   \n",
              "4   0.410683                     0.874317  0.347168   \n",
              "5   0.376468                     0.883779  0.332693   \n",
              "6   0.354026                     0.889812  0.317141   \n",
              "7   0.330532                     0.896658  0.290663   \n",
              "8   0.314081                     0.901702  0.297845   \n",
              "9   0.298196                     0.906710  0.288654   \n",
              "10  0.282642                     0.911117  0.289111   \n",
              "11  0.269650                     0.914640  0.283418   \n",
              "12  0.259555                     0.917751  0.309484   \n",
              "13  0.252265                     0.920320  0.302379   \n",
              "14  0.241811                     0.923195  0.303385   \n",
              "15  0.197460                     0.937429  0.269314   \n",
              "16  0.184078                     0.941447  0.265811   \n",
              "17  0.179149                     0.942814  0.269334   \n",
              "18  0.173298                     0.945195  0.269115   \n",
              "19  0.171043                     0.945666  0.268033   \n",
              "20  0.166475                     0.947127  0.266620   \n",
              "21  0.165161                     0.947728  0.266080   \n",
              "\n",
              "    val_sparse_categorical_accuracy       lr  \n",
              "0                          0.841246  0.00100  \n",
              "1                          0.866787  0.00100  \n",
              "2                          0.873297  0.00100  \n",
              "3                          0.897536  0.00100  \n",
              "4                          0.894732  0.00100  \n",
              "5                          0.897636  0.00100  \n",
              "6                          0.903946  0.00100  \n",
              "7                          0.913061  0.00100  \n",
              "8                          0.911959  0.00100  \n",
              "9                          0.915465  0.00100  \n",
              "10                         0.914062  0.00100  \n",
              "11                         0.916867  0.00100  \n",
              "12                         0.908654  0.00100  \n",
              "13                         0.914062  0.00100  \n",
              "14                         0.914964  0.00100  \n",
              "15                         0.925681  0.00010  \n",
              "16                         0.926583  0.00010  \n",
              "17                         0.926482  0.00010  \n",
              "18                         0.926482  0.00010  \n",
              "19                         0.926482  0.00010  \n",
              "20                         0.926583  0.00001  \n",
              "21                         0.927584  0.00001  "
            ]
          },
          "execution_count": 25,
          "metadata": {},
          "output_type": "execute_result"
        }
      ],
      "source": [
        "print('Training history:')\n",
        "pd.DataFrame(history.history)"
      ]
    },
    {
      "cell_type": "code",
      "execution_count": null,
      "metadata": {
        "colab": {
          "base_uri": "https://localhost:8080/",
          "height": 725
        },
        "id": "B3Lq3SY4gu3J",
        "outputId": "009889c7-d480-4e49-a03b-9b66678f96dc"
      },
      "outputs": [
        {
          "data": {
            "image/png": "[encoded data removed]",
            "text/plain": [
              "<Figure size 576x720 with 2 Axes>"
            ]
          },
          "metadata": {
            "needs_background": "light"
          },
          "output_type": "display_data"
        }
      ],
      "source": [
        "plot_utils.plot_history(history, columns=['loss', 'sparse_categorical_accuracy'])"
      ]
    },
    {
      "cell_type": "markdown",
      "metadata": {
        "id": "R9R3FIblgu3O"
      },
      "source": [
        "Uncomment the cell below to save the trained model."
      ]
    },
    {
      "cell_type": "code",
      "execution_count": null,
      "metadata": {
        "id": "DhUE4Zc6gu3P"
      },
      "outputs": [],
      "source": [
        "model.save(f'trained_models/{model_name}.h5')\n",
        "\n",
        "try:\n",
        "  from google.colab import files\n",
        "  files.download(f'trained_models/{model_name}.h5')\n",
        "\n",
        "except:\n",
        "  pass"
      ]
    },
    {
      "cell_type": "markdown",
      "metadata": {
        "id": "GqXQhhpvgu5P"
      },
      "source": [
        "### 4.2 - Validation metrics"
      ]
    },
    {
      "cell_type": "code",
      "execution_count": null,
      "metadata": {
        "colab": {
          "base_uri": "https://localhost:8080/"
        },
        "id": "d9qSfMZlgu5U",
        "outputId": "7eb6eedb-2c2c-4b2c-b340-d90927979d7c"
      },
      "outputs": [
        {
          "name": "stdout",
          "output_type": "stream",
          "text": [
            "344/344 [==============================] - 45s 130ms/step\n"
          ]
        }
      ],
      "source": [
        "# get predictions for test set\n",
        "test_labels = reference_df_test['class']\n",
        "test_pred = model.predict(test_dataset, steps=test_steps, verbose=1)[:len(test_labels)].squeeze()\n",
        "\n",
        "# estimate class\n",
        "y_pred = np.argmax(test_pred, axis=1)\n",
        "\n",
        "# true labels\n",
        "y_true = reference_df_test['class'].tolist()"
      ]
    },
    {
      "cell_type": "markdown",
      "metadata": {
        "id": "jinyZOKNgu7V"
      },
      "source": [
        "Plot the confusion matrix:"
      ]
    },
    {
      "cell_type": "code",
      "execution_count": null,
      "metadata": {
        "colab": {
          "base_uri": "https://localhost:8080/",
          "height": 1000
        },
        "id": "cHIhE3c3gu7e",
        "outputId": "75b61740-c348-4078-c109-1efa3ee9a360"
      },
      "outputs": [
        {
          "data": {
            "image/png": "[encoded data removed]",
            "text/plain": [
              "<Figure size 1512x1296 with 2 Axes>"
            ]
          },
          "metadata": {
            "needs_background": "light"
          },
          "output_type": "display_data"
        }
      ],
      "source": [
        "cm = confusion_matrix(y_pred, y_true)\n",
        "plot_utils.plot_confusion_matrix(cm, labels=commands, normalize=True, saveit=False, model_name='')\n",
        "# plt.savefig(f'figures/cm_{model_name}.png')"
      ]
    },
    {
      "cell_type": "markdown",
      "metadata": {
        "id": "6K19gHq1gu7z"
      },
      "source": [
        "Evaluate some metrics:\n",
        "\n"
      ]
    },
    {
      "cell_type": "code",
      "execution_count": 28,
      "metadata": {
        "id": "GUzNR6gbnzhl"
      },
      "outputs": [],
      "source": [
        "def class_report(y_true, y_pred):\n",
        "    precision_macro,    recall_macro,    fscore_macro,    _ = precision_recall_fscore_support(y_true=y_true, y_pred=y_pred, average='macro')\n",
        "    precision_micro,    recall_micro,    fscore_micro,    _ = precision_recall_fscore_support(y_true=y_true, y_pred=y_pred, average='micro')\n",
        "    precision_weighted, recall_weighted, fscore_weighted, _ = precision_recall_fscore_support(y_true=y_true, y_pred=y_pred, average='weighted')\n",
        "    \n",
        "    df_report = pd.DataFrame(\n",
        "        {\n",
        "            'precision': [precision_macro, precision_micro, precision_weighted],\n",
        "            'recall': [recall_macro, recall_micro, recall_weighted],\n",
        "            'f1-score': [fscore_macro, fscore_micro, fscore_weighted]\n",
        "        }, \n",
        "        index=['macro', 'micro', 'weighted']\n",
        "    )\n",
        "    \n",
        "    return df_report"
      ]
    },
    {
      "cell_type": "code",
      "execution_count": null,
      "metadata": {
        "id": "NPE9Z35Xgu70"
      },
      "outputs": [],
      "source": [
        "accuracy = accuracy_score(y_true=y_true, y_pred=y_pred)\n",
        "logloss  = log_loss(y_true, test_pred, labels=np.arange(35))\n",
        "cohen_k  = cohen_kappa_score(y_true, y_pred)\n",
        "\n",
        "# print('Accuracy:      {:.2f}%'.format(accuracy*100))\n",
        "# print('Error rate:    {:.2f}%'.format((1-accuracy)*100))\n",
        "# print('Cross-entropy: {:.4f}'.format(logloss))\n",
        "# print(\"Cohen's Kappa: {:.4f}\".format(cohen_k))\n",
        "\n",
        "cr = class_report(y_true, y_pred)"
      ]
    },
    {
      "cell_type": "code",
      "execution_count": null,
      "metadata": {
        "colab": {
          "base_uri": "https://localhost:8080/",
          "height": 81
        },
        "id": "SaXtDPNwgu73",
        "outputId": "c1c6c187-2ad6-43bb-92cf-7684d77176b8"
      },
      "outputs": [
        {
          "data": {
            "text/html": [
              "\n",
              "  <div id=\"df-27593405-489d-4718-abec-27a1140fdfe0\">\n",
              "    <div class=\"colab-df-container\">\n",
              "      <div>\n",
              "<style scoped>\n",
              "    .dataframe tbody tr th:only-of-type {\n",
              "        vertical-align: middle;\n",
              "    }\n",
              "\n",
              "    .dataframe tbody tr th {\n",
              "        vertical-align: top;\n",
              "    }\n",
              "\n",
              "    .dataframe thead th {\n",
              "        text-align: right;\n",
              "    }\n",
              "</style>\n",
              "<table border=\"1\" class=\"dataframe\">\n",
              "  <thead>\n",
              "    <tr style=\"text-align: right;\">\n",
              "      <th></th>\n",
              "      <th>precision</th>\n",
              "      <th>recall</th>\n",
              "      <th>f1-score</th>\n",
              "      <th>accuracy</th>\n",
              "      <th>cross-entropy</th>\n",
              "      <th>Cohen-Kappa</th>\n",
              "    </tr>\n",
              "  </thead>\n",
              "  <tbody>\n",
              "    <tr>\n",
              "      <th>0</th>\n",
              "      <td>0.9248</td>\n",
              "      <td>0.9241</td>\n",
              "      <td>0.9241</td>\n",
              "      <td>0.9241</td>\n",
              "      <td>0.2644</td>\n",
              "      <td>0.9216</td>\n",
              "    </tr>\n",
              "  </tbody>\n",
              "</table>\n",
              "</div>\n",
              "      <button class=\"colab-df-convert\" onclick=\"convertToInteractive('df-27593405-489d-4718-abec-27a1140fdfe0')\"\n",
              "              title=\"Convert this dataframe to an interactive table.\"\n",
              "              style=\"display:none;\">\n",
              "        \n",
              "  <svg xmlns=\"http://www.w3.org/2000/svg\" height=\"24px\"viewBox=\"0 0 24 24\"\n",
              "       width=\"24px\">\n",
              "    <path d=\"M0 0h24v24H0V0z\" fill=\"none\"/>\n",
              "    <path d=\"M18.56 5.44l.94 2.06.94-2.06 2.06-.94-2.06-.94-.94-2.06-.94 2.06-2.06.94zm-11 1L8.5 8.5l.94-2.06 2.06-.94-2.06-.94L8.5 2.5l-.94 2.06-2.06.94zm10 10l.94 2.06.94-2.06 2.06-.94-2.06-.94-.94-2.06-.94 2.06-2.06.94z\"/><path d=\"M17.41 7.96l-1.37-1.37c-.4-.4-.92-.59-1.43-.59-.52 0-1.04.2-1.43.59L10.3 9.45l-7.72 7.72c-.78.78-.78 2.05 0 2.83L4 21.41c.39.39.9.59 1.41.59.51 0 1.02-.2 1.41-.59l7.78-7.78 2.81-2.81c.8-.78.8-2.07 0-2.86zM5.41 20L4 18.59l7.72-7.72 1.47 1.35L5.41 20z\"/>\n",
              "  </svg>\n",
              "      </button>\n",
              "      \n",
              "  <style>\n",
              "    .colab-df-container {\n",
              "      display:flex;\n",
              "      flex-wrap:wrap;\n",
              "      gap: 12px;\n",
              "    }\n",
              "\n",
              "    .colab-df-convert {\n",
              "      background-color: #E8F0FE;\n",
              "      border: none;\n",
              "      border-radius: 50%;\n",
              "      cursor: pointer;\n",
              "      display: none;\n",
              "      fill: #1967D2;\n",
              "      height: 32px;\n",
              "      padding: 0 0 0 0;\n",
              "      width: 32px;\n",
              "    }\n",
              "\n",
              "    .colab-df-convert:hover {\n",
              "      background-color: #E2EBFA;\n",
              "      box-shadow: 0px 1px 2px rgba(60, 64, 67, 0.3), 0px 1px 3px 1px rgba(60, 64, 67, 0.15);\n",
              "      fill: #174EA6;\n",
              "    }\n",
              "\n",
              "    [theme=dark] .colab-df-convert {\n",
              "      background-color: #3B4455;\n",
              "      fill: #D2E3FC;\n",
              "    }\n",
              "\n",
              "    [theme=dark] .colab-df-convert:hover {\n",
              "      background-color: #434B5C;\n",
              "      box-shadow: 0px 1px 3px 1px rgba(0, 0, 0, 0.15);\n",
              "      filter: drop-shadow(0px 1px 2px rgba(0, 0, 0, 0.3));\n",
              "      fill: #FFFFFF;\n",
              "    }\n",
              "  </style>\n",
              "\n",
              "      <script>\n",
              "        const buttonEl =\n",
              "          document.querySelector('#df-27593405-489d-4718-abec-27a1140fdfe0 button.colab-df-convert');\n",
              "        buttonEl.style.display =\n",
              "          google.colab.kernel.accessAllowed ? 'block' : 'none';\n",
              "\n",
              "        async function convertToInteractive(key) {\n",
              "          const element = document.querySelector('#df-27593405-489d-4718-abec-27a1140fdfe0');\n",
              "          const dataTable =\n",
              "            await google.colab.kernel.invokeFunction('convertToInteractive',\n",
              "                                                     [key], {});\n",
              "          if (!dataTable) return;\n",
              "\n",
              "          const docLinkHtml = 'Like what you see? Visit the ' +\n",
              "            '<a target=\"_blank\" href=https://colab.research.google.com/notebooks/data_table.ipynb>data table notebook</a>'\n",
              "            + ' to learn more about interactive tables.';\n",
              "          element.innerHTML = '';\n",
              "          dataTable['output_type'] = 'display_data';\n",
              "          await google.colab.output.renderOutput(dataTable, element);\n",
              "          const docLink = document.createElement('div');\n",
              "          docLink.innerHTML = docLinkHtml;\n",
              "          element.appendChild(docLink);\n",
              "        }\n",
              "      </script>\n",
              "    </div>\n",
              "  </div>\n",
              "  "
            ],
            "text/plain": [
              "   precision  recall  f1-score  accuracy  cross-entropy  Cohen-Kappa\n",
              "0     0.9248  0.9241    0.9241    0.9241         0.2644       0.9216"
            ]
          },
          "metadata": {},
          "output_type": "display_data"
        }
      ],
      "source": [
        "# print('Testing of model %s with features %i...\\n' %(model_name, features_to_extract))\n",
        "weighted_metrics = cr.iloc[-1].tolist()\n",
        "\n",
        "df_metrics_simple = pd.DataFrame(\n",
        "    [weighted_metrics + [accuracy, logloss, cohen_k]], \n",
        "    columns = ['precision', 'recall', 'f1-score', 'accuracy', 'cross-entropy', 'Cohen-Kappa'], \n",
        ")\n",
        "\n",
        "display(df_metrics_simple.round(4))\n",
        "\n",
        "# Uncomment next lines to store the final metrics \n",
        "# if not os.path.exists(\"metrics\"):\n",
        "#   os.mkdir('metrics')\n",
        "#   \n",
        "# df_metrics.to_csv(f'metrics/metr_{model_name}_2.csv')"
      ]
    },
    {
      "cell_type": "code",
      "execution_count": null,
      "metadata": {
        "id": "47NBCJ2yC_iA"
      },
      "outputs": [],
      "source": [
        "# tmp1 = pd.read_csv('metr_smallCnnModel_1.csv', index_col=0)\n",
        "# tmp2 = pd.read_csv('metr_smallCnnModel_2.csv', index_col=0)\n",
        "# \n",
        "# df_ = pd.concat([tmp1, tmp2], ignore_index=True, axis=0)\n",
        "# df_['Training'] = ['Without Delta', 'With Delta']\n",
        "# df_ = df_.set_index(['Training'])\n",
        "# df_"
      ]
    },
    {
      "cell_type": "markdown",
      "metadata": {
        "id": "YCxEuRlk9Ghd"
      },
      "source": [
        "## 5 - Dropout and Batch Normalization effect"
      ]
    },
    {
      "cell_type": "code",
      "execution_count": null,
      "metadata": {
        "id": "p_25kYZY-pih"
      },
      "outputs": [],
      "source": [
        "def custom_cnn_simple_nodrop_nobatchnorm(\n",
        "    input_shape, \n",
        "    nf_sp_1, nf_sp_2, nk_sp_l, nk_sp_r, mp_sp, dp_sp, \n",
        "    nf_tp_1, nf_tp_2, nk_tp_l, nk_tp_r, mp_tp_1, mp_tp_2, dp_tp, \n",
        "    dp_fc, lr, \n",
        "    drop = True, batchnorm=True\n",
        "    ):\n",
        "\n",
        "    model = tf.keras.models.Sequential(name='custom_cnn')\n",
        "\n",
        "    model.add(tf.keras.layers.Reshape(input_shape=input_shape, target_shape=(input_shape[0], input_shape[1], 1)))\n",
        "    if batchnorm: model.add(tf.keras.layers.BatchNormalization())\n",
        "\n",
        "    filters_pool = [nf_sp_1, nf_sp_2]\n",
        "\n",
        "    for num_filters in filters_pool:\n",
        "\n",
        "      model.add(tf.keras.layers.Conv2D(num_filters, kernel_size=(nk_sp_l, nk_sp_r), padding='same'))\n",
        "      if batchnorm: model.add(tf.keras.layers.BatchNormalization())\n",
        "      model.add(tf.keras.layers.Activation('relu'))\n",
        "\n",
        "      model.add(tf.keras.layers.MaxPooling2D(pool_size=(mp_sp, mp_sp)))\n",
        "      if drop: model.add(tf.keras.layers.Dropout(dp_sp))\n",
        "\n",
        "    filters_pool_in_time = [nf_tp_1, nf_tp_2]\n",
        "\n",
        "    for p, num_filters in zip([mp_tp_1, mp_tp_2], filters_pool_in_time):\n",
        "\n",
        "      model.add(tf.keras.layers.Conv2D(num_filters, kernel_size=(nk_tp_l, nk_tp_r), padding='same'))\n",
        "      if batchnorm: model.add(tf.keras.layers.BatchNormalization())\n",
        "      model.add(tf.keras.layers.Activation('relu'))\n",
        "\n",
        "      model.add(tf.keras.layers.MaxPooling2D(pool_size=(p, 1)))\n",
        "      if drop: model.add(tf.keras.layers.Dropout(dp_tp))\n",
        "\n",
        "    model.add(tf.keras.layers.Flatten())\n",
        "    if drop: model.add(tf.keras.layers.Dropout(dp_fc))\n",
        "    model.add(tf.keras.layers.Dense(256))\n",
        "    if batchnorm: model.add(tf.keras.layers.BatchNormalization())\n",
        "    model.add(tf.keras.layers.Activation('relu'))\n",
        "    model.add(tf.keras.layers.Dense(35, activation='softmax'))\n",
        "\n",
        "    model.compile(loss='sparse_categorical_crossentropy', \n",
        "              optimizer=tf.keras.optimizers.Adam(learning_rate=lr),\n",
        "              metrics=[\"sparse_categorical_accuracy\"])\n",
        "\n",
        "    return model"
      ]
    },
    {
      "cell_type": "markdown",
      "metadata": {
        "id": "vjdXcrhP90dy"
      },
      "source": [
        "### 5.1 - NO dropout"
      ]
    },
    {
      "cell_type": "code",
      "execution_count": null,
      "metadata": {
        "id": "UYepuzJx-DT2"
      },
      "outputs": [],
      "source": [
        "del model\n",
        "\n",
        "model = custom_cnn_simple_nodrop_nobatchnorm(input_shape, *bo_params_redefined, drop = False, batchnorm=True)\n",
        "model_name = 'custom_cnn_simple_nodropout'"
      ]
    },
    {
      "cell_type": "code",
      "execution_count": null,
      "metadata": {
        "colab": {
          "base_uri": "https://localhost:8080/"
        },
        "id": "HvScEPUN_Qne",
        "outputId": "2d163ebf-bf47-460d-e23f-b3ba68941641"
      },
      "outputs": [
        {
          "name": "stdout",
          "output_type": "stream",
          "text": [
            "Epoch 1/30\n",
            "2652/2652 [==============================] - 36s 13ms/step - loss: 1.0752 - sparse_categorical_accuracy: 0.6839 - val_loss: 0.8255 - val_sparse_categorical_accuracy: 0.7517 - lr: 0.0100\n",
            "Epoch 2/30\n",
            "2652/2652 [==============================] - 33s 13ms/step - loss: 0.5325 - sparse_categorical_accuracy: 0.8397 - val_loss: 0.5106 - val_sparse_categorical_accuracy: 0.8482 - lr: 0.0100\n",
            "Epoch 3/30\n",
            "2652/2652 [==============================] - 35s 13ms/step - loss: 0.4334 - sparse_categorical_accuracy: 0.8697 - val_loss: 0.4296 - val_sparse_categorical_accuracy: 0.8685 - lr: 0.0100\n",
            "Epoch 4/30\n",
            "2652/2652 [==============================] - 34s 13ms/step - loss: 0.3736 - sparse_categorical_accuracy: 0.8862 - val_loss: 0.4304 - val_sparse_categorical_accuracy: 0.8754 - lr: 0.0100\n",
            "Epoch 5/30\n",
            "2652/2652 [==============================] - 34s 13ms/step - loss: 0.3287 - sparse_categorical_accuracy: 0.8992 - val_loss: 0.5000 - val_sparse_categorical_accuracy: 0.8516 - lr: 0.0100\n",
            "Epoch 6/30\n",
            "2650/2652 [============================>.] - ETA: 0s - loss: 0.2897 - sparse_categorical_accuracy: 0.9105\n",
            "Epoch 6: ReduceLROnPlateau reducing learning rate to 0.0009999999776482583.\n",
            "2652/2652 [==============================] - 33s 13ms/step - loss: 0.2896 - sparse_categorical_accuracy: 0.9105 - val_loss: 0.5354 - val_sparse_categorical_accuracy: 0.8578 - lr: 0.0100\n",
            "Epoch 7/30\n",
            "2652/2652 [==============================] - 34s 13ms/step - loss: 0.1683 - sparse_categorical_accuracy: 0.9482 - val_loss: 0.2846 - val_sparse_categorical_accuracy: 0.9220 - lr: 1.0000e-03\n",
            "Epoch 8/30\n",
            "2652/2652 [==============================] - 35s 13ms/step - loss: 0.1374 - sparse_categorical_accuracy: 0.9579 - val_loss: 0.2866 - val_sparse_categorical_accuracy: 0.9226 - lr: 1.0000e-03\n",
            "Epoch 9/30\n",
            "2652/2652 [==============================] - 34s 13ms/step - loss: 0.1204 - sparse_categorical_accuracy: 0.9629 - val_loss: 0.3064 - val_sparse_categorical_accuracy: 0.9221 - lr: 1.0000e-03\n",
            "Epoch 10/30\n",
            "2651/2652 [============================>.] - ETA: 0s - loss: 0.1090 - sparse_categorical_accuracy: 0.9660\n",
            "Epoch 10: ReduceLROnPlateau reducing learning rate to 9.999999310821295e-05.\n",
            "2652/2652 [==============================] - 36s 14ms/step - loss: 0.1090 - sparse_categorical_accuracy: 0.9660 - val_loss: 0.3143 - val_sparse_categorical_accuracy: 0.9206 - lr: 1.0000e-03\n",
            "Epoch 11/30\n",
            "2652/2652 [==============================] - 34s 13ms/step - loss: 0.0932 - sparse_categorical_accuracy: 0.9722 - val_loss: 0.3101 - val_sparse_categorical_accuracy: 0.9248 - lr: 1.0000e-04\n",
            "Epoch 12/30\n",
            "2652/2652 [==============================] - 35s 13ms/step - loss: 0.0905 - sparse_categorical_accuracy: 0.9729 - val_loss: 0.3136 - val_sparse_categorical_accuracy: 0.9254 - lr: 1.0000e-04\n",
            "\n",
            "--- Training time: 413.03902888298035 seconds ---\n"
          ]
        }
      ],
      "source": [
        "start_time = time.time()\n",
        "\n",
        "num_epochs = 30\n",
        "\n",
        "early_stop_callback = tf.keras.callbacks.EarlyStopping(monitor='val_loss', patience=5)\n",
        "\n",
        "reduce_LR = tf.keras.callbacks.ReduceLROnPlateau(monitor='val_loss', patience=3, verbose=1)\n",
        "\n",
        "model_checkpoint = tf.keras.callbacks.ModelCheckpoint(f'trained_models/{model_name}.h5', monitor='val_loss', save_best_only=True)\n",
        "\n",
        "history = model.fit(\n",
        "                train_dataset,\n",
        "                epochs=num_epochs,\n",
        "                steps_per_epoch=train_steps,\n",
        "                validation_data=val_dataset,\n",
        "                validation_steps=val_steps,\n",
        "                callbacks=[early_stop_callback, model_checkpoint, reduce_LR], \n",
        "                verbose=1\n",
        "                )\n",
        "\n",
        "print(\"\\n--- Training time: %s seconds ---\" % (time.time() - start_time))"
      ]
    },
    {
      "cell_type": "code",
      "execution_count": null,
      "metadata": {
        "colab": {
          "base_uri": "https://localhost:8080/",
          "height": 133
        },
        "id": "Qj6BwUJy9F_o",
        "outputId": "6bee034f-4b2b-49df-d5b9-d4102ec6d482"
      },
      "outputs": [
        {
          "name": "stdout",
          "output_type": "stream",
          "text": [
            "344/344 [==============================] - 31s 4ms/step\n",
            "Training results without dropout:\n",
            "\n"
          ]
        },
        {
          "data": {
            "text/html": [
              "\n",
              "  <div id=\"df-748890a4-0b08-4514-9a6e-bd193e98c6e0\">\n",
              "    <div class=\"colab-df-container\">\n",
              "      <div>\n",
              "<style scoped>\n",
              "    .dataframe tbody tr th:only-of-type {\n",
              "        vertical-align: middle;\n",
              "    }\n",
              "\n",
              "    .dataframe tbody tr th {\n",
              "        vertical-align: top;\n",
              "    }\n",
              "\n",
              "    .dataframe thead th {\n",
              "        text-align: right;\n",
              "    }\n",
              "</style>\n",
              "<table border=\"1\" class=\"dataframe\">\n",
              "  <thead>\n",
              "    <tr style=\"text-align: right;\">\n",
              "      <th></th>\n",
              "      <th>precision</th>\n",
              "      <th>recall</th>\n",
              "      <th>f1-score</th>\n",
              "      <th>accuracy</th>\n",
              "      <th>cross-entropy</th>\n",
              "      <th>Cohen-Kappa</th>\n",
              "    </tr>\n",
              "  </thead>\n",
              "  <tbody>\n",
              "    <tr>\n",
              "      <th>0</th>\n",
              "      <td>0.919849</td>\n",
              "      <td>0.9194</td>\n",
              "      <td>0.91942</td>\n",
              "      <td>0.9194</td>\n",
              "      <td>0.322928</td>\n",
              "      <td>0.91672</td>\n",
              "    </tr>\n",
              "  </tbody>\n",
              "</table>\n",
              "</div>\n",
              "      <button class=\"colab-df-convert\" onclick=\"convertToInteractive('df-748890a4-0b08-4514-9a6e-bd193e98c6e0')\"\n",
              "              title=\"Convert this dataframe to an interactive table.\"\n",
              "              style=\"display:none;\">\n",
              "        \n",
              "  <svg xmlns=\"http://www.w3.org/2000/svg\" height=\"24px\"viewBox=\"0 0 24 24\"\n",
              "       width=\"24px\">\n",
              "    <path d=\"M0 0h24v24H0V0z\" fill=\"none\"/>\n",
              "    <path d=\"M18.56 5.44l.94 2.06.94-2.06 2.06-.94-2.06-.94-.94-2.06-.94 2.06-2.06.94zm-11 1L8.5 8.5l.94-2.06 2.06-.94-2.06-.94L8.5 2.5l-.94 2.06-2.06.94zm10 10l.94 2.06.94-2.06 2.06-.94-2.06-.94-.94-2.06-.94 2.06-2.06.94z\"/><path d=\"M17.41 7.96l-1.37-1.37c-.4-.4-.92-.59-1.43-.59-.52 0-1.04.2-1.43.59L10.3 9.45l-7.72 7.72c-.78.78-.78 2.05 0 2.83L4 21.41c.39.39.9.59 1.41.59.51 0 1.02-.2 1.41-.59l7.78-7.78 2.81-2.81c.8-.78.8-2.07 0-2.86zM5.41 20L4 18.59l7.72-7.72 1.47 1.35L5.41 20z\"/>\n",
              "  </svg>\n",
              "      </button>\n",
              "      \n",
              "  <style>\n",
              "    .colab-df-container {\n",
              "      display:flex;\n",
              "      flex-wrap:wrap;\n",
              "      gap: 12px;\n",
              "    }\n",
              "\n",
              "    .colab-df-convert {\n",
              "      background-color: #E8F0FE;\n",
              "      border: none;\n",
              "      border-radius: 50%;\n",
              "      cursor: pointer;\n",
              "      display: none;\n",
              "      fill: #1967D2;\n",
              "      height: 32px;\n",
              "      padding: 0 0 0 0;\n",
              "      width: 32px;\n",
              "    }\n",
              "\n",
              "    .colab-df-convert:hover {\n",
              "      background-color: #E2EBFA;\n",
              "      box-shadow: 0px 1px 2px rgba(60, 64, 67, 0.3), 0px 1px 3px 1px rgba(60, 64, 67, 0.15);\n",
              "      fill: #174EA6;\n",
              "    }\n",
              "\n",
              "    [theme=dark] .colab-df-convert {\n",
              "      background-color: #3B4455;\n",
              "      fill: #D2E3FC;\n",
              "    }\n",
              "\n",
              "    [theme=dark] .colab-df-convert:hover {\n",
              "      background-color: #434B5C;\n",
              "      box-shadow: 0px 1px 3px 1px rgba(0, 0, 0, 0.15);\n",
              "      filter: drop-shadow(0px 1px 2px rgba(0, 0, 0, 0.3));\n",
              "      fill: #FFFFFF;\n",
              "    }\n",
              "  </style>\n",
              "\n",
              "      <script>\n",
              "        const buttonEl =\n",
              "          document.querySelector('#df-748890a4-0b08-4514-9a6e-bd193e98c6e0 button.colab-df-convert');\n",
              "        buttonEl.style.display =\n",
              "          google.colab.kernel.accessAllowed ? 'block' : 'none';\n",
              "\n",
              "        async function convertToInteractive(key) {\n",
              "          const element = document.querySelector('#df-748890a4-0b08-4514-9a6e-bd193e98c6e0');\n",
              "          const dataTable =\n",
              "            await google.colab.kernel.invokeFunction('convertToInteractive',\n",
              "                                                     [key], {});\n",
              "          if (!dataTable) return;\n",
              "\n",
              "          const docLinkHtml = 'Like what you see? Visit the ' +\n",
              "            '<a target=\"_blank\" href=https://colab.research.google.com/notebooks/data_table.ipynb>data table notebook</a>'\n",
              "            + ' to learn more about interactive tables.';\n",
              "          element.innerHTML = '';\n",
              "          dataTable['output_type'] = 'display_data';\n",
              "          await google.colab.output.renderOutput(dataTable, element);\n",
              "          const docLink = document.createElement('div');\n",
              "          docLink.innerHTML = docLinkHtml;\n",
              "          element.appendChild(docLink);\n",
              "        }\n",
              "      </script>\n",
              "    </div>\n",
              "  </div>\n",
              "  "
            ],
            "text/plain": [
              "   precision  recall  f1-score  accuracy  cross-entropy  Cohen-Kappa\n",
              "0   0.919849  0.9194   0.91942    0.9194       0.322928      0.91672"
            ]
          },
          "metadata": {},
          "output_type": "display_data"
        }
      ],
      "source": [
        "# testing\n",
        "test_labels = reference_df_test['class']\n",
        "test_pred = model.predict(test_dataset, steps=test_steps, verbose=1)[:len(test_labels)].squeeze()\n",
        "\n",
        "y_pred = np.argmax(test_pred, axis=1)\n",
        "y_true = reference_df_test['class'].tolist()\n",
        "\n",
        "accuracy = accuracy_score(y_true=y_true, y_pred=y_pred)\n",
        "logloss  = log_loss(y_true, test_pred, labels=np.arange(35))\n",
        "cohen_k  = cohen_kappa_score(y_true, y_pred)\n",
        "\n",
        "cr = class_report(y_true, y_pred)\n",
        "weighted_metrics = cr.iloc[-1].tolist()\n",
        "\n",
        "df_metrics = pd.DataFrame(\n",
        "    [weighted_metrics + [accuracy, logloss, cohen_k]], \n",
        "    columns = ['precision', 'recall', 'f1-score', 'accuracy', 'cross-entropy', 'Cohen-Kappa'], \n",
        ")\n",
        "\n",
        "print('Training results without dropout:\\n')\n",
        "display(df_metrics)"
      ]
    },
    {
      "cell_type": "markdown",
      "metadata": {
        "id": "ZkRVKBGp_yxx"
      },
      "source": [
        "### 5.2 - NO batch normalization"
      ]
    },
    {
      "cell_type": "code",
      "execution_count": null,
      "metadata": {
        "id": "P5WrFC--_xFU"
      },
      "outputs": [],
      "source": [
        "del model\n",
        "\n",
        "model = custom_cnn_simple_nodrop_nobatchnorm(input_shape, *bo_params_redefined, drop = True, batchnorm=False)\n",
        "model_name = 'custom_cnn_simple_nobatchnorm'"
      ]
    },
    {
      "cell_type": "code",
      "execution_count": null,
      "metadata": {
        "colab": {
          "base_uri": "https://localhost:8080/"
        },
        "id": "mnkADf6T_6YC",
        "outputId": "866f564f-c44e-48f5-dff6-f06d86e80f2b"
      },
      "outputs": [
        {
          "name": "stdout",
          "output_type": "stream",
          "text": [
            "Epoch 1/30\n",
            "2652/2652 [==============================] - 32s 12ms/step - loss: 3.7138 - sparse_categorical_accuracy: 0.0377 - val_loss: 3.4968 - val_sparse_categorical_accuracy: 0.0385 - lr: 0.0100\n",
            "Epoch 2/30\n",
            "2652/2652 [==============================] - 30s 11ms/step - loss: 3.5017 - sparse_categorical_accuracy: 0.0372 - val_loss: 3.4968 - val_sparse_categorical_accuracy: 0.0364 - lr: 0.0100\n",
            "Epoch 3/30\n",
            "2652/2652 [==============================] - 29s 11ms/step - loss: 3.5018 - sparse_categorical_accuracy: 0.0375 - val_loss: 3.4962 - val_sparse_categorical_accuracy: 0.0357 - lr: 0.0100\n",
            "Epoch 4/30\n",
            "2652/2652 [==============================] - 29s 11ms/step - loss: 3.5018 - sparse_categorical_accuracy: 0.0364 - val_loss: 3.4964 - val_sparse_categorical_accuracy: 0.0398 - lr: 0.0100\n",
            "Epoch 5/30\n",
            "2652/2652 [==============================] - 29s 11ms/step - loss: 3.5018 - sparse_categorical_accuracy: 0.0372 - val_loss: 3.4958 - val_sparse_categorical_accuracy: 0.0386 - lr: 0.0100\n",
            "Epoch 6/30\n",
            "2652/2652 [==============================] - 29s 11ms/step - loss: 3.5019 - sparse_categorical_accuracy: 0.0357 - val_loss: 3.4958 - val_sparse_categorical_accuracy: 0.0351 - lr: 0.0100\n",
            "Epoch 7/30\n",
            "2652/2652 [==============================] - 29s 11ms/step - loss: 3.5017 - sparse_categorical_accuracy: 0.0374 - val_loss: 3.4957 - val_sparse_categorical_accuracy: 0.0385 - lr: 0.0100\n",
            "Epoch 8/30\n",
            "2652/2652 [==============================] - 29s 11ms/step - loss: 3.5019 - sparse_categorical_accuracy: 0.0368 - val_loss: 3.4961 - val_sparse_categorical_accuracy: 0.0385 - lr: 0.0100\n",
            "Epoch 9/30\n",
            "2652/2652 [==============================] - 29s 11ms/step - loss: 3.5017 - sparse_categorical_accuracy: 0.0368 - val_loss: 3.4954 - val_sparse_categorical_accuracy: 0.0385 - lr: 0.0100\n",
            "Epoch 10/30\n",
            "2652/2652 [==============================] - 30s 11ms/step - loss: 3.5016 - sparse_categorical_accuracy: 0.0377 - val_loss: 3.4963 - val_sparse_categorical_accuracy: 0.0353 - lr: 0.0100\n",
            "Epoch 11/30\n",
            "2652/2652 [==============================] - 29s 11ms/step - loss: 3.5017 - sparse_categorical_accuracy: 0.0370 - val_loss: 3.4975 - val_sparse_categorical_accuracy: 0.0352 - lr: 0.0100\n",
            "Epoch 12/30\n",
            "2652/2652 [==============================] - ETA: 0s - loss: 3.5018 - sparse_categorical_accuracy: 0.0365\n",
            "Epoch 12: ReduceLROnPlateau reducing learning rate to 0.0009999999776482583.\n",
            "2652/2652 [==============================] - 29s 11ms/step - loss: 3.5018 - sparse_categorical_accuracy: 0.0365 - val_loss: 3.4965 - val_sparse_categorical_accuracy: 0.0368 - lr: 0.0100\n",
            "Epoch 13/30\n",
            "2652/2652 [==============================] - 29s 11ms/step - loss: 3.4998 - sparse_categorical_accuracy: 0.0367 - val_loss: 3.4943 - val_sparse_categorical_accuracy: 0.0368 - lr: 1.0000e-03\n",
            "Epoch 14/30\n",
            "2652/2652 [==============================] - 30s 11ms/step - loss: 3.4994 - sparse_categorical_accuracy: 0.0377 - val_loss: 3.4943 - val_sparse_categorical_accuracy: 0.0368 - lr: 1.0000e-03\n",
            "Epoch 15/30\n",
            "2652/2652 [==============================] - 30s 11ms/step - loss: 3.4993 - sparse_categorical_accuracy: 0.0373 - val_loss: 3.4944 - val_sparse_categorical_accuracy: 0.0385 - lr: 1.0000e-03\n",
            "Epoch 16/30\n",
            "2652/2652 [==============================] - 29s 11ms/step - loss: 3.4994 - sparse_categorical_accuracy: 0.0373 - val_loss: 3.4942 - val_sparse_categorical_accuracy: 0.0385 - lr: 1.0000e-03\n",
            "Epoch 17/30\n",
            "2652/2652 [==============================] - 29s 11ms/step - loss: 3.4995 - sparse_categorical_accuracy: 0.0376 - val_loss: 3.4941 - val_sparse_categorical_accuracy: 0.0385 - lr: 1.0000e-03\n",
            "Epoch 18/30\n",
            "2652/2652 [==============================] - 30s 11ms/step - loss: 3.4994 - sparse_categorical_accuracy: 0.0370 - val_loss: 3.4941 - val_sparse_categorical_accuracy: 0.0385 - lr: 1.0000e-03\n",
            "Epoch 19/30\n",
            "2650/2652 [============================>.] - ETA: 0s - loss: 3.4994 - sparse_categorical_accuracy: 0.0376\n",
            "Epoch 19: ReduceLROnPlateau reducing learning rate to 9.999999310821295e-05.\n",
            "2652/2652 [==============================] - 30s 11ms/step - loss: 3.4995 - sparse_categorical_accuracy: 0.0376 - val_loss: 3.4941 - val_sparse_categorical_accuracy: 0.0385 - lr: 1.0000e-03\n",
            "Epoch 20/30\n",
            "2652/2652 [==============================] - 29s 11ms/step - loss: 3.4992 - sparse_categorical_accuracy: 0.0381 - val_loss: 3.4941 - val_sparse_categorical_accuracy: 0.0385 - lr: 1.0000e-04\n",
            "Epoch 21/30\n",
            "2652/2652 [==============================] - 29s 11ms/step - loss: 3.4992 - sparse_categorical_accuracy: 0.0382 - val_loss: 3.4940 - val_sparse_categorical_accuracy: 0.0386 - lr: 1.0000e-04\n",
            "Epoch 22/30\n",
            "2652/2652 [==============================] - 29s 11ms/step - loss: 3.4991 - sparse_categorical_accuracy: 0.0383 - val_loss: 3.4940 - val_sparse_categorical_accuracy: 0.0385 - lr: 1.0000e-04\n",
            "Epoch 23/30\n",
            "2650/2652 [============================>.] - ETA: 0s - loss: 3.4991 - sparse_categorical_accuracy: 0.0382\n",
            "Epoch 23: ReduceLROnPlateau reducing learning rate to 9.999999019782991e-06.\n",
            "2652/2652 [==============================] - 30s 11ms/step - loss: 3.4992 - sparse_categorical_accuracy: 0.0382 - val_loss: 3.4941 - val_sparse_categorical_accuracy: 0.0385 - lr: 1.0000e-04\n",
            "Epoch 24/30\n",
            "2652/2652 [==============================] - 30s 11ms/step - loss: 3.4990 - sparse_categorical_accuracy: 0.0384 - val_loss: 3.4942 - val_sparse_categorical_accuracy: 0.0385 - lr: 1.0000e-05\n",
            "Epoch 25/30\n",
            "2652/2652 [==============================] - 30s 11ms/step - loss: 3.4991 - sparse_categorical_accuracy: 0.0382 - val_loss: 3.4941 - val_sparse_categorical_accuracy: 0.0385 - lr: 1.0000e-05\n",
            "Epoch 26/30\n",
            "2651/2652 [============================>.] - ETA: 0s - loss: 3.4991 - sparse_categorical_accuracy: 0.0383\n",
            "Epoch 26: ReduceLROnPlateau reducing learning rate to 9.99999883788405e-07.\n",
            "2652/2652 [==============================] - 30s 11ms/step - loss: 3.4990 - sparse_categorical_accuracy: 0.0383 - val_loss: 3.4940 - val_sparse_categorical_accuracy: 0.0385 - lr: 1.0000e-05\n",
            "\n",
            "--- Training time: 770.4329750537872 seconds ---\n"
          ]
        }
      ],
      "source": [
        "start_time = time.time()\n",
        "\n",
        "num_epochs = 30\n",
        "\n",
        "early_stop_callback = tf.keras.callbacks.EarlyStopping(monitor='val_loss', patience=5)\n",
        "\n",
        "reduce_LR = tf.keras.callbacks.ReduceLROnPlateau(monitor='val_loss', patience=3, verbose=1)\n",
        "\n",
        "model_checkpoint = tf.keras.callbacks.ModelCheckpoint(f'trained_models/{model_name}.h5', monitor='val_loss', save_best_only=True)\n",
        "\n",
        "history = model.fit(\n",
        "                train_dataset,\n",
        "                epochs=num_epochs,\n",
        "                steps_per_epoch=train_steps,\n",
        "                validation_data=val_dataset,\n",
        "                validation_steps=val_steps,\n",
        "                callbacks=[early_stop_callback, model_checkpoint, reduce_LR], \n",
        "                verbose=1\n",
        "                )\n",
        "\n",
        "print(\"\\n--- Training time: %s seconds ---\" % (time.time() - start_time))"
      ]
    },
    {
      "cell_type": "code",
      "execution_count": null,
      "metadata": {
        "colab": {
          "base_uri": "https://localhost:8080/",
          "height": 222
        },
        "id": "g4Az4Yij_-D9",
        "outputId": "1a15aa4d-2789-4ba6-85aa-ec05aaa8d36b"
      },
      "outputs": [
        {
          "name": "stdout",
          "output_type": "stream",
          "text": [
            "344/344 [==============================] - 34s 4ms/step\n",
            "Training results without batch normalization:\n",
            "\n"
          ]
        },
        {
          "name": "stderr",
          "output_type": "stream",
          "text": [
            "/usr/local/lib/python3.8/dist-packages/sklearn/metrics/_classification.py:1318: UndefinedMetricWarning: Precision and F-score are ill-defined and being set to 0.0 in labels with no predicted samples. Use `zero_division` parameter to control this behavior.\n",
            "  _warn_prf(average, modifier, msg_start, len(result))\n",
            "/usr/local/lib/python3.8/dist-packages/sklearn/metrics/_classification.py:1318: UndefinedMetricWarning: Precision and F-score are ill-defined and being set to 0.0 in labels with no predicted samples. Use `zero_division` parameter to control this behavior.\n",
            "  _warn_prf(average, modifier, msg_start, len(result))\n"
          ]
        },
        {
          "data": {
            "text/html": [
              "\n",
              "  <div id=\"df-465aac2e-5630-42bc-bfe9-663c2bb227b3\">\n",
              "    <div class=\"colab-df-container\">\n",
              "      <div>\n",
              "<style scoped>\n",
              "    .dataframe tbody tr th:only-of-type {\n",
              "        vertical-align: middle;\n",
              "    }\n",
              "\n",
              "    .dataframe tbody tr th {\n",
              "        vertical-align: top;\n",
              "    }\n",
              "\n",
              "    .dataframe thead th {\n",
              "        text-align: right;\n",
              "    }\n",
              "</style>\n",
              "<table border=\"1\" class=\"dataframe\">\n",
              "  <thead>\n",
              "    <tr style=\"text-align: right;\">\n",
              "      <th></th>\n",
              "      <th>precision</th>\n",
              "      <th>recall</th>\n",
              "      <th>f1-score</th>\n",
              "      <th>accuracy</th>\n",
              "      <th>cross-entropy</th>\n",
              "      <th>Cohen-Kappa</th>\n",
              "    </tr>\n",
              "  </thead>\n",
              "  <tbody>\n",
              "    <tr>\n",
              "      <th>0</th>\n",
              "      <td>0.001443</td>\n",
              "      <td>0.037983</td>\n",
              "      <td>0.00278</td>\n",
              "      <td>0.037983</td>\n",
              "      <td>3.491076</td>\n",
              "      <td>0.0</td>\n",
              "    </tr>\n",
              "  </tbody>\n",
              "</table>\n",
              "</div>\n",
              "      <button class=\"colab-df-convert\" onclick=\"convertToInteractive('df-465aac2e-5630-42bc-bfe9-663c2bb227b3')\"\n",
              "              title=\"Convert this dataframe to an interactive table.\"\n",
              "              style=\"display:none;\">\n",
              "        \n",
              "  <svg xmlns=\"http://www.w3.org/2000/svg\" height=\"24px\"viewBox=\"0 0 24 24\"\n",
              "       width=\"24px\">\n",
              "    <path d=\"M0 0h24v24H0V0z\" fill=\"none\"/>\n",
              "    <path d=\"M18.56 5.44l.94 2.06.94-2.06 2.06-.94-2.06-.94-.94-2.06-.94 2.06-2.06.94zm-11 1L8.5 8.5l.94-2.06 2.06-.94-2.06-.94L8.5 2.5l-.94 2.06-2.06.94zm10 10l.94 2.06.94-2.06 2.06-.94-2.06-.94-.94-2.06-.94 2.06-2.06.94z\"/><path d=\"M17.41 7.96l-1.37-1.37c-.4-.4-.92-.59-1.43-.59-.52 0-1.04.2-1.43.59L10.3 9.45l-7.72 7.72c-.78.78-.78 2.05 0 2.83L4 21.41c.39.39.9.59 1.41.59.51 0 1.02-.2 1.41-.59l7.78-7.78 2.81-2.81c.8-.78.8-2.07 0-2.86zM5.41 20L4 18.59l7.72-7.72 1.47 1.35L5.41 20z\"/>\n",
              "  </svg>\n",
              "      </button>\n",
              "      \n",
              "  <style>\n",
              "    .colab-df-container {\n",
              "      display:flex;\n",
              "      flex-wrap:wrap;\n",
              "      gap: 12px;\n",
              "    }\n",
              "\n",
              "    .colab-df-convert {\n",
              "      background-color: #E8F0FE;\n",
              "      border: none;\n",
              "      border-radius: 50%;\n",
              "      cursor: pointer;\n",
              "      display: none;\n",
              "      fill: #1967D2;\n",
              "      height: 32px;\n",
              "      padding: 0 0 0 0;\n",
              "      width: 32px;\n",
              "    }\n",
              "\n",
              "    .colab-df-convert:hover {\n",
              "      background-color: #E2EBFA;\n",
              "      box-shadow: 0px 1px 2px rgba(60, 64, 67, 0.3), 0px 1px 3px 1px rgba(60, 64, 67, 0.15);\n",
              "      fill: #174EA6;\n",
              "    }\n",
              "\n",
              "    [theme=dark] .colab-df-convert {\n",
              "      background-color: #3B4455;\n",
              "      fill: #D2E3FC;\n",
              "    }\n",
              "\n",
              "    [theme=dark] .colab-df-convert:hover {\n",
              "      background-color: #434B5C;\n",
              "      box-shadow: 0px 1px 3px 1px rgba(0, 0, 0, 0.15);\n",
              "      filter: drop-shadow(0px 1px 2px rgba(0, 0, 0, 0.3));\n",
              "      fill: #FFFFFF;\n",
              "    }\n",
              "  </style>\n",
              "\n",
              "      <script>\n",
              "        const buttonEl =\n",
              "          document.querySelector('#df-465aac2e-5630-42bc-bfe9-663c2bb227b3 button.colab-df-convert');\n",
              "        buttonEl.style.display =\n",
              "          google.colab.kernel.accessAllowed ? 'block' : 'none';\n",
              "\n",
              "        async function convertToInteractive(key) {\n",
              "          const element = document.querySelector('#df-465aac2e-5630-42bc-bfe9-663c2bb227b3');\n",
              "          const dataTable =\n",
              "            await google.colab.kernel.invokeFunction('convertToInteractive',\n",
              "                                                     [key], {});\n",
              "          if (!dataTable) return;\n",
              "\n",
              "          const docLinkHtml = 'Like what you see? Visit the ' +\n",
              "            '<a target=\"_blank\" href=https://colab.research.google.com/notebooks/data_table.ipynb>data table notebook</a>'\n",
              "            + ' to learn more about interactive tables.';\n",
              "          element.innerHTML = '';\n",
              "          dataTable['output_type'] = 'display_data';\n",
              "          await google.colab.output.renderOutput(dataTable, element);\n",
              "          const docLink = document.createElement('div');\n",
              "          docLink.innerHTML = docLinkHtml;\n",
              "          element.appendChild(docLink);\n",
              "        }\n",
              "      </script>\n",
              "    </div>\n",
              "  </div>\n",
              "  "
            ],
            "text/plain": [
              "   precision    recall  f1-score  accuracy  cross-entropy  Cohen-Kappa\n",
              "0   0.001443  0.037983   0.00278  0.037983       3.491076          0.0"
            ]
          },
          "metadata": {},
          "output_type": "display_data"
        }
      ],
      "source": [
        "# testing\n",
        "test_labels = reference_df_test['class']\n",
        "test_pred = model.predict(test_dataset, steps=test_steps, verbose=1)[:len(test_labels)].squeeze()\n",
        "\n",
        "y_pred = np.argmax(test_pred, axis=1)\n",
        "y_true = reference_df_test['class'].tolist()\n",
        "\n",
        "accuracy = accuracy_score(y_true=y_true, y_pred=y_pred)\n",
        "logloss  = log_loss(y_true, test_pred, labels=np.arange(35))\n",
        "cohen_k  = cohen_kappa_score(y_true, y_pred)\n",
        "\n",
        "cr = class_report(y_true, y_pred)\n",
        "weighted_metrics = cr.iloc[-1].tolist()\n",
        "\n",
        "df_metrics = pd.DataFrame(\n",
        "    [weighted_metrics + [accuracy, logloss, cohen_k]], \n",
        "    columns = ['precision', 'recall', 'f1-score', 'accuracy', 'cross-entropy', 'Cohen-Kappa'], \n",
        ")\n",
        "\n",
        "print('Training results without batch normalization:\\n')\n",
        "display(df_metrics)"
      ]
    },
    {
      "cell_type": "markdown",
      "metadata": {
        "id": "nmZQ5DEzIvRE"
      },
      "source": [
        "## 6 - Best model modified, training and testing\n"
      ]
    },
    {
      "cell_type": "markdown",
      "metadata": {
        "id": "S5kfWpxDY7h9"
      },
      "source": [
        "### 6.0 - Modified model definition"
      ]
    },
    {
      "cell_type": "code",
      "execution_count": null,
      "metadata": {
        "colab": {
          "base_uri": "https://localhost:8080/",
          "height": 1000
        },
        "id": "vowWDe_wY-sS",
        "outputId": "6653aa3f-782a-416f-dcf6-deba60d80b99"
      },
      "outputs": [
        {
          "name": "stdout",
          "output_type": "stream",
          "text": [
            "Model: \"custom_cnn\"\n",
            "_________________________________________________________________\n",
            " Layer (type)                Output Shape              Param #   \n",
            "=================================================================\n",
            " reshape_1 (Reshape)         (None, 99, 40, 1)         0         \n",
            "                                                                 \n",
            " batch_normalization_6 (Batc  (None, 99, 40, 1)        4         \n",
            " hNormalization)                                                 \n",
            "                                                                 \n",
            " conv2d_4 (Conv2D)           (None, 99, 40, 48)        1056      \n",
            "                                                                 \n",
            " batch_normalization_7 (Batc  (None, 99, 40, 48)       192       \n",
            " hNormalization)                                                 \n",
            "                                                                 \n",
            " activation_5 (Activation)   (None, 99, 40, 48)        0         \n",
            "                                                                 \n",
            " conv2d_5 (Conv2D)           (None, 99, 40, 48)        48432     \n",
            "                                                                 \n",
            " batch_normalization_8 (Batc  (None, 99, 40, 48)       192       \n",
            " hNormalization)                                                 \n",
            "                                                                 \n",
            " activation_6 (Activation)   (None, 99, 40, 48)        0         \n",
            "                                                                 \n",
            " conv2d_6 (Conv2D)           (None, 99, 40, 48)        48432     \n",
            "                                                                 \n",
            " batch_normalization_9 (Batc  (None, 99, 40, 48)       192       \n",
            " hNormalization)                                                 \n",
            "                                                                 \n",
            " activation_7 (Activation)   (None, 99, 40, 48)        0         \n",
            "                                                                 \n",
            " max_pooling2d_4 (MaxPooling  (None, 49, 20, 48)       0         \n",
            " 2D)                                                             \n",
            "                                                                 \n",
            " dropout_5 (Dropout)         (None, 49, 20, 48)        0         \n",
            "                                                                 \n",
            " conv2d_7 (Conv2D)           (None, 49, 20, 32)        32288     \n",
            "                                                                 \n",
            " batch_normalization_10 (Bat  (None, 49, 20, 32)       128       \n",
            " chNormalization)                                                \n",
            "                                                                 \n",
            " activation_8 (Activation)   (None, 49, 20, 32)        0         \n",
            "                                                                 \n",
            " conv2d_8 (Conv2D)           (None, 49, 20, 32)        21536     \n",
            "                                                                 \n",
            " batch_normalization_11 (Bat  (None, 49, 20, 32)       128       \n",
            " chNormalization)                                                \n",
            "                                                                 \n",
            " activation_9 (Activation)   (None, 49, 20, 32)        0         \n",
            "                                                                 \n",
            " conv2d_9 (Conv2D)           (None, 49, 20, 32)        21536     \n",
            "                                                                 \n",
            " batch_normalization_12 (Bat  (None, 49, 20, 32)       128       \n",
            " chNormalization)                                                \n",
            "                                                                 \n",
            " activation_10 (Activation)  (None, 49, 20, 32)        0         \n",
            "                                                                 \n",
            " max_pooling2d_5 (MaxPooling  (None, 24, 10, 32)       0         \n",
            " 2D)                                                             \n",
            "                                                                 \n",
            " dropout_6 (Dropout)         (None, 24, 10, 32)        0         \n",
            "                                                                 \n",
            " conv2d_10 (Conv2D)          (None, 24, 10, 128)       143488    \n",
            "                                                                 \n",
            " batch_normalization_13 (Bat  (None, 24, 10, 128)      512       \n",
            " chNormalization)                                                \n",
            "                                                                 \n",
            " activation_11 (Activation)  (None, 24, 10, 128)       0         \n",
            "                                                                 \n",
            " max_pooling2d_6 (MaxPooling  (None, 8, 10, 128)       0         \n",
            " 2D)                                                             \n",
            "                                                                 \n",
            " dropout_7 (Dropout)         (None, 8, 10, 128)        0         \n",
            "                                                                 \n",
            " conv2d_11 (Conv2D)          (None, 8, 10, 64)         286784    \n",
            "                                                                 \n",
            " batch_normalization_14 (Bat  (None, 8, 10, 64)        256       \n",
            " chNormalization)                                                \n",
            "                                                                 \n",
            " activation_12 (Activation)  (None, 8, 10, 64)         0         \n",
            "                                                                 \n",
            " max_pooling2d_7 (MaxPooling  (None, 2, 10, 64)        0         \n",
            " 2D)                                                             \n",
            "                                                                 \n",
            " dropout_8 (Dropout)         (None, 2, 10, 64)         0         \n",
            "                                                                 \n",
            " flatten_1 (Flatten)         (None, 1280)              0         \n",
            "                                                                 \n",
            " features512 (Dense)         (None, 512)               655872    \n",
            "                                                                 \n",
            " batch_normalization_15 (Bat  (None, 512)              2048      \n",
            " chNormalization)                                                \n",
            "                                                                 \n",
            " activation_13 (Activation)  (None, 512)               0         \n",
            "                                                                 \n",
            " dropout_9 (Dropout)         (None, 512)               0         \n",
            "                                                                 \n",
            " features256 (Dense)         (None, 256)               131328    \n",
            "                                                                 \n",
            " batch_normalization_16 (Bat  (None, 256)              1024      \n",
            " chNormalization)                                                \n",
            "                                                                 \n",
            " activation_14 (Activation)  (None, 256)               0         \n",
            "                                                                 \n",
            " dense_2 (Dense)             (None, 35)                8995      \n",
            "                                                                 \n",
            "=================================================================\n",
            "Total params: 1,404,551\n",
            "Trainable params: 1,402,149\n",
            "Non-trainable params: 2,402\n",
            "_________________________________________________________________\n"
          ]
        },
        {
          "data": {
            "image/png": "[encoded data removed]",
            "text/plain": [
              "<PIL.Image.Image image mode=RGBA size=1619x292 at 0x7F51A1FA0190>"
            ]
          },
          "execution_count": 22,
          "metadata": {},
          "output_type": "execute_result"
        }
      ],
      "source": [
        "def custom_cnn(input_shape):\n",
        "\n",
        "    model = tf.keras.models.Sequential(name='custom_cnn')\n",
        "\n",
        "    model.add(tf.keras.layers.Reshape(input_shape=input_shape, target_shape=(input_shape[0], input_shape[1], 1)))\n",
        "    model.add(tf.keras.layers.BatchNormalization())\n",
        "\n",
        "    filters_pool = [48, 32]\n",
        "\n",
        "    for num_filters in filters_pool:\n",
        "\n",
        "        model.add(tf.keras.layers.Conv2D(num_filters, kernel_size=(7, 3), padding='same'))\n",
        "        model.add(tf.keras.layers.BatchNormalization())\n",
        "        model.add(tf.keras.layers.Activation('relu'))\n",
        "\n",
        "        model.add(tf.keras.layers.Conv2D(num_filters, kernel_size=(7, 3), padding='same'))\n",
        "        model.add(tf.keras.layers.BatchNormalization())\n",
        "        model.add(tf.keras.layers.Activation('relu'))\n",
        "\n",
        "        model.add(tf.keras.layers.Conv2D(num_filters, kernel_size=(7, 3), padding='same'))\n",
        "        model.add(tf.keras.layers.BatchNormalization())\n",
        "        model.add(tf.keras.layers.Activation('relu'))\n",
        "\n",
        "        model.add(tf.keras.layers.MaxPooling2D(pool_size=(2, 2)))\n",
        "        model.add(tf.keras.layers.Dropout(0.3))\n",
        "\n",
        "    filters_pool_in_time = [128, 64]\n",
        "\n",
        "    for p, num_filters in zip([3, 3], filters_pool_in_time):\n",
        "\n",
        "        model.add(tf.keras.layers.Conv2D(num_filters, kernel_size=(5, 7), padding='same'))\n",
        "        model.add(tf.keras.layers.BatchNormalization())\n",
        "        model.add(tf.keras.layers.Activation('relu'))\n",
        "\n",
        "        model.add(tf.keras.layers.MaxPooling2D(pool_size=(p, 1)))\n",
        "        model.add(tf.keras.layers.Dropout(0.3))\n",
        "\n",
        "    model.add(tf.keras.layers.Flatten())\n",
        "    model.add(tf.keras.layers.Dense(512, name='features512'))\n",
        "    model.add(tf.keras.layers.BatchNormalization())\n",
        "    model.add(tf.keras.layers.Activation('relu'))\n",
        "    model.add(tf.keras.layers.Dropout(0.4))\n",
        "    model.add(tf.keras.layers.Dense(256, name='features256'))\n",
        "    model.add(tf.keras.layers.BatchNormalization())\n",
        "    model.add(tf.keras.layers.Activation('relu'))\n",
        "    model.add(tf.keras.layers.Dense(35, activation='softmax'))\n",
        "\n",
        "    return model\n",
        "\n",
        "# del model\n",
        "model = custom_cnn(input_shape)\n",
        "model_name = 'custom_cnn'\n",
        "\n",
        "model.compile(optimizer=tf.keras.optimizers.Adam(learning_rate=0.01), loss=\"sparse_categorical_crossentropy\", metrics=[\"sparse_categorical_accuracy\"])\n",
        "model.summary()\n",
        "\n",
        "visualkeras.layered_view(model)"
      ]
    },
    {
      "cell_type": "markdown",
      "metadata": {
        "id": "0NoCqC6nZdJY"
      },
      "source": [
        "### 6.1 - Model training "
      ]
    },
    {
      "cell_type": "code",
      "execution_count": null,
      "metadata": {
        "colab": {
          "base_uri": "https://localhost:8080/",
          "height": 1000
        },
        "id": "qyek5P-7ZVgk",
        "outputId": "6ec44607-def0-4b26-f571-9811c01466e6"
      },
      "outputs": [
        {
          "name": "stdout",
          "output_type": "stream",
          "text": [
            "Epoch 1/40\n",
            "2652/2652 [==============================] - 419s 53ms/step - loss: 1.9137 - sparse_categorical_accuracy: 0.4505 - val_loss: 0.6765 - val_sparse_categorical_accuracy: 0.7891 - lr: 0.0100\n",
            "Epoch 2/40\n",
            "2652/2652 [==============================] - 110s 42ms/step - loss: 0.7141 - sparse_categorical_accuracy: 0.7894 - val_loss: 0.4850 - val_sparse_categorical_accuracy: 0.8526 - lr: 0.0100\n",
            "Epoch 3/40\n",
            "2652/2652 [==============================] - 109s 41ms/step - loss: 0.5625 - sparse_categorical_accuracy: 0.8349 - val_loss: 0.4926 - val_sparse_categorical_accuracy: 0.8595 - lr: 0.0100\n",
            "Epoch 4/40\n",
            "2652/2652 [==============================] - 109s 41ms/step - loss: 0.4825 - sparse_categorical_accuracy: 0.8572 - val_loss: 0.3778 - val_sparse_categorical_accuracy: 0.8901 - lr: 0.0100\n",
            "Epoch 5/40\n",
            "2652/2652 [==============================] - 109s 41ms/step - loss: 0.4323 - sparse_categorical_accuracy: 0.8719 - val_loss: 0.3114 - val_sparse_categorical_accuracy: 0.9089 - lr: 0.0100\n",
            "Epoch 6/40\n",
            "2652/2652 [==============================] - 109s 41ms/step - loss: 0.3946 - sparse_categorical_accuracy: 0.8828 - val_loss: 0.2806 - val_sparse_categorical_accuracy: 0.9180 - lr: 0.0100\n",
            "Epoch 7/40\n",
            "2652/2652 [==============================] - 108s 41ms/step - loss: 0.3641 - sparse_categorical_accuracy: 0.8923 - val_loss: 0.2895 - val_sparse_categorical_accuracy: 0.9156 - lr: 0.0100\n",
            "Epoch 8/40\n",
            "2652/2652 [==============================] - 108s 41ms/step - loss: 0.3428 - sparse_categorical_accuracy: 0.8984 - val_loss: 0.2804 - val_sparse_categorical_accuracy: 0.9187 - lr: 0.0100\n",
            "Epoch 9/40\n",
            "2652/2652 [==============================] - 108s 41ms/step - loss: 0.3234 - sparse_categorical_accuracy: 0.9032 - val_loss: 0.3018 - val_sparse_categorical_accuracy: 0.9097 - lr: 0.0100\n",
            "Epoch 10/40\n",
            "2652/2652 [==============================] - 108s 41ms/step - loss: 0.3115 - sparse_categorical_accuracy: 0.9066 - val_loss: 0.2547 - val_sparse_categorical_accuracy: 0.9270 - lr: 0.0100\n",
            "Epoch 11/40\n",
            "2652/2652 [==============================] - 108s 41ms/step - loss: 0.2971 - sparse_categorical_accuracy: 0.9111 - val_loss: 0.2415 - val_sparse_categorical_accuracy: 0.9300 - lr: 0.0100\n",
            "Epoch 12/40\n",
            "2652/2652 [==============================] - 108s 41ms/step - loss: 0.2876 - sparse_categorical_accuracy: 0.9138 - val_loss: 0.2771 - val_sparse_categorical_accuracy: 0.9233 - lr: 0.0100\n",
            "Epoch 13/40\n",
            "2652/2652 [==============================] - 108s 41ms/step - loss: 0.2758 - sparse_categorical_accuracy: 0.9170 - val_loss: 0.2472 - val_sparse_categorical_accuracy: 0.9307 - lr: 0.0100\n",
            "Epoch 14/40\n",
            "2651/2652 [============================>.] - ETA: 0s - loss: 0.2660 - sparse_categorical_accuracy: 0.9193\n",
            "Epoch 14: ReduceLROnPlateau reducing learning rate to 0.0009999999776482583.\n",
            "2652/2652 [==============================] - 109s 41ms/step - loss: 0.2660 - sparse_categorical_accuracy: 0.9194 - val_loss: 0.2568 - val_sparse_categorical_accuracy: 0.9286 - lr: 0.0100\n",
            "Epoch 15/40\n",
            "2652/2652 [==============================] - 108s 41ms/step - loss: 0.2015 - sparse_categorical_accuracy: 0.9395 - val_loss: 0.1965 - val_sparse_categorical_accuracy: 0.9447 - lr: 1.0000e-03\n",
            "Epoch 16/40\n",
            "2652/2652 [==============================] - 109s 41ms/step - loss: 0.1864 - sparse_categorical_accuracy: 0.9427 - val_loss: 0.1926 - val_sparse_categorical_accuracy: 0.9463 - lr: 1.0000e-03\n",
            "Epoch 17/40\n",
            "2652/2652 [==============================] - 109s 41ms/step - loss: 0.1767 - sparse_categorical_accuracy: 0.9463 - val_loss: 0.1939 - val_sparse_categorical_accuracy: 0.9472 - lr: 1.0000e-03\n",
            "Epoch 18/40\n",
            "2652/2652 [==============================] - 108s 41ms/step - loss: 0.1739 - sparse_categorical_accuracy: 0.9474 - val_loss: 0.1930 - val_sparse_categorical_accuracy: 0.9479 - lr: 1.0000e-03\n",
            "Epoch 19/40\n",
            "2652/2652 [==============================] - 108s 41ms/step - loss: 0.1718 - sparse_categorical_accuracy: 0.9479 - val_loss: 0.1917 - val_sparse_categorical_accuracy: 0.9474 - lr: 1.0000e-03\n",
            "Epoch 20/40\n",
            "2652/2652 [==============================] - 108s 41ms/step - loss: 0.1689 - sparse_categorical_accuracy: 0.9488 - val_loss: 0.1920 - val_sparse_categorical_accuracy: 0.9474 - lr: 1.0000e-03\n",
            "Epoch 21/40\n",
            "2652/2652 [==============================] - 108s 41ms/step - loss: 0.1631 - sparse_categorical_accuracy: 0.9490 - val_loss: 0.1924 - val_sparse_categorical_accuracy: 0.9486 - lr: 1.0000e-03\n",
            "Epoch 22/40\n",
            "2651/2652 [============================>.] - ETA: 0s - loss: 0.1606 - sparse_categorical_accuracy: 0.9509\n",
            "Epoch 22: ReduceLROnPlateau reducing learning rate to 9.999999310821295e-05.\n",
            "2652/2652 [==============================] - 108s 41ms/step - loss: 0.1607 - sparse_categorical_accuracy: 0.9508 - val_loss: 0.1924 - val_sparse_categorical_accuracy: 0.9489 - lr: 1.0000e-03\n",
            "Epoch 23/40\n",
            "2652/2652 [==============================] - 108s 41ms/step - loss: 0.1532 - sparse_categorical_accuracy: 0.9520 - val_loss: 0.1919 - val_sparse_categorical_accuracy: 0.9485 - lr: 1.0000e-04\n",
            "Epoch 24/40\n",
            "2652/2652 [==============================] - 108s 41ms/step - loss: 0.1531 - sparse_categorical_accuracy: 0.9534 - val_loss: 0.1909 - val_sparse_categorical_accuracy: 0.9486 - lr: 1.0000e-04\n",
            "Epoch 25/40\n",
            "2652/2652 [==============================] - 108s 41ms/step - loss: 0.1524 - sparse_categorical_accuracy: 0.9527 - val_loss: 0.1912 - val_sparse_categorical_accuracy: 0.9483 - lr: 1.0000e-04\n",
            "Epoch 26/40\n",
            "2652/2652 [==============================] - 109s 41ms/step - loss: 0.1513 - sparse_categorical_accuracy: 0.9536 - val_loss: 0.1905 - val_sparse_categorical_accuracy: 0.9487 - lr: 1.0000e-04\n",
            "Epoch 27/40\n",
            "2652/2652 [==============================] - 108s 41ms/step - loss: 0.1507 - sparse_categorical_accuracy: 0.9541 - val_loss: 0.1907 - val_sparse_categorical_accuracy: 0.9485 - lr: 1.0000e-04\n",
            "Epoch 28/40\n",
            "2652/2652 [==============================] - 108s 41ms/step - loss: 0.1501 - sparse_categorical_accuracy: 0.9538 - val_loss: 0.1910 - val_sparse_categorical_accuracy: 0.9484 - lr: 1.0000e-04\n",
            "Epoch 29/40\n",
            "2651/2652 [============================>.] - ETA: 0s - loss: 0.1499 - sparse_categorical_accuracy: 0.9534\n",
            "Epoch 29: ReduceLROnPlateau reducing learning rate to 9.999999019782991e-06.\n",
            "2652/2652 [==============================] - 108s 41ms/step - loss: 0.1499 - sparse_categorical_accuracy: 0.9534 - val_loss: 0.1910 - val_sparse_categorical_accuracy: 0.9486 - lr: 1.0000e-04\n",
            "Epoch 30/40\n",
            "2652/2652 [==============================] - 108s 41ms/step - loss: 0.1465 - sparse_categorical_accuracy: 0.9546 - val_loss: 0.1917 - val_sparse_categorical_accuracy: 0.9483 - lr: 1.0000e-05\n",
            "Epoch 31/40\n",
            "2652/2652 [==============================] - 108s 41ms/step - loss: 0.1485 - sparse_categorical_accuracy: 0.9545 - val_loss: 0.1913 - val_sparse_categorical_accuracy: 0.9483 - lr: 1.0000e-05\n",
            "Training history:\n"
          ]
        },
        {
          "data": {
            "image/png": "[encoded data removed]",
            "text/plain": [
              "<Figure size 576x720 with 2 Axes>"
            ]
          },
          "metadata": {
            "needs_background": "light"
          },
          "output_type": "display_data"
        }
      ],
      "source": [
        "num_epochs = 40\n",
        "early_stop_callback = tf.keras.callbacks.EarlyStopping(monitor='val_loss', patience=5)\n",
        "\n",
        "reduce_LR = tf.keras.callbacks.ReduceLROnPlateau(monitor='val_loss', patience=3, verbose=1)\n",
        "\n",
        "model_checkpoint = tf.keras.callbacks.ModelCheckpoint(f'trained_models/{model_name}.h5', monitor='val_loss', save_best_only=True)\n",
        "\n",
        "history = model.fit(\n",
        "                train_dataset,\n",
        "                epochs=num_epochs,\n",
        "                steps_per_epoch=train_steps,\n",
        "                validation_data=val_dataset,\n",
        "                validation_steps=val_steps,\n",
        "                callbacks=[early_stop_callback, model_checkpoint, reduce_LR], \n",
        "                verbose=1\n",
        "                )\n",
        "\n",
        "print('Training history:')\n",
        "pd.DataFrame(history.history)\n",
        "\n",
        "plot_utils.plot_history(history, columns=['loss', 'sparse_categorical_accuracy'])"
      ]
    },
    {
      "cell_type": "markdown",
      "metadata": {
        "id": "IlOWhs9AZxkz"
      },
      "source": [
        "Uncomment the cell below to save the trained model."
      ]
    },
    {
      "cell_type": "code",
      "execution_count": null,
      "metadata": {
        "id": "-1zQrPBKZU09"
      },
      "outputs": [],
      "source": [
        "model.save(f'trained_models/{model_name}.h5')\n",
        "\n",
        "try:\n",
        "  from google.colab import files\n",
        "  files.download(f'trained_models/{model_name}.h5')\n",
        "\n",
        "except:\n",
        "  pass"
      ]
    },
    {
      "cell_type": "markdown",
      "metadata": {
        "id": "asl2lKDFZ06t"
      },
      "source": [
        "### 6.2 - Validation metrics"
      ]
    },
    {
      "cell_type": "code",
      "execution_count": null,
      "metadata": {
        "colab": {
          "base_uri": "https://localhost:8080/",
          "height": 1000
        },
        "id": "JizV87dWZUO_",
        "outputId": "15d808af-b616-4f97-eba5-07281b9a4505"
      },
      "outputs": [
        {
          "name": "stdout",
          "output_type": "stream",
          "text": [
            "344/344 [==============================] - 43s 126ms/step\n"
          ]
        },
        {
          "data": {
            "image/png": "[encoded data removed]",
            "text/plain": [
              "<Figure size 1512x1296 with 2 Axes>"
            ]
          },
          "metadata": {
            "needs_background": "light"
          },
          "output_type": "display_data"
        }
      ],
      "source": [
        "# get predictions for test set\n",
        "test_labels = reference_df_test['class']\n",
        "test_pred = model.predict(test_dataset, steps=test_steps, verbose=1)[:len(test_labels)].squeeze()\n",
        "\n",
        "# estimate class\n",
        "y_pred = np.argmax(test_pred, axis=1)\n",
        "\n",
        "# true labels\n",
        "y_true = reference_df_test['class'].tolist()\n",
        "\n",
        "# plot cm\n",
        "cm = confusion_matrix(y_pred, y_true)\n",
        "plot_utils.plot_confusion_matrix(cm, labels=commands, normalize=True, saveit=False, model_name='')"
      ]
    },
    {
      "cell_type": "code",
      "execution_count": null,
      "metadata": {
        "colab": {
          "base_uri": "https://localhost:8080/",
          "height": 81
        },
        "id": "VVBjahZBaK3s",
        "outputId": "e7ffc157-fe71-4c2e-fb07-155ac2ed5862"
      },
      "outputs": [
        {
          "data": {
            "text/html": [
              "\n",
              "  <div id=\"df-df899699-9014-4959-b591-31ab4d115168\">\n",
              "    <div class=\"colab-df-container\">\n",
              "      <div>\n",
              "<style scoped>\n",
              "    .dataframe tbody tr th:only-of-type {\n",
              "        vertical-align: middle;\n",
              "    }\n",
              "\n",
              "    .dataframe tbody tr th {\n",
              "        vertical-align: top;\n",
              "    }\n",
              "\n",
              "    .dataframe thead th {\n",
              "        text-align: right;\n",
              "    }\n",
              "</style>\n",
              "<table border=\"1\" class=\"dataframe\">\n",
              "  <thead>\n",
              "    <tr style=\"text-align: right;\">\n",
              "      <th></th>\n",
              "      <th>precision</th>\n",
              "      <th>recall</th>\n",
              "      <th>f1-score</th>\n",
              "      <th>accuracy</th>\n",
              "      <th>cross-entropy</th>\n",
              "      <th>Cohen-Kappa</th>\n",
              "    </tr>\n",
              "  </thead>\n",
              "  <tbody>\n",
              "    <tr>\n",
              "      <th>0</th>\n",
              "      <td>0.9465</td>\n",
              "      <td>0.9459</td>\n",
              "      <td>0.9459</td>\n",
              "      <td>0.9459</td>\n",
              "      <td>0.1917</td>\n",
              "      <td>0.9441</td>\n",
              "    </tr>\n",
              "  </tbody>\n",
              "</table>\n",
              "</div>\n",
              "      <button class=\"colab-df-convert\" onclick=\"convertToInteractive('df-df899699-9014-4959-b591-31ab4d115168')\"\n",
              "              title=\"Convert this dataframe to an interactive table.\"\n",
              "              style=\"display:none;\">\n",
              "        \n",
              "  <svg xmlns=\"http://www.w3.org/2000/svg\" height=\"24px\"viewBox=\"0 0 24 24\"\n",
              "       width=\"24px\">\n",
              "    <path d=\"M0 0h24v24H0V0z\" fill=\"none\"/>\n",
              "    <path d=\"M18.56 5.44l.94 2.06.94-2.06 2.06-.94-2.06-.94-.94-2.06-.94 2.06-2.06.94zm-11 1L8.5 8.5l.94-2.06 2.06-.94-2.06-.94L8.5 2.5l-.94 2.06-2.06.94zm10 10l.94 2.06.94-2.06 2.06-.94-2.06-.94-.94-2.06-.94 2.06-2.06.94z\"/><path d=\"M17.41 7.96l-1.37-1.37c-.4-.4-.92-.59-1.43-.59-.52 0-1.04.2-1.43.59L10.3 9.45l-7.72 7.72c-.78.78-.78 2.05 0 2.83L4 21.41c.39.39.9.59 1.41.59.51 0 1.02-.2 1.41-.59l7.78-7.78 2.81-2.81c.8-.78.8-2.07 0-2.86zM5.41 20L4 18.59l7.72-7.72 1.47 1.35L5.41 20z\"/>\n",
              "  </svg>\n",
              "      </button>\n",
              "      \n",
              "  <style>\n",
              "    .colab-df-container {\n",
              "      display:flex;\n",
              "      flex-wrap:wrap;\n",
              "      gap: 12px;\n",
              "    }\n",
              "\n",
              "    .colab-df-convert {\n",
              "      background-color: #E8F0FE;\n",
              "      border: none;\n",
              "      border-radius: 50%;\n",
              "      cursor: pointer;\n",
              "      display: none;\n",
              "      fill: #1967D2;\n",
              "      height: 32px;\n",
              "      padding: 0 0 0 0;\n",
              "      width: 32px;\n",
              "    }\n",
              "\n",
              "    .colab-df-convert:hover {\n",
              "      background-color: #E2EBFA;\n",
              "      box-shadow: 0px 1px 2px rgba(60, 64, 67, 0.3), 0px 1px 3px 1px rgba(60, 64, 67, 0.15);\n",
              "      fill: #174EA6;\n",
              "    }\n",
              "\n",
              "    [theme=dark] .colab-df-convert {\n",
              "      background-color: #3B4455;\n",
              "      fill: #D2E3FC;\n",
              "    }\n",
              "\n",
              "    [theme=dark] .colab-df-convert:hover {\n",
              "      background-color: #434B5C;\n",
              "      box-shadow: 0px 1px 3px 1px rgba(0, 0, 0, 0.15);\n",
              "      filter: drop-shadow(0px 1px 2px rgba(0, 0, 0, 0.3));\n",
              "      fill: #FFFFFF;\n",
              "    }\n",
              "  </style>\n",
              "\n",
              "      <script>\n",
              "        const buttonEl =\n",
              "          document.querySelector('#df-df899699-9014-4959-b591-31ab4d115168 button.colab-df-convert');\n",
              "        buttonEl.style.display =\n",
              "          google.colab.kernel.accessAllowed ? 'block' : 'none';\n",
              "\n",
              "        async function convertToInteractive(key) {\n",
              "          const element = document.querySelector('#df-df899699-9014-4959-b591-31ab4d115168');\n",
              "          const dataTable =\n",
              "            await google.colab.kernel.invokeFunction('convertToInteractive',\n",
              "                                                     [key], {});\n",
              "          if (!dataTable) return;\n",
              "\n",
              "          const docLinkHtml = 'Like what you see? Visit the ' +\n",
              "            '<a target=\"_blank\" href=https://colab.research.google.com/notebooks/data_table.ipynb>data table notebook</a>'\n",
              "            + ' to learn more about interactive tables.';\n",
              "          element.innerHTML = '';\n",
              "          dataTable['output_type'] = 'display_data';\n",
              "          await google.colab.output.renderOutput(dataTable, element);\n",
              "          const docLink = document.createElement('div');\n",
              "          docLink.innerHTML = docLinkHtml;\n",
              "          element.appendChild(docLink);\n",
              "        }\n",
              "      </script>\n",
              "    </div>\n",
              "  </div>\n",
              "  "
            ],
            "text/plain": [
              "   precision  recall  f1-score  accuracy  cross-entropy  Cohen-Kappa\n",
              "0     0.9465  0.9459    0.9459    0.9459         0.1917       0.9441"
            ]
          },
          "metadata": {},
          "output_type": "display_data"
        }
      ],
      "source": [
        "# get metrics and display them \n",
        "accuracy = accuracy_score(y_true=y_true, y_pred=y_pred)\n",
        "logloss  = log_loss(y_true, test_pred, labels=np.arange(35))\n",
        "cohen_k  = cohen_kappa_score(y_true, y_pred)\n",
        "\n",
        "# print('Accuracy:      {:.2f}%'.format(accuracy*100))\n",
        "# print('Error rate:    {:.2f}%'.format((1-accuracy)*100))\n",
        "# print('Cross-entropy: {:.4f}'.format(logloss))\n",
        "# print(\"Cohen's Kappa: {:.4f}\".format(cohen_k))\n",
        "\n",
        "cr = class_report(y_true, y_pred)\n",
        "weighted_metrics = cr.iloc[-1].tolist()\n",
        "\n",
        "df_metrics_modified = pd.DataFrame(\n",
        "    [weighted_metrics + [accuracy, logloss, cohen_k]], \n",
        "    columns = ['precision', 'recall', 'f1-score', 'accuracy', 'cross-entropy', 'Cohen-Kappa'], \n",
        ")\n",
        "\n",
        "display(df_metrics_modified.round(4))"
      ]
    },
    {
      "cell_type": "markdown",
      "metadata": {
        "id": "4PPkbPB6aZWw"
      },
      "source": [
        "# Feature Comparison\n",
        "Here we train the model `custom_cnn_simple` for 20 epochs with different input audio features to perform a feature comparison. Recall that in the function `preprocessing_utils.load_and_preprocess_data` we defined the following features:\n",
        "\n",
        "```python\n",
        "features_to_input = { # input shapes\n",
        "    1 : (99, 39),     # MFCC features with delta\n",
        "    2 : (99, 40),     # log Mel-filterbank energy features\n",
        "    3 : (98, 257),    # spectrogram\n",
        "    4 : (49, 39),     # Discrete Wavelet Transform + MFCC features\n",
        "    5 : (99, 13)      # MFCC features no delta\n",
        "}\n",
        "```"
      ]
    },
    {
      "cell_type": "markdown",
      "metadata": {
        "id": "cT9gC2KibFQ5"
      },
      "source": [
        "## 7 - FC, training and testing loop\n"
      ]
    },
    {
      "cell_type": "code",
      "execution_count": 26,
      "metadata": {
        "id": "70wQsOBebPB6"
      },
      "outputs": [],
      "source": [
        "def training_and_testing(feature_selected, df_store=None, noise_red=0.5, random_shift=False):\n",
        "  # remove cache files\n",
        "  remove_file_starting_with('train_cache')\n",
        "  remove_file_starting_with('val_cache')\n",
        "  remove_file_starting_with('test_cache')\n",
        "\n",
        "  # create datasets\n",
        "  train_dataset, train_steps = create_dataset(\n",
        "      reference_df_train,\n",
        "      is_train=True,\n",
        "      cache_file='train_cache',\n",
        "      shuffle=True,\n",
        "      apply_background_noise=apply_bn,\n",
        "      noise_dict=noise_dict,\n",
        "      noise_reduction=noise_red,\n",
        "      features=feature_selected,\n",
        "      batch_size=batch_size,\n",
        "      random_shift=random_shift\n",
        "  )\n",
        "\n",
        "  val_dataset, val_steps = create_dataset(\n",
        "      reference_df_val,\n",
        "      is_train=False,\n",
        "      cache_file='val_cache',\n",
        "      shuffle=True,\n",
        "      apply_background_noise=False,\n",
        "      features=feature_selected,\n",
        "      batch_size=batch_size,\n",
        "      random_shift=random_shift\n",
        "  )\n",
        "\n",
        "  test_dataset, test_steps = create_dataset(\n",
        "      reference_df_test,\n",
        "      is_train=False,\n",
        "      cache_file='test_cache',\n",
        "      shuffle=False,\n",
        "      apply_background_noise=False,\n",
        "      features=feature_selected,\n",
        "      batch_size=batch_size\n",
        "  )\n",
        "\n",
        "  # input shape\n",
        "  input_shape = features_to_input[feature_selected]\n",
        "\n",
        "  # model\n",
        "  model = custom_cnn_simple(input_shape, *bo_params_redefined)\n",
        "  model_name = 'custom_cnn_simple_feature_comparison'\n",
        "\n",
        "  model.compile(optimizer=\"adam\", loss=\"sparse_categorical_crossentropy\", metrics=[\"sparse_categorical_accuracy\"])\n",
        "\n",
        "  # training\n",
        "  print('Start training... ')\n",
        "  num_epochs = 2\n",
        "\n",
        "  early_stop_callback = tf.keras.callbacks.EarlyStopping(monitor='val_loss', patience=5)\n",
        "\n",
        "  reduce_LR = tf.keras.callbacks.ReduceLROnPlateau(monitor='val_loss', patience=3, verbose=1)\n",
        "\n",
        "  model_checkpoint = tf.keras.callbacks.ModelCheckpoint(f'trained_models/{model_name}.h5', monitor='val_loss', save_best_only=True)\n",
        "\n",
        "  history = model.fit(\n",
        "                  train_dataset,\n",
        "                  epochs=num_epochs,\n",
        "                  steps_per_epoch=train_steps,\n",
        "                  validation_data=val_dataset,\n",
        "                  validation_steps=val_steps,\n",
        "                  callbacks=[early_stop_callback, model_checkpoint, reduce_LR], \n",
        "                  verbose=0\n",
        "                  )\n",
        "  \n",
        "  print('Training completed!')\n",
        "\n",
        "  # testing\n",
        "  print('Testing...')\n",
        "  test_labels = reference_df_test['class']\n",
        "  test_pred = model.predict(test_dataset, steps=test_steps, verbose=1)[:len(test_labels)].squeeze()\n",
        "\n",
        "  y_pred = np.argmax(test_pred, axis=1)\n",
        "  y_true = reference_df_test['class'].tolist()\n",
        "\n",
        "  accuracy = accuracy_score(y_true=y_true, y_pred=y_pred)\n",
        "  logloss  = log_loss(y_true, test_pred, labels=np.arange(35))\n",
        "  cohen_k  = cohen_kappa_score(y_true, y_pred)\n",
        "\n",
        "  cr = class_report(y_true, y_pred)\n",
        "  weighted_metrics = cr.iloc[-1].tolist()\n",
        "\n",
        "  df_metrics = pd.DataFrame(\n",
        "      [weighted_metrics + [accuracy, logloss, cohen_k]], \n",
        "      columns = ['precision', 'recall', 'f1-score', 'accuracy', 'cross-entropy', 'Cohen-Kappa'], \n",
        "  )\n",
        "\n",
        "  # store results\n",
        "  if df_store is not None:\n",
        "    df_return = pd.concat([df_store, df_metrics])\n",
        "  else:\n",
        "    df_return = df_metrics\n",
        "\n",
        "  # clean memory\n",
        "  del model\n",
        "  print('\\n')\n",
        "\n",
        "  return df_return"
      ]
    },
    {
      "cell_type": "code",
      "execution_count": 25,
      "metadata": {
        "id": "FGapocnfRzeE"
      },
      "outputs": [],
      "source": [
        "features_names = ['MFCC_with_delta', 'log_energy', 'spectrogram', 'dwt_mfcc_with_delta', 'MFCC_no_delta']"
      ]
    },
    {
      "cell_type": "markdown",
      "metadata": {
        "id": "rzdaIifTfc-l"
      },
      "source": [
        "Let's run the above function for all features and store the resulting metrics."
      ]
    },
    {
      "cell_type": "code",
      "execution_count": null,
      "metadata": {
        "colab": {
          "base_uri": "https://localhost:8080/"
        },
        "id": "pYlEL78PehCL",
        "outputId": "33f3f828-df2e-4307-c946-9f2fc9ee485d"
      },
      "outputs": [
        {
          "name": "stdout",
          "output_type": "stream",
          "text": [
            "--- ITERATION 0 ---\n",
            "Start training... \n",
            "Training completed!\n",
            "Testing...\n",
            "344/344 [==============================] - 44s 128ms/step\n",
            "\n",
            "\n",
            "--- ITERATION 1 ---\n",
            "Start training... \n",
            "Training completed!\n",
            "Testing...\n",
            "344/344 [==============================] - 34s 97ms/step\n",
            "\n",
            "\n",
            "--- ITERATION 2 ---\n",
            "Start training... \n",
            "Training completed!\n",
            "Testing...\n",
            "344/344 [==============================] - 90s 261ms/step\n",
            "\n",
            "\n",
            "--- ITERATION 3 ---\n",
            "Start training... \n",
            "Training completed!\n",
            "Testing...\n",
            "344/344 [==============================] - 40s 116ms/step\n",
            "\n",
            "\n",
            "--- ITERATION 4 ---\n",
            "Start training... \n",
            "Training completed!\n",
            "Testing...\n",
            "344/344 [==============================] - 35s 101ms/step\n",
            "\n",
            "\n"
          ]
        }
      ],
      "source": [
        "for i, feat in enumerate(np.arange(1, 6)):\n",
        "  print('--- ITERATION %i ---' %i)\n",
        "\n",
        "  if i==0:\n",
        "    df_output = training_and_testing(feat)\n",
        "\n",
        "  else:\n",
        "    df_output = training_and_testing(feat, df_output)"
      ]
    },
    {
      "cell_type": "code",
      "execution_count": null,
      "metadata": {
        "colab": {
          "base_uri": "https://localhost:8080/",
          "height": 206
        },
        "id": "87CiVHwxSdJp",
        "outputId": "85dd6df2-f4cf-4f7f-eee3-6c8edb681bbf"
      },
      "outputs": [
        {
          "data": {
            "text/html": [
              "\n",
              "  <div id=\"df-f51b09b4-196c-4ce8-bdfe-bc2dd02029b0\">\n",
              "    <div class=\"colab-df-container\">\n",
              "      <div>\n",
              "<style scoped>\n",
              "    .dataframe tbody tr th:only-of-type {\n",
              "        vertical-align: middle;\n",
              "    }\n",
              "\n",
              "    .dataframe tbody tr th {\n",
              "        vertical-align: top;\n",
              "    }\n",
              "\n",
              "    .dataframe thead th {\n",
              "        text-align: right;\n",
              "    }\n",
              "</style>\n",
              "<table border=\"1\" class=\"dataframe\">\n",
              "  <thead>\n",
              "    <tr style=\"text-align: right;\">\n",
              "      <th></th>\n",
              "      <th>precision</th>\n",
              "      <th>recall</th>\n",
              "      <th>f1-score</th>\n",
              "      <th>accuracy</th>\n",
              "      <th>cross-entropy</th>\n",
              "      <th>Cohen-Kappa</th>\n",
              "    </tr>\n",
              "  </thead>\n",
              "  <tbody>\n",
              "    <tr>\n",
              "      <th>log_energy</th>\n",
              "      <td>0.8659</td>\n",
              "      <td>0.8590</td>\n",
              "      <td>0.8577</td>\n",
              "      <td>0.8590</td>\n",
              "      <td>0.4718</td>\n",
              "      <td>0.8542</td>\n",
              "    </tr>\n",
              "    <tr>\n",
              "      <th>spectrogram</th>\n",
              "      <td>0.8281</td>\n",
              "      <td>0.7906</td>\n",
              "      <td>0.7921</td>\n",
              "      <td>0.7906</td>\n",
              "      <td>0.7041</td>\n",
              "      <td>0.7838</td>\n",
              "    </tr>\n",
              "    <tr>\n",
              "      <th>MFCC_no_delta</th>\n",
              "      <td>0.7273</td>\n",
              "      <td>0.7128</td>\n",
              "      <td>0.7130</td>\n",
              "      <td>0.7128</td>\n",
              "      <td>0.9537</td>\n",
              "      <td>0.7033</td>\n",
              "    </tr>\n",
              "    <tr>\n",
              "      <th>dwt_mfcc_with_delta</th>\n",
              "      <td>0.6850</td>\n",
              "      <td>0.6692</td>\n",
              "      <td>0.6682</td>\n",
              "      <td>0.6692</td>\n",
              "      <td>1.1174</td>\n",
              "      <td>0.6581</td>\n",
              "    </tr>\n",
              "    <tr>\n",
              "      <th>MFCC_with_delta</th>\n",
              "      <td>0.6863</td>\n",
              "      <td>0.6193</td>\n",
              "      <td>0.6146</td>\n",
              "      <td>0.6193</td>\n",
              "      <td>1.2895</td>\n",
              "      <td>0.6070</td>\n",
              "    </tr>\n",
              "  </tbody>\n",
              "</table>\n",
              "</div>\n",
              "      <button class=\"colab-df-convert\" onclick=\"convertToInteractive('df-f51b09b4-196c-4ce8-bdfe-bc2dd02029b0')\"\n",
              "              title=\"Convert this dataframe to an interactive table.\"\n",
              "              style=\"display:none;\">\n",
              "        \n",
              "  <svg xmlns=\"http://www.w3.org/2000/svg\" height=\"24px\"viewBox=\"0 0 24 24\"\n",
              "       width=\"24px\">\n",
              "    <path d=\"M0 0h24v24H0V0z\" fill=\"none\"/>\n",
              "    <path d=\"M18.56 5.44l.94 2.06.94-2.06 2.06-.94-2.06-.94-.94-2.06-.94 2.06-2.06.94zm-11 1L8.5 8.5l.94-2.06 2.06-.94-2.06-.94L8.5 2.5l-.94 2.06-2.06.94zm10 10l.94 2.06.94-2.06 2.06-.94-2.06-.94-.94-2.06-.94 2.06-2.06.94z\"/><path d=\"M17.41 7.96l-1.37-1.37c-.4-.4-.92-.59-1.43-.59-.52 0-1.04.2-1.43.59L10.3 9.45l-7.72 7.72c-.78.78-.78 2.05 0 2.83L4 21.41c.39.39.9.59 1.41.59.51 0 1.02-.2 1.41-.59l7.78-7.78 2.81-2.81c.8-.78.8-2.07 0-2.86zM5.41 20L4 18.59l7.72-7.72 1.47 1.35L5.41 20z\"/>\n",
              "  </svg>\n",
              "      </button>\n",
              "      \n",
              "  <style>\n",
              "    .colab-df-container {\n",
              "      display:flex;\n",
              "      flex-wrap:wrap;\n",
              "      gap: 12px;\n",
              "    }\n",
              "\n",
              "    .colab-df-convert {\n",
              "      background-color: #E8F0FE;\n",
              "      border: none;\n",
              "      border-radius: 50%;\n",
              "      cursor: pointer;\n",
              "      display: none;\n",
              "      fill: #1967D2;\n",
              "      height: 32px;\n",
              "      padding: 0 0 0 0;\n",
              "      width: 32px;\n",
              "    }\n",
              "\n",
              "    .colab-df-convert:hover {\n",
              "      background-color: #E2EBFA;\n",
              "      box-shadow: 0px 1px 2px rgba(60, 64, 67, 0.3), 0px 1px 3px 1px rgba(60, 64, 67, 0.15);\n",
              "      fill: #174EA6;\n",
              "    }\n",
              "\n",
              "    [theme=dark] .colab-df-convert {\n",
              "      background-color: #3B4455;\n",
              "      fill: #D2E3FC;\n",
              "    }\n",
              "\n",
              "    [theme=dark] .colab-df-convert:hover {\n",
              "      background-color: #434B5C;\n",
              "      box-shadow: 0px 1px 3px 1px rgba(0, 0, 0, 0.15);\n",
              "      filter: drop-shadow(0px 1px 2px rgba(0, 0, 0, 0.3));\n",
              "      fill: #FFFFFF;\n",
              "    }\n",
              "  </style>\n",
              "\n",
              "      <script>\n",
              "        const buttonEl =\n",
              "          document.querySelector('#df-f51b09b4-196c-4ce8-bdfe-bc2dd02029b0 button.colab-df-convert');\n",
              "        buttonEl.style.display =\n",
              "          google.colab.kernel.accessAllowed ? 'block' : 'none';\n",
              "\n",
              "        async function convertToInteractive(key) {\n",
              "          const element = document.querySelector('#df-f51b09b4-196c-4ce8-bdfe-bc2dd02029b0');\n",
              "          const dataTable =\n",
              "            await google.colab.kernel.invokeFunction('convertToInteractive',\n",
              "                                                     [key], {});\n",
              "          if (!dataTable) return;\n",
              "\n",
              "          const docLinkHtml = 'Like what you see? Visit the ' +\n",
              "            '<a target=\"_blank\" href=https://colab.research.google.com/notebooks/data_table.ipynb>data table notebook</a>'\n",
              "            + ' to learn more about interactive tables.';\n",
              "          element.innerHTML = '';\n",
              "          dataTable['output_type'] = 'display_data';\n",
              "          await google.colab.output.renderOutput(dataTable, element);\n",
              "          const docLink = document.createElement('div');\n",
              "          docLink.innerHTML = docLinkHtml;\n",
              "          element.appendChild(docLink);\n",
              "        }\n",
              "      </script>\n",
              "    </div>\n",
              "  </div>\n",
              "  "
            ],
            "text/plain": [
              "                     precision  recall  f1-score  accuracy  cross-entropy  \\\n",
              "log_energy              0.8659  0.8590    0.8577    0.8590         0.4718   \n",
              "spectrogram             0.8281  0.7906    0.7921    0.7906         0.7041   \n",
              "MFCC_no_delta           0.7273  0.7128    0.7130    0.7128         0.9537   \n",
              "dwt_mfcc_with_delta     0.6850  0.6692    0.6682    0.6692         1.1174   \n",
              "MFCC_with_delta         0.6863  0.6193    0.6146    0.6193         1.2895   \n",
              "\n",
              "                     Cohen-Kappa  \n",
              "log_energy                0.8542  \n",
              "spectrogram               0.7838  \n",
              "MFCC_no_delta             0.7033  \n",
              "dwt_mfcc_with_delta       0.6581  \n",
              "MFCC_with_delta           0.6070  "
            ]
          },
          "metadata": {},
          "output_type": "display_data"
        }
      ],
      "source": [
        "df_output.insert(0, 'feature', features_names)\n",
        "df_output = df_output.set_index('feature')\n",
        "df_output = df_output.rename_axis(index=None, columns=None)\n",
        "df_output = df_output.sort_values(by=['cross-entropy'])\n",
        "\n",
        "display(df_output.round(4))\n",
        "\n",
        "if not os.path.exists(\"metrics\"):\n",
        "  os.mkdir('metrics')\n",
        "\n",
        "df_output.to_csv(f'metrics/metr_feat_comparison.csv')"
      ]
    },
    {
      "cell_type": "markdown",
      "metadata": {
        "id": "bgvibGWis5S8"
      },
      "source": [
        "The best results on the test set are achieved using the logarithm of the raw filterbank energies. It could be argued that this is due to the fact that the Bayesian Optimization was done using this feature, and therefore the reason for this result is precisely that the model we have selected for the comparison is optimized for the log energies. However, from some other tests we did, on unbiased models, we got the same result shown here. \n",
        "\n",
        "From now on, we will focus our research on this feature. "
      ]
    },
    {
      "attachments": {},
      "cell_type": "markdown",
      "metadata": {
        "id": "qmfIfiwvhWKi"
      },
      "source": [
        "# Extra 1: background noise effect \n",
        "It is also possible to study the effect of adding background noise when training the best CNN model. To do this, we train the model applying different noise levels on the train set, while the validation and test sets are kept noise-free. In this procedure we use the best features found in the previous step.\n",
        "\n",
        "We test the following noise reduction levels:\n",
        "- 0\n",
        "- 0.25\n",
        "- 0.5\n",
        "- 0.75\n",
        "- 1 (= zero noise is applied)"
      ]
    },
    {
      "cell_type": "code",
      "execution_count": 31,
      "metadata": {
        "colab": {
          "base_uri": "https://localhost:8080/"
        },
        "id": "HcbQYDmTlvmV",
        "outputId": "da24bad6-6ee4-4190-e440-e36cd90c3698"
      },
      "outputs": [
        {
          "name": "stdout",
          "output_type": "stream",
          "text": [
            "def background_noise(data, noise_dict, select_noise=None, noise_reduction=0.5, *args):\n",
            "    '''\n",
            "    data: input audio signal, already loaded and preprocessed, it must be a numpy array \n",
            "    select_noise: decide what kind of noise to add to the input signal, by default a random choice \n",
            "    noise_reduction: set it to a value between 0 and 1 to reduce the amount of noise, by default 0.8\n",
            "    '''\n",
            "    \n",
            "    # noise selection\n",
            "    if (select_noise is None) or (select_noise == -1):\n",
            "        select_noise = np.random.choice(np.arange(1, 7)) # random selection\n",
            "    noise_data = args[select_noise-1] if (noise_dict == -1) else noise_dict[str(select_noise)]\n",
            "    \n",
            "    # random cropping\n",
            "    target_size = data.shape[0]\n",
            "    noise_size  = noise_data.shape[0]\n",
            "    from_       = np.random.randint(0, int(noise_size-target_size))\n",
            "    to_         = from_ + target_size\n",
            "    noise_data  = noise_data[from_:to_]\n",
            "    \n",
            "    # add noise to input audio\n",
            "    data_with_noise = data + (1-noise_reduction)*noise_data\n",
            "    \n",
            "    return data_with_noise.astype(np.float32)\n",
            "\n"
          ]
        }
      ],
      "source": [
        "print(inspect.getsource(preprocessing_utils.background_noise))"
      ]
    },
    {
      "cell_type": "code",
      "execution_count": null,
      "metadata": {
        "colab": {
          "base_uri": "https://localhost:8080/"
        },
        "id": "jOpw-JpuiGdn",
        "outputId": "a5a0ed37-e43d-415e-943a-129a233d0a64"
      },
      "outputs": [
        {
          "name": "stdout",
          "output_type": "stream",
          "text": [
            "--- ITERATION 0 ---\n",
            "Start training... \n",
            "Training completed!\n",
            "Testing...\n",
            "344/344 [==============================] - 33s 95ms/step\n",
            "\n",
            "\n",
            "--- ITERATION 1 ---\n",
            "Start training... \n",
            "Training completed!\n",
            "Testing...\n",
            "344/344 [==============================] - 33s 94ms/step\n",
            "\n",
            "\n",
            "--- ITERATION 2 ---\n",
            "Start training... \n",
            "Training completed!\n",
            "Testing...\n",
            "344/344 [==============================] - 34s 97ms/step\n",
            "\n",
            "\n",
            "--- ITERATION 3 ---\n",
            "Start training... \n",
            "Training completed!\n",
            "Testing...\n",
            "344/344 [==============================] - 34s 99ms/step\n",
            "\n",
            "\n",
            "--- ITERATION 4 ---\n",
            "Start training... \n",
            "Training completed!\n",
            "Testing...\n",
            "344/344 [==============================] - 33s 97ms/step\n",
            "\n",
            "\n"
          ]
        }
      ],
      "source": [
        "noise_red_levels = [0, 0.25, 0.5, 0.75, 1]\n",
        "features_to_use = 2\n",
        "\n",
        "for i, nr in enumerate(noise_red_levels):\n",
        "  print('--- ITERATION %i ---' %i)\n",
        "\n",
        "  if i==0:\n",
        "    df_output_noise = training_and_testing(features_to_use, noise_red=nr)\n",
        "\n",
        "  else:\n",
        "    df_output_noise = training_and_testing(features_to_use, df_store = df_output_noise, noise_red=nr)"
      ]
    },
    {
      "cell_type": "code",
      "execution_count": null,
      "metadata": {
        "colab": {
          "base_uri": "https://localhost:8080/",
          "height": 206
        },
        "id": "9gygQ7tyUua6",
        "outputId": "feac0456-afaa-4106-bf83-e3c66739c0a2"
      },
      "outputs": [
        {
          "data": {
            "text/html": [
              "\n",
              "  <div id=\"df-100eff57-7f65-4188-bb41-8c8ffd7999b5\">\n",
              "    <div class=\"colab-df-container\">\n",
              "      <div>\n",
              "<style scoped>\n",
              "    .dataframe tbody tr th:only-of-type {\n",
              "        vertical-align: middle;\n",
              "    }\n",
              "\n",
              "    .dataframe tbody tr th {\n",
              "        vertical-align: top;\n",
              "    }\n",
              "\n",
              "    .dataframe thead th {\n",
              "        text-align: right;\n",
              "    }\n",
              "</style>\n",
              "<table border=\"1\" class=\"dataframe\">\n",
              "  <thead>\n",
              "    <tr style=\"text-align: right;\">\n",
              "      <th></th>\n",
              "      <th>noise_reduction</th>\n",
              "      <th>precision</th>\n",
              "      <th>recall</th>\n",
              "      <th>f1-score</th>\n",
              "      <th>accuracy</th>\n",
              "      <th>cross-entropy</th>\n",
              "      <th>Cohen-Kappa</th>\n",
              "    </tr>\n",
              "  </thead>\n",
              "  <tbody>\n",
              "    <tr>\n",
              "      <th>0</th>\n",
              "      <td>0.50</td>\n",
              "      <td>0.8723</td>\n",
              "      <td>0.8637</td>\n",
              "      <td>0.8631</td>\n",
              "      <td>0.8637</td>\n",
              "      <td>0.4589</td>\n",
              "      <td>0.8591</td>\n",
              "    </tr>\n",
              "    <tr>\n",
              "      <th>1</th>\n",
              "      <td>0.25</td>\n",
              "      <td>0.8578</td>\n",
              "      <td>0.8480</td>\n",
              "      <td>0.8482</td>\n",
              "      <td>0.8480</td>\n",
              "      <td>0.4954</td>\n",
              "      <td>0.8429</td>\n",
              "    </tr>\n",
              "    <tr>\n",
              "      <th>2</th>\n",
              "      <td>1.00</td>\n",
              "      <td>0.8613</td>\n",
              "      <td>0.8515</td>\n",
              "      <td>0.8525</td>\n",
              "      <td>0.8515</td>\n",
              "      <td>0.4963</td>\n",
              "      <td>0.8465</td>\n",
              "    </tr>\n",
              "    <tr>\n",
              "      <th>3</th>\n",
              "      <td>0.00</td>\n",
              "      <td>0.8647</td>\n",
              "      <td>0.8485</td>\n",
              "      <td>0.8508</td>\n",
              "      <td>0.8485</td>\n",
              "      <td>0.5054</td>\n",
              "      <td>0.8435</td>\n",
              "    </tr>\n",
              "    <tr>\n",
              "      <th>4</th>\n",
              "      <td>0.75</td>\n",
              "      <td>0.8549</td>\n",
              "      <td>0.8417</td>\n",
              "      <td>0.8428</td>\n",
              "      <td>0.8417</td>\n",
              "      <td>0.5308</td>\n",
              "      <td>0.8363</td>\n",
              "    </tr>\n",
              "  </tbody>\n",
              "</table>\n",
              "</div>\n",
              "      <button class=\"colab-df-convert\" onclick=\"convertToInteractive('df-100eff57-7f65-4188-bb41-8c8ffd7999b5')\"\n",
              "              title=\"Convert this dataframe to an interactive table.\"\n",
              "              style=\"display:none;\">\n",
              "        \n",
              "  <svg xmlns=\"http://www.w3.org/2000/svg\" height=\"24px\"viewBox=\"0 0 24 24\"\n",
              "       width=\"24px\">\n",
              "    <path d=\"M0 0h24v24H0V0z\" fill=\"none\"/>\n",
              "    <path d=\"M18.56 5.44l.94 2.06.94-2.06 2.06-.94-2.06-.94-.94-2.06-.94 2.06-2.06.94zm-11 1L8.5 8.5l.94-2.06 2.06-.94-2.06-.94L8.5 2.5l-.94 2.06-2.06.94zm10 10l.94 2.06.94-2.06 2.06-.94-2.06-.94-.94-2.06-.94 2.06-2.06.94z\"/><path d=\"M17.41 7.96l-1.37-1.37c-.4-.4-.92-.59-1.43-.59-.52 0-1.04.2-1.43.59L10.3 9.45l-7.72 7.72c-.78.78-.78 2.05 0 2.83L4 21.41c.39.39.9.59 1.41.59.51 0 1.02-.2 1.41-.59l7.78-7.78 2.81-2.81c.8-.78.8-2.07 0-2.86zM5.41 20L4 18.59l7.72-7.72 1.47 1.35L5.41 20z\"/>\n",
              "  </svg>\n",
              "      </button>\n",
              "      \n",
              "  <style>\n",
              "    .colab-df-container {\n",
              "      display:flex;\n",
              "      flex-wrap:wrap;\n",
              "      gap: 12px;\n",
              "    }\n",
              "\n",
              "    .colab-df-convert {\n",
              "      background-color: #E8F0FE;\n",
              "      border: none;\n",
              "      border-radius: 50%;\n",
              "      cursor: pointer;\n",
              "      display: none;\n",
              "      fill: #1967D2;\n",
              "      height: 32px;\n",
              "      padding: 0 0 0 0;\n",
              "      width: 32px;\n",
              "    }\n",
              "\n",
              "    .colab-df-convert:hover {\n",
              "      background-color: #E2EBFA;\n",
              "      box-shadow: 0px 1px 2px rgba(60, 64, 67, 0.3), 0px 1px 3px 1px rgba(60, 64, 67, 0.15);\n",
              "      fill: #174EA6;\n",
              "    }\n",
              "\n",
              "    [theme=dark] .colab-df-convert {\n",
              "      background-color: #3B4455;\n",
              "      fill: #D2E3FC;\n",
              "    }\n",
              "\n",
              "    [theme=dark] .colab-df-convert:hover {\n",
              "      background-color: #434B5C;\n",
              "      box-shadow: 0px 1px 3px 1px rgba(0, 0, 0, 0.15);\n",
              "      filter: drop-shadow(0px 1px 2px rgba(0, 0, 0, 0.3));\n",
              "      fill: #FFFFFF;\n",
              "    }\n",
              "  </style>\n",
              "\n",
              "      <script>\n",
              "        const buttonEl =\n",
              "          document.querySelector('#df-100eff57-7f65-4188-bb41-8c8ffd7999b5 button.colab-df-convert');\n",
              "        buttonEl.style.display =\n",
              "          google.colab.kernel.accessAllowed ? 'block' : 'none';\n",
              "\n",
              "        async function convertToInteractive(key) {\n",
              "          const element = document.querySelector('#df-100eff57-7f65-4188-bb41-8c8ffd7999b5');\n",
              "          const dataTable =\n",
              "            await google.colab.kernel.invokeFunction('convertToInteractive',\n",
              "                                                     [key], {});\n",
              "          if (!dataTable) return;\n",
              "\n",
              "          const docLinkHtml = 'Like what you see? Visit the ' +\n",
              "            '<a target=\"_blank\" href=https://colab.research.google.com/notebooks/data_table.ipynb>data table notebook</a>'\n",
              "            + ' to learn more about interactive tables.';\n",
              "          element.innerHTML = '';\n",
              "          dataTable['output_type'] = 'display_data';\n",
              "          await google.colab.output.renderOutput(dataTable, element);\n",
              "          const docLink = document.createElement('div');\n",
              "          docLink.innerHTML = docLinkHtml;\n",
              "          element.appendChild(docLink);\n",
              "        }\n",
              "      </script>\n",
              "    </div>\n",
              "  </div>\n",
              "  "
            ],
            "text/plain": [
              "   noise_reduction  precision  recall  f1-score  accuracy  cross-entropy  \\\n",
              "0             0.50     0.8723  0.8637    0.8631    0.8637         0.4589   \n",
              "1             0.25     0.8578  0.8480    0.8482    0.8480         0.4954   \n",
              "2             1.00     0.8613  0.8515    0.8525    0.8515         0.4963   \n",
              "3             0.00     0.8647  0.8485    0.8508    0.8485         0.5054   \n",
              "4             0.75     0.8549  0.8417    0.8428    0.8417         0.5308   \n",
              "\n",
              "   Cohen-Kappa  \n",
              "0       0.8591  \n",
              "1       0.8429  \n",
              "2       0.8465  \n",
              "3       0.8435  \n",
              "4       0.8363  "
            ]
          },
          "metadata": {},
          "output_type": "display_data"
        }
      ],
      "source": [
        "df_output_noise.insert(0, 'noise_reduction', noise_red_levels)\n",
        "df_output_noise = df_output_noise.sort_values(by=['cross-entropy'])\n",
        "\n",
        "df_output_noise.insert(0, 'tmp', range(len(noise_red_levels)))\n",
        "df_output_noise = df_output_noise.set_index('tmp')\n",
        "df_output_noise = df_output_noise.rename_axis(index=None, columns=None)\n",
        "\n",
        "display(df_output_noise.round(4))\n",
        "\n",
        "if not os.path.exists(\"metrics\"):\n",
        "  os.mkdir('metrics')\n",
        "\n",
        "df_output_noise.to_csv(f'metrics/metr_noise_effect.csv')"
      ]
    },
    {
      "cell_type": "markdown",
      "metadata": {
        "id": "w_jLOav5vDep"
      },
      "source": [
        "From the resulting metrics, we can see that the best performance is achieved with a noise reduction level of 0.5. This explains our previous choice of setting `noise_reduction=0.5`. "
      ]
    },
    {
      "attachments": {},
      "cell_type": "markdown",
      "metadata": {
        "id": "LZEHM_-VhYqy"
      },
      "source": [
        "# Extra 2: random time shift effect\n",
        "Finally, we want to see if shifting the input signal by a random amount in $[-100, 100]$ ms helps improving the model performance. This idea is implemented in many papers we read, and it is motivated by the fact that in a real-time keyword detector the input signal may be not centered in the selected time window. \n",
        "\n",
        "As any other data augmentation technique, it is performed only on the training dataset, as we believe the validation and test sets should not be modified, in particular the last one, for comparison reasons."
      ]
    },
    {
      "cell_type": "code",
      "execution_count": 32,
      "metadata": {
        "colab": {
          "base_uri": "https://localhost:8080/"
        },
        "id": "yqVLatA2lgeE",
        "outputId": "7420d6a8-cfb2-4f99-b4bf-bd914af1a45c"
      },
      "outputs": [
        {
          "name": "stdout",
          "output_type": "stream",
          "text": [
            "def random_time_shift(data, low=-100, high=100):\n",
            "    \n",
            "    y_shift = int(np.random.uniform(low, high)*16)\n",
            "\n",
            "    if y_shift >= 0:\n",
            "        data = np.pad(data[y_shift:], pad_width=(0, y_shift), mode='mean')\n",
            "    else: \n",
            "        data = np.pad(data[:len(data)+y_shift], pad_width=(-y_shift, 0), mode='mean')\n",
            "\n",
            "    return data.astype(np.float32)\n",
            "\n"
          ]
        }
      ],
      "source": [
        "print(inspect.getsource(preprocessing_utils.random_time_shift))"
      ]
    },
    {
      "cell_type": "code",
      "execution_count": 32,
      "metadata": {
        "colab": {
          "base_uri": "https://localhost:8080/"
        },
        "id": "pofMjAsXip7_",
        "outputId": "83f96384-f6ab-442b-fd88-fa0b1c0c0e00"
      },
      "outputs": [
        {
          "name": "stdout",
          "output_type": "stream",
          "text": [
            "--- ITERATION 0 ---\n",
            "Start training... \n",
            "Training completed!\n",
            "Testing...\n",
            "344/344 [==============================] - 44s 127ms/step\n",
            "\n",
            "\n",
            "--- ITERATION 1 ---\n",
            "Start training... \n",
            "Training completed!\n",
            "Testing...\n",
            "344/344 [==============================] - 50s 146ms/step\n",
            "\n",
            "\n"
          ]
        }
      ],
      "source": [
        "time_shift = [False, True]\n",
        "features_to_use = 2\n",
        "\n",
        "print('--- ITERATION 0 ---')\n",
        "df_output_no_ts = training_and_testing(features_to_use, random_shift=False)\n",
        "\n",
        "print('--- ITERATION 1 ---')\n",
        "df_output_si_ts = training_and_testing(features_to_use, random_shift=True)\n",
        "\n",
        "df_output_ts = pd.concat([df_output_no_ts, df_output_si_ts])"
      ]
    },
    {
      "cell_type": "code",
      "execution_count": 37,
      "metadata": {
        "colab": {
          "base_uri": "https://localhost:8080/",
          "height": 112
        },
        "id": "EFutY2CHiRy0",
        "outputId": "eb2c853b-453f-4666-db6d-c285c34210d5"
      },
      "outputs": [
        {
          "data": {
            "text/html": [
              "\n",
              "  <div id=\"df-830982ea-aed8-40ce-90e8-9700150882f0\">\n",
              "    <div class=\"colab-df-container\">\n",
              "      <div>\n",
              "<style scoped>\n",
              "    .dataframe tbody tr th:only-of-type {\n",
              "        vertical-align: middle;\n",
              "    }\n",
              "\n",
              "    .dataframe tbody tr th {\n",
              "        vertical-align: top;\n",
              "    }\n",
              "\n",
              "    .dataframe thead th {\n",
              "        text-align: right;\n",
              "    }\n",
              "</style>\n",
              "<table border=\"1\" class=\"dataframe\">\n",
              "  <thead>\n",
              "    <tr style=\"text-align: right;\">\n",
              "      <th></th>\n",
              "      <th>random_time_shift</th>\n",
              "      <th>precision</th>\n",
              "      <th>recall</th>\n",
              "      <th>f1-score</th>\n",
              "      <th>accuracy</th>\n",
              "      <th>cross-entropy</th>\n",
              "      <th>Cohen-Kappa</th>\n",
              "    </tr>\n",
              "  </thead>\n",
              "  <tbody>\n",
              "    <tr>\n",
              "      <th>0</th>\n",
              "      <td>False</td>\n",
              "      <td>0.8695</td>\n",
              "      <td>0.8552</td>\n",
              "      <td>0.8563</td>\n",
              "      <td>0.8552</td>\n",
              "      <td>0.4956</td>\n",
              "      <td>0.8503</td>\n",
              "    </tr>\n",
              "    <tr>\n",
              "      <th>1</th>\n",
              "      <td>True</td>\n",
              "      <td>0.8362</td>\n",
              "      <td>0.8034</td>\n",
              "      <td>0.8067</td>\n",
              "      <td>0.8034</td>\n",
              "      <td>0.6344</td>\n",
              "      <td>0.7967</td>\n",
              "    </tr>\n",
              "  </tbody>\n",
              "</table>\n",
              "</div>\n",
              "      <button class=\"colab-df-convert\" onclick=\"convertToInteractive('df-830982ea-aed8-40ce-90e8-9700150882f0')\"\n",
              "              title=\"Convert this dataframe to an interactive table.\"\n",
              "              style=\"display:none;\">\n",
              "        \n",
              "  <svg xmlns=\"http://www.w3.org/2000/svg\" height=\"24px\"viewBox=\"0 0 24 24\"\n",
              "       width=\"24px\">\n",
              "    <path d=\"M0 0h24v24H0V0z\" fill=\"none\"/>\n",
              "    <path d=\"M18.56 5.44l.94 2.06.94-2.06 2.06-.94-2.06-.94-.94-2.06-.94 2.06-2.06.94zm-11 1L8.5 8.5l.94-2.06 2.06-.94-2.06-.94L8.5 2.5l-.94 2.06-2.06.94zm10 10l.94 2.06.94-2.06 2.06-.94-2.06-.94-.94-2.06-.94 2.06-2.06.94z\"/><path d=\"M17.41 7.96l-1.37-1.37c-.4-.4-.92-.59-1.43-.59-.52 0-1.04.2-1.43.59L10.3 9.45l-7.72 7.72c-.78.78-.78 2.05 0 2.83L4 21.41c.39.39.9.59 1.41.59.51 0 1.02-.2 1.41-.59l7.78-7.78 2.81-2.81c.8-.78.8-2.07 0-2.86zM5.41 20L4 18.59l7.72-7.72 1.47 1.35L5.41 20z\"/>\n",
              "  </svg>\n",
              "      </button>\n",
              "      \n",
              "  <style>\n",
              "    .colab-df-container {\n",
              "      display:flex;\n",
              "      flex-wrap:wrap;\n",
              "      gap: 12px;\n",
              "    }\n",
              "\n",
              "    .colab-df-convert {\n",
              "      background-color: #E8F0FE;\n",
              "      border: none;\n",
              "      border-radius: 50%;\n",
              "      cursor: pointer;\n",
              "      display: none;\n",
              "      fill: #1967D2;\n",
              "      height: 32px;\n",
              "      padding: 0 0 0 0;\n",
              "      width: 32px;\n",
              "    }\n",
              "\n",
              "    .colab-df-convert:hover {\n",
              "      background-color: #E2EBFA;\n",
              "      box-shadow: 0px 1px 2px rgba(60, 64, 67, 0.3), 0px 1px 3px 1px rgba(60, 64, 67, 0.15);\n",
              "      fill: #174EA6;\n",
              "    }\n",
              "\n",
              "    [theme=dark] .colab-df-convert {\n",
              "      background-color: #3B4455;\n",
              "      fill: #D2E3FC;\n",
              "    }\n",
              "\n",
              "    [theme=dark] .colab-df-convert:hover {\n",
              "      background-color: #434B5C;\n",
              "      box-shadow: 0px 1px 3px 1px rgba(0, 0, 0, 0.15);\n",
              "      filter: drop-shadow(0px 1px 2px rgba(0, 0, 0, 0.3));\n",
              "      fill: #FFFFFF;\n",
              "    }\n",
              "  </style>\n",
              "\n",
              "      <script>\n",
              "        const buttonEl =\n",
              "          document.querySelector('#df-830982ea-aed8-40ce-90e8-9700150882f0 button.colab-df-convert');\n",
              "        buttonEl.style.display =\n",
              "          google.colab.kernel.accessAllowed ? 'block' : 'none';\n",
              "\n",
              "        async function convertToInteractive(key) {\n",
              "          const element = document.querySelector('#df-830982ea-aed8-40ce-90e8-9700150882f0');\n",
              "          const dataTable =\n",
              "            await google.colab.kernel.invokeFunction('convertToInteractive',\n",
              "                                                     [key], {});\n",
              "          if (!dataTable) return;\n",
              "\n",
              "          const docLinkHtml = 'Like what you see? Visit the ' +\n",
              "            '<a target=\"_blank\" href=https://colab.research.google.com/notebooks/data_table.ipynb>data table notebook</a>'\n",
              "            + ' to learn more about interactive tables.';\n",
              "          element.innerHTML = '';\n",
              "          dataTable['output_type'] = 'display_data';\n",
              "          await google.colab.output.renderOutput(dataTable, element);\n",
              "          const docLink = document.createElement('div');\n",
              "          docLink.innerHTML = docLinkHtml;\n",
              "          element.appendChild(docLink);\n",
              "        }\n",
              "      </script>\n",
              "    </div>\n",
              "  </div>\n",
              "  "
            ],
            "text/plain": [
              "   random_time_shift  precision  recall  f1-score  accuracy  cross-entropy  \\\n",
              "0              False     0.8695  0.8552    0.8563    0.8552         0.4956   \n",
              "1               True     0.8362  0.8034    0.8067    0.8034         0.6344   \n",
              "\n",
              "   Cohen-Kappa  \n",
              "0       0.8503  \n",
              "1       0.7967  "
            ]
          },
          "metadata": {},
          "output_type": "display_data"
        }
      ],
      "source": [
        "df_output_ts.insert(0, 'random_time_shift', time_shift)\n",
        "df_output_ts = df_output_ts.sort_values(by=['cross-entropy'])\n",
        "\n",
        "df_output_ts.reset_index(inplace=True, drop=True)\n",
        "\n",
        "\n",
        "display(df_output_ts.round(4))\n",
        "\n",
        "if not os.path.exists(\"metrics\"):\n",
        "  os.mkdir('metrics')\n",
        "\n",
        "df_output_ts.to_csv(f'metrics/metr_time_shift_effect.csv')"
      ]
    },
    {
      "cell_type": "markdown",
      "metadata": {
        "id": "pxQsI4zfwk6S"
      },
      "source": [
        "Contrary to expectations, incliding the random shift in the preprocessing pipeline does not help improve the model performance. However, even if we will not use it on the next models we implement, we still believe it can be meaningful to include a random shift in the training set, especially if the final goal is to use the model on real-time input signals, which obviously will not be as centered as the data in our test set."
      ]
    },
    {
      "cell_type": "markdown",
      "metadata": {
        "id": "aqEwef54gu74"
      },
      "source": [
        "# References\n",
        "**[Sainath15]** <br>\n",
        " Tara N. Sainath, Carolina Parada, _Convolutional Neural Networks for Small-footprint Keyword Spotting_, INTERSPEECH, Dresden, Germany, September 2015.\n",
        "\n",
        "**[Warden18]** <br>\n",
        " Pete Warden, _Speech Commands: A Dataset for Limited-Vocabulary Speech Recognition_, arXiv:1804.03209, April 2018. \n",
        " \n",
        "**[Lyons14]** <br>\n",
        " James Lyons et al. (2020, January 14). jameslyons/python_speech_features: release v0.6.1 (Version 0.6.1). Zenodo.\n"
      ]
    }
  ],
  "metadata": {
    "accelerator": "GPU",
    "colab": {
      "machine_shape": "hm",
      "provenance": [],
      "toc_visible": true
    },
    "gpuClass": "standard",
    "kernelspec": {
      "display_name": "hda",
      "language": "python",
      "name": "python3"
    },
    "language_info": {
      "codemirror_mode": {
        "name": "ipython",
        "version": 3
      },
      "file_extension": ".py",
      "mimetype": "text/x-python",
      "name": "python",
      "nbconvert_exporter": "python",
      "pygments_lexer": "ipython3",
      "version": "3.10.8"
    },
    "vscode": {
      "interpreter": {
        "hash": "2dbd5f52e176f26a59a7f95f14a81615dde9e9336e1642592a7a0db563ccdd35"
      }
    }
  },
  "nbformat": 4,
  "nbformat_minor": 0
}
