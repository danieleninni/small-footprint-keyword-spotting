{
 "cells": [
  {
   "cell_type": "markdown",
   "metadata": {
    "id": "dsT1FPnBguaJ"
   },
   "source": [
    "# Keyword Spotting: Conformer"
   ]
  },
  {
   "cell_type": "markdown",
   "metadata": {
    "id": "0lYQXwCmh402"
   },
   "source": [
    "## Get scripts from GitHub and install wget\n",
    "Only required when running on Colab. "
   ]
  },
  {
   "cell_type": "code",
   "execution_count": 1,
   "metadata": {
    "colab": {
     "base_uri": "https://localhost:8080/"
    },
    "execution": {
     "iopub.execute_input": "2023-01-26T20:45:25.413191Z",
     "iopub.status.busy": "2023-01-26T20:45:25.412457Z",
     "iopub.status.idle": "2023-01-26T20:45:27.537943Z",
     "shell.execute_reply": "2023-01-26T20:45:27.537128Z",
     "shell.execute_reply.started": "2023-01-26T20:45:25.413121Z"
    },
    "id": "_V8fO0IpyMLd",
    "outputId": "06994587-10a5-4674-f222-9fdf62834d11"
   },
   "outputs": [
    {
     "name": "stdout",
     "output_type": "stream",
     "text": [
      "Requirement already satisfied: wget in /usr/local/lib/python3.9/dist-packages (3.2)\n",
      "\u001b[33mWARNING: Running pip as the 'root' user can result in broken permissions and conflicting behaviour with the system package manager. It is recommended to use a virtual environment instead: https://pip.pypa.io/warnings/venv\u001b[0m\u001b[33m\n",
      "\u001b[0m"
     ]
    }
   ],
   "source": [
    "! pip install wget"
   ]
  },
  {
   "cell_type": "code",
   "execution_count": 2,
   "metadata": {
    "colab": {
     "base_uri": "https://localhost:8080/"
    },
    "execution": {
     "iopub.execute_input": "2023-01-26T20:45:27.539427Z",
     "iopub.status.busy": "2023-01-26T20:45:27.539232Z",
     "iopub.status.idle": "2023-01-26T20:45:29.156068Z",
     "shell.execute_reply": "2023-01-26T20:45:29.155434Z",
     "shell.execute_reply.started": "2023-01-26T20:45:27.539409Z"
    },
    "id": "J7ZaKB5zhwiz",
    "outputId": "c2c970bb-3825-4dab-84d8-657cc012134b"
   },
   "outputs": [
    {
     "name": "stdout",
     "output_type": "stream",
     "text": [
      "File ‘models_utils.py’ already there; not retrieving.\n",
      "\n",
      "File ‘plot_utils.py’ already there; not retrieving.\n",
      "\n",
      "File ‘preprocessing_utils.py’ already there; not retrieving.\n",
      "\n"
     ]
    }
   ],
   "source": [
    "! wget -nc https://raw.githubusercontent.com/NicolaZomer/Keyword_Spotting/main/utils/models_utils.py\n",
    "! wget -nc https://raw.githubusercontent.com/NicolaZomer/Keyword_Spotting/main/utils/plot_utils.py\n",
    "! wget -nc https://raw.githubusercontent.com/NicolaZomer/Keyword_Spotting/main/utils/preprocessing_utils.py"
   ]
  },
  {
   "cell_type": "markdown",
   "metadata": {
    "id": "ZFq83kJvyatv"
   },
   "source": [
    "## Import"
   ]
  },
  {
   "cell_type": "markdown",
   "metadata": {
    "id": "RMYTM7mrgufm"
   },
   "source": [
    "To extract MFCC features from audio signals we use the Python library [python_speech_features](https://github.com/jameslyons/python_speech_features)."
   ]
  },
  {
   "cell_type": "code",
   "execution_count": 3,
   "metadata": {
    "colab": {
     "base_uri": "https://localhost:8080/"
    },
    "execution": {
     "iopub.execute_input": "2023-01-26T20:45:29.157137Z",
     "iopub.status.busy": "2023-01-26T20:45:29.156952Z",
     "iopub.status.idle": "2023-01-26T20:45:32.203660Z",
     "shell.execute_reply": "2023-01-26T20:45:32.202914Z",
     "shell.execute_reply.started": "2023-01-26T20:45:29.157117Z"
    },
    "id": "83mmHptRgufv",
    "outputId": "aff40da7-8f32-4d5b-eb9c-e113fc891eeb"
   },
   "outputs": [
    {
     "name": "stdout",
     "output_type": "stream",
     "text": [
      "Collecting python_speech_features\n",
      "  Downloading python_speech_features-0.6.tar.gz (5.6 kB)\n",
      "  Preparing metadata (setup.py) ... \u001b[?25ldone\n",
      "\u001b[?25hBuilding wheels for collected packages: python_speech_features\n",
      "  Building wheel for python_speech_features (setup.py) ... \u001b[?25ldone\n",
      "\u001b[?25h  Created wheel for python_speech_features: filename=python_speech_features-0.6-py3-none-any.whl size=5872 sha256=d6b522e1cc8ab782de1b8a39e9175bc122506258bcdbed60f8d013dd0ec4c751\n",
      "  Stored in directory: /root/.cache/pip/wheels/09/a1/04/08e2688d2562d8f9ff89e77c6ddfbf7268e07dae1a6f22455e\n",
      "Successfully built python_speech_features\n",
      "Installing collected packages: python_speech_features\n",
      "Successfully installed python_speech_features-0.6\n",
      "\u001b[33mWARNING: Running pip as the 'root' user can result in broken permissions and conflicting behaviour with the system package manager. It is recommended to use a virtual environment instead: https://pip.pypa.io/warnings/venv\u001b[0m\u001b[33m\n",
      "\u001b[0m"
     ]
    }
   ],
   "source": [
    "! pip install python_speech_features\n",
    "\n",
    "from python_speech_features import logfbank, mfcc, delta"
   ]
  },
  {
   "cell_type": "markdown",
   "metadata": {
    "id": "7N6hBU0Tgugj"
   },
   "source": [
    "To perform Discrete Wavelet Transform on audio signals we use the Python library [PyWavelets](https://github.com/PyWavelets/pywt)."
   ]
  },
  {
   "cell_type": "code",
   "execution_count": 4,
   "metadata": {
    "colab": {
     "base_uri": "https://localhost:8080/"
    },
    "execution": {
     "iopub.execute_input": "2023-01-26T20:45:32.208104Z",
     "iopub.status.busy": "2023-01-26T20:45:32.207778Z",
     "iopub.status.idle": "2023-01-26T20:45:34.496699Z",
     "shell.execute_reply": "2023-01-26T20:45:34.495900Z",
     "shell.execute_reply.started": "2023-01-26T20:45:32.208082Z"
    },
    "id": "MhiIcU5Xgugy",
    "outputId": "17abd0e9-c6f3-4285-da83-9fda3def1efe"
   },
   "outputs": [
    {
     "name": "stdout",
     "output_type": "stream",
     "text": [
      "Requirement already satisfied: PyWavelets in /usr/local/lib/python3.9/dist-packages (1.3.0)\n",
      "Requirement already satisfied: numpy>=1.17.3 in /usr/local/lib/python3.9/dist-packages (from PyWavelets) (1.23.1)\n",
      "\u001b[33mWARNING: Running pip as the 'root' user can result in broken permissions and conflicting behaviour with the system package manager. It is recommended to use a virtual environment instead: https://pip.pypa.io/warnings/venv\u001b[0m\u001b[33m\n",
      "\u001b[0m"
     ]
    }
   ],
   "source": [
    "! pip install PyWavelets\n",
    "\n",
    "from pywt import dwt"
   ]
  },
  {
   "cell_type": "markdown",
   "metadata": {},
   "source": [
    "To visualize neural network architectures we use the Python library [visualkeras](https://github.com/paulgavrikov/visualkeras)."
   ]
  },
  {
   "cell_type": "code",
   "execution_count": 5,
   "metadata": {
    "execution": {
     "iopub.execute_input": "2023-01-26T20:45:34.498077Z",
     "iopub.status.busy": "2023-01-26T20:45:34.497880Z",
     "iopub.status.idle": "2023-01-26T20:45:38.932414Z",
     "shell.execute_reply": "2023-01-26T20:45:38.931579Z",
     "shell.execute_reply.started": "2023-01-26T20:45:34.498058Z"
    }
   },
   "outputs": [
    {
     "name": "stdout",
     "output_type": "stream",
     "text": [
      "Collecting visualkeras\n",
      "  Downloading visualkeras-0.0.2-py3-none-any.whl (12 kB)\n",
      "Collecting aggdraw>=1.3.11\n",
      "  Downloading aggdraw-1.3.15-cp39-cp39-manylinux_2_17_x86_64.manylinux2014_x86_64.whl (992 kB)\n",
      "\u001b[2K     \u001b[90m━━━━━━━━━━━━━━━━━━━━━━━━━━━━━━━━━━━━━━\u001b[0m \u001b[32m992.2/992.2 kB\u001b[0m \u001b[31m58.5 MB/s\u001b[0m eta \u001b[36m0:00:00\u001b[0m\n",
      "\u001b[?25hRequirement already satisfied: pillow>=6.2.0 in /usr/local/lib/python3.9/dist-packages (from visualkeras) (9.2.0)\n",
      "Requirement already satisfied: numpy>=1.18.1 in /usr/local/lib/python3.9/dist-packages (from visualkeras) (1.23.1)\n",
      "Installing collected packages: aggdraw, visualkeras\n",
      "Successfully installed aggdraw-1.3.15 visualkeras-0.0.2\n",
      "\u001b[33mWARNING: Running pip as the 'root' user can result in broken permissions and conflicting behaviour with the system package manager. It is recommended to use a virtual environment instead: https://pip.pypa.io/warnings/venv\u001b[0m\u001b[33m\n",
      "\u001b[0m"
     ]
    }
   ],
   "source": [
    "! pip install visualkeras\n",
    "\n",
    "import visualkeras"
   ]
  },
  {
   "cell_type": "code",
   "execution_count": 6,
   "metadata": {
    "execution": {
     "iopub.execute_input": "2023-01-26T20:45:38.933862Z",
     "iopub.status.busy": "2023-01-26T20:45:38.933427Z",
     "iopub.status.idle": "2023-01-26T20:45:39.806982Z",
     "shell.execute_reply": "2023-01-26T20:45:39.806416Z",
     "shell.execute_reply.started": "2023-01-26T20:45:38.933838Z"
    },
    "id": "Y_4uCFuXgucW"
   },
   "outputs": [],
   "source": [
    "import os\n",
    "import pathlib\n",
    "import requests\n",
    "import wget\n",
    "import inspect\n",
    "\n",
    "import matplotlib.pyplot as plt\n",
    "import numpy as np\n",
    "import pandas as pd\n",
    "import seaborn as sns\n",
    "import tensorflow as tf\n",
    "\n",
    "from IPython.display import display, Audio, Image\n",
    "\n",
    "from sklearn.metrics import confusion_matrix, precision_recall_fscore_support, accuracy_score, log_loss, cohen_kappa_score\n",
    "\n",
    "from scipy.io import wavfile\n",
    "\n",
    "from models_utils import available_models, select_model\n",
    "import plot_utils\n",
    "\n",
    "import preprocessing_utils\n",
    "from preprocessing_utils import create_dataset, remove_file_starting_with\n",
    "\n",
    "plt.rcParams['font.size'] = '12'\n",
    "# %matplotlib inline"
   ]
  },
  {
   "cell_type": "code",
   "execution_count": 7,
   "metadata": {
    "execution": {
     "iopub.execute_input": "2023-01-26T20:45:39.808185Z",
     "iopub.status.busy": "2023-01-26T20:45:39.807749Z",
     "iopub.status.idle": "2023-01-26T20:45:40.394437Z",
     "shell.execute_reply": "2023-01-26T20:45:40.393877Z",
     "shell.execute_reply.started": "2023-01-26T20:45:39.808163Z"
    }
   },
   "outputs": [
    {
     "name": "stdout",
     "output_type": "stream",
     "text": [
      "WARNING:tensorflow:From /tmp/ipykernel_153/868953920.py:1: is_gpu_available (from tensorflow.python.framework.test_util) is deprecated and will be removed in a future version.\n",
      "Instructions for updating:\n",
      "Use `tf.config.list_physical_devices('GPU')` instead.\n",
      "GPU Available: True\n",
      "Version: 2.9.1\n"
     ]
    }
   ],
   "source": [
    "print(\"GPU Available:\", tf.test.is_gpu_available())\n",
    "print(\"Version:\", tf.__version__)"
   ]
  },
  {
   "cell_type": "markdown",
   "metadata": {
    "id": "5J6-132RguqS"
   },
   "source": [
    "## 1 - Data loading\n",
    "In this project we use the [Speech Commands dataset](https://www.tensorflow.org/datasets/catalog/speech_commands), which contains short (one-second long) audio clips of English commands, stored as audio files in the WAV format. More in detail, the version 0.02 of the dataset contains 105.829 utterances of 35 short words, by thousands of different people. It was released on April 11th 2018 under [Creative Commons BY 4.0 license](https://creativecommons.org/licenses/by/4.0/) and collected using crowdsourcing, through [AIY](https://aiyprojects.withgoogle.com/) by Google. Some of these words are \"yes\", \"no\", \"up\", \"down\", \"left\", \"right\", \"on\", \"off\", \"stop\" and \"go\".\n",
    "\n",
    "### 1.1 - Download data and create data folder\n",
    "We import both a smaller version of the Speech Commands dataset and the full version. The mini dataset can be used for testing and demo reasons, however the entire work will be focused only on the complete dataset (or a subset of it). "
   ]
  },
  {
   "cell_type": "code",
   "execution_count": 8,
   "metadata": {
    "colab": {
     "base_uri": "https://localhost:8080/"
    },
    "execution": {
     "iopub.execute_input": "2023-01-26T20:45:40.395377Z",
     "iopub.status.busy": "2023-01-26T20:45:40.395193Z",
     "iopub.status.idle": "2023-01-26T20:45:40.401126Z",
     "shell.execute_reply": "2023-01-26T20:45:40.400551Z",
     "shell.execute_reply.started": "2023-01-26T20:45:40.395362Z"
    },
    "id": "qMEgF_1Oguqb",
    "outputId": "91828ac9-7df4-4407-f676-98a4e8c0e0f5"
   },
   "outputs": [
    {
     "name": "stdout",
     "output_type": "stream",
     "text": [
      "Working with the full dataset!\n"
     ]
    }
   ],
   "source": [
    "choose_dataset = 2 # 1 for mini, 2 for full\n",
    "download_also_mini = False\n",
    "\n",
    "DATASET_PATH_mini = 'data/mini_speech_commands'\n",
    "DATASET_PATH_full = 'data/full_speech_commands'\n",
    "\n",
    "data_dir_mini = pathlib.Path(DATASET_PATH_mini)\n",
    "if not data_dir_mini.exists() and download_also_mini:\n",
    "  tf.keras.utils.get_file(\n",
    "      'mini_speech_commands.zip',\n",
    "      origin=\"http://storage.googleapis.com/download.tensorflow.org/data/mini_speech_commands.zip\",\n",
    "      extract=True,\n",
    "      cache_dir='.', cache_subdir='data')\n",
    "  print('\\n')\n",
    "  \n",
    "data_dir_full = pathlib.Path(DATASET_PATH_full)\n",
    "if not data_dir_full.exists():\n",
    "  tf.keras.utils.get_file(\n",
    "      'full_speech_commands.zip',\n",
    "      origin=\"http://download.tensorflow.org/data/speech_commands_v0.02.tar.gz\",\n",
    "      extract=True,\n",
    "      cache_dir='.', cache_subdir='data/full_speech_commands')\n",
    "  print('\\n')\n",
    "  \n",
    "if choose_dataset==1:\n",
    "  data_dir = data_dir_mini\n",
    "  data_path = DATASET_PATH_mini\n",
    "  print('Working with the mini dataset!')\n",
    "elif choose_dataset==2:\n",
    "  data_dir = data_dir_full\n",
    "  data_path = DATASET_PATH_full\n",
    "  print('Working with the full dataset!')\n",
    "else:\n",
    "  print(\"Error, 'choose_dataset' must be 1 or 2\")"
   ]
  },
  {
   "cell_type": "markdown",
   "metadata": {
    "id": "TajS9BZPgurM"
   },
   "source": [
    "### 1.2 - Dataset organization\n",
    "The audio files are organized into folders based on the word they contain. For more details see \\[[Warden18](https://arxiv.org/abs/1804.03209)\\].\n",
    "\n",
    "**Mini dataset** <br>\n",
    "The dataset's audio clips are stored in 8 folders corresponding to each speech command: `down`, `go`, `left`, `no`, `right`, `stop`, `up`, `yes`, and `stop`. \n",
    "\n",
    "**Full dataset** <br>\n",
    "The dataset's audio clips are stored in 35 folders corresponding to each speech command: <br>\n",
    "`backward`, `bed`, `bird`, `cat`, `dog`, `down`, `eight`, `five`, `follow`, `forward`, `four`, `go`, `happy`, `house`, `learn`, `left`, `marvin`, `nine`, `no`, `off`, `on`, `one`, `right`, `seven`, `sheila`, `six`, `stop`, `three`, `tree`, `two`, `up`, `visual`, `wow`, `yes`, `zero`\n",
    "\n",
    "\n"
   ]
  },
  {
   "cell_type": "code",
   "execution_count": 9,
   "metadata": {
    "colab": {
     "base_uri": "https://localhost:8080/"
    },
    "execution": {
     "iopub.execute_input": "2023-01-26T20:45:40.401954Z",
     "iopub.status.busy": "2023-01-26T20:45:40.401788Z",
     "iopub.status.idle": "2023-01-26T20:45:40.408341Z",
     "shell.execute_reply": "2023-01-26T20:45:40.407819Z",
     "shell.execute_reply.started": "2023-01-26T20:45:40.401939Z"
    },
    "id": "gE9p410cgur8",
    "outputId": "cc4fd579-6894-4c0b-f00f-947e880d8304"
   },
   "outputs": [
    {
     "name": "stdout",
     "output_type": "stream",
     "text": [
      "Commands: ['backward', 'bed', 'bird', 'cat', 'dog', 'down', 'eight', 'five', 'follow', 'forward', 'four', 'go', 'happy', 'house', 'learn', 'left', 'marvin', 'nine', 'no', 'off', 'on', 'one', 'right', 'seven', 'sheila', 'six', 'stop', 'three', 'tree', 'two', 'up', 'visual', 'wow', 'yes', 'zero']\n",
      "\n",
      "Number of commands: 35\n"
     ]
    }
   ],
   "source": [
    "commands = np.array(tf.io.gfile.listdir(str(data_dir)))\n",
    "\n",
    "if choose_dataset==1:\n",
    "  mask = commands != 'README.md'\n",
    "\n",
    "elif choose_dataset==2:\n",
    "  mask = (\n",
    "      np.array(commands != 'README.md')                 &\n",
    "      np.array(commands != 'LICENSE')                   &\n",
    "      np.array(commands != '.DS_Store')                 &\n",
    "      np.array(commands != 'training_list.txt')         &  \n",
    "      np.array(commands != 'validation_list.txt')       &  \n",
    "      np.array(commands != 'testing_list.txt')          &  \n",
    "      np.array(commands != 'full_speech_commands.zip')  &\n",
    "      np.array(commands != '_background_noise_')        \n",
    "  )\n",
    "  \n",
    "commands = sorted(commands[mask])\n",
    "print('Commands:', commands)\n",
    "\n",
    "print('\\nNumber of commands: %i' %len(commands))"
   ]
  },
  {
   "cell_type": "markdown",
   "metadata": {
    "id": "N_HQ4GIRguvw"
   },
   "source": [
    "### 1.3 - Processing of the original audio files \n",
    "The original audio files were captured in a variety of formats and then converted to .WAV file at a 16000 sample rate. The audio was then trimmed to a one second length to align most utterances, using the [extract_loudest_section](https://github.com/petewarden/extract_loudest_section) tool. The audio files were then screened for silence or incorrect words, and arranged into folders by label."
   ]
  },
  {
   "cell_type": "markdown",
   "metadata": {
    "id": "YF8F8d-G5ltv"
   },
   "source": [
    "### 1.4 - Training, testing and validation sets\n",
    "The text files `validation_list.txt` and `testing_list.txt` available in the [Speech Commands dataset](https://www.tensorflow.org/datasets/catalog/speech_commands) contain the paths to all the files in each set, with each path on a new line. Any files that aren't in either of these lists can be considered to be part of the training set. The validation and test set sizes thus obtained are approximatly 10% of the size of the complete set. For more information on how the partition is made, see the README.md file of the dataset. \n",
    "\n",
    "The following code performs these operations:\n",
    "- Load the reference validation and testing files as separated Pandas dataframe objects. \n",
    "- Store the path of all audio files in a dictionary. \n",
    "- Create the reference file for training data, by storing in a Pandas dataframe object the paths of all files that aren't in the validation or testing list. If it has been already created, we simply import it as we did for the reference validation and testing files. \n",
    "\n",
    "To each file we associate the corresponding label (i.e. the name of the folder it is in), so that we get a proper labeling for each file to be used with our loss function. Of course, we still need to load the actual data."
   ]
  },
  {
   "cell_type": "code",
   "execution_count": 10,
   "metadata": {
    "colab": {
     "base_uri": "https://localhost:8080/"
    },
    "execution": {
     "iopub.execute_input": "2023-01-26T20:45:40.410350Z",
     "iopub.status.busy": "2023-01-26T20:45:40.410173Z",
     "iopub.status.idle": "2023-01-26T20:45:42.142657Z",
     "shell.execute_reply": "2023-01-26T20:45:42.142028Z",
     "shell.execute_reply.started": "2023-01-26T20:45:40.410335Z"
    },
    "id": "_fygRaSrguv0",
    "outputId": "e0e3f4f1-2a6d-40ab-fa99-c09a9fbdf250"
   },
   "outputs": [
    {
     "name": "stdout",
     "output_type": "stream",
     "text": [
      "There are 105829 audio files in the dataset\n"
     ]
    }
   ],
   "source": [
    "training_list_path = data_path + \"/training_list.txt\"\n",
    "\n",
    "reference_df_val = pd.read_csv(data_path+\"/validation_list.txt\", sep=\"/\", header=None, names=['label', 'file'])\n",
    "reference_df_test = pd.read_csv(data_path+\"/testing_list.txt\", sep=\"/\", header=None, names=['label', 'file'])\n",
    "\n",
    "# all audio files\n",
    "all_files = {}\n",
    "for command in commands:\n",
    "    all_files[command] = os.listdir(data_path+'/'+command)\n",
    "    \n",
    "num_files = 0\n",
    "for x_ in all_files.values():\n",
    "    num_files += len(x_)\n",
    "        \n",
    "print('There are %i audio files in the dataset' %num_files)\n",
    "\n",
    "# reference file for training set\n",
    "# if already exists import it\n",
    "if pathlib.Path(training_list_path).exists(): \n",
    "    reference_df_train =  pd.read_csv(data_path+\"/training_list.txt\", sep=\"/\", header=None, names=['label', 'file'])\n",
    "    \n",
    "# else search if it can be dowloaded\n",
    "else: \n",
    "  training_list_url = 'https://raw.githubusercontent.com/NicolaZomer/Keyword_Spotting/main/training_list.txt'\n",
    "  response = requests.get(training_list_url)\n",
    "\n",
    "  if response.status_code == 200:\n",
    "      wget.download(training_list_url, out=str(data_path))\n",
    "      print('File downloaded from GitHub')\n",
    "\n",
    "      reference_df_train =  pd.read_csv(data_path+\"/training_list.txt\", sep=\"/\", header=None, names=['label', 'file'])\n",
    "\n",
    "  else: # create it and store the dataframe as a .txt file; creating the pd object can take some time\n",
    "      print('File not found, error '+str(response.status_code))\n",
    "\n",
    "      reference_df_train = pd.DataFrame(columns=['label', 'file'])\n",
    "      for i, command in enumerate(commands):\n",
    "          print(\"Processing command '%s', %i commands missing...\" %(command, len(commands)-i-1))\n",
    "          for file in all_files[command]:\n",
    "              if file in reference_df_val['file'].values:\n",
    "                  continue\n",
    "              if file in reference_df_test['file'].values:\n",
    "                  continue\n",
    "\n",
    "              reference_df_train.loc[len(reference_df_train)] = [command, file]\n",
    "\n",
    "      print('Done!')\n",
    "      print('\\n')\n",
    "\n",
    "      # store reference_df_train in .txt file\n",
    "      reference_df_train.to_csv(data_path+'/training_list.txt', header=None, index=None, sep='/', mode='a')\n",
    "\n",
    "# print the result\n",
    "# print('----------------------------')\n",
    "# print('TRAINING FILES:')\n",
    "# print(reference_df_train)\n",
    "# print('----------------------------')\n",
    "# print('VALIDATION FILES:')\n",
    "# print(reference_df_val)\n",
    "# print('----------------------------')\n",
    "# print('TESTING FILES:')\n",
    "# print(reference_df_test)"
   ]
  },
  {
   "cell_type": "markdown",
   "metadata": {
    "id": "2naK4mEeguv5"
   },
   "source": [
    "Encode target labels with value between 0 and n_commands-1."
   ]
  },
  {
   "cell_type": "code",
   "execution_count": 11,
   "metadata": {
    "execution": {
     "iopub.execute_input": "2023-01-26T20:45:42.143617Z",
     "iopub.status.busy": "2023-01-26T20:45:42.143427Z",
     "iopub.status.idle": "2023-01-26T20:45:42.146893Z",
     "shell.execute_reply": "2023-01-26T20:45:42.146347Z",
     "shell.execute_reply.started": "2023-01-26T20:45:42.143600Z"
    },
    "id": "tyTfKJQbguv6"
   },
   "outputs": [],
   "source": [
    "label_to_class = {commands[i]:i for i in range(len(commands))}\n",
    "# label_to_class"
   ]
  },
  {
   "cell_type": "code",
   "execution_count": 12,
   "metadata": {
    "execution": {
     "iopub.execute_input": "2023-01-26T20:45:42.147580Z",
     "iopub.status.busy": "2023-01-26T20:45:42.147434Z",
     "iopub.status.idle": "2023-01-26T20:45:42.150541Z",
     "shell.execute_reply": "2023-01-26T20:45:42.149976Z",
     "shell.execute_reply.started": "2023-01-26T20:45:42.147566Z"
    },
    "id": "9bEaJKJkguv7"
   },
   "outputs": [],
   "source": [
    "class_to_label = {i:commands[i] for i in range(len(commands))}\n",
    "# class_to_label"
   ]
  },
  {
   "cell_type": "code",
   "execution_count": 13,
   "metadata": {
    "colab": {
     "base_uri": "https://localhost:8080/"
    },
    "execution": {
     "iopub.execute_input": "2023-01-26T20:45:42.151213Z",
     "iopub.status.busy": "2023-01-26T20:45:42.151069Z",
     "iopub.status.idle": "2023-01-26T20:45:42.167953Z",
     "shell.execute_reply": "2023-01-26T20:45:42.167421Z",
     "shell.execute_reply.started": "2023-01-26T20:45:42.151196Z"
    },
    "id": "8vgwIDfSguv8",
    "outputId": "81751e38-0743-48be-93d9-3f7c8c3b52f3"
   },
   "outputs": [
    {
     "name": "stdout",
     "output_type": "stream",
     "text": [
      "TRAINING FILES:\n",
      "          label                   file  class\n",
      "0      backward  0165e0e8_nohash_0.wav      0\n",
      "1      backward  017c4098_nohash_0.wav      0\n",
      "2      backward  017c4098_nohash_1.wav      0\n",
      "3      backward  017c4098_nohash_2.wav      0\n",
      "4      backward  017c4098_nohash_3.wav      0\n",
      "...         ...                    ...    ...\n",
      "84838      zero  ffd2ba2f_nohash_1.wav     34\n",
      "84839      zero  ffd2ba2f_nohash_2.wav     34\n",
      "84840      zero  ffd2ba2f_nohash_3.wav     34\n",
      "84841      zero  ffd2ba2f_nohash_4.wav     34\n",
      "84842      zero  fffcabd1_nohash_0.wav     34\n",
      "\n",
      "[84843 rows x 3 columns]\n",
      "----------------------------\n",
      "VALIDATION FILES:\n",
      "      label                   file  class\n",
      "0     right  a69b9b3e_nohash_0.wav     22\n",
      "1     right  439c84f4_nohash_1.wav     22\n",
      "2     right  409c962a_nohash_1.wav     22\n",
      "3     right  dbaf8fc6_nohash_2.wav     22\n",
      "4     right  a6d586b7_nohash_1.wav     22\n",
      "...     ...                    ...    ...\n",
      "9976   four  d107dc42_nohash_0.wav     10\n",
      "9977   four  ad63d93c_nohash_0.wav     10\n",
      "9978   four  d3831f6a_nohash_1.wav     10\n",
      "9979   four  3c4aa5ef_nohash_3.wav     10\n",
      "9980   four  c6389ab0_nohash_0.wav     10\n",
      "\n",
      "[9981 rows x 3 columns]\n",
      "----------------------------\n",
      "TESTING FILES:\n",
      "       label                   file  class\n",
      "0      right  bb05582b_nohash_3.wav     22\n",
      "1      right  97f4c236_nohash_2.wav     22\n",
      "2      right  f2e59fea_nohash_3.wav     22\n",
      "3      right  fdb5155e_nohash_2.wav     22\n",
      "4      right  dc75148d_nohash_0.wav     22\n",
      "...      ...                    ...    ...\n",
      "11000   four  189cbabe_nohash_2.wav     10\n",
      "11001   four  8fe67225_nohash_3.wav     10\n",
      "11002   four  c9e251d2_nohash_1.wav     10\n",
      "11003   four  0c40e715_nohash_0.wav     10\n",
      "11004   four  8769c34c_nohash_3.wav     10\n",
      "\n",
      "[11005 rows x 3 columns]\n"
     ]
    }
   ],
   "source": [
    "reference_df_train['class'] = reference_df_train['label'].map(label_to_class)\n",
    "reference_df_val['class']   = reference_df_val['label'].map(label_to_class)\n",
    "reference_df_test['class']  = reference_df_test['label'].map(label_to_class)\n",
    "\n",
    "# print the result\n",
    "print('TRAINING FILES:')\n",
    "print(reference_df_train)\n",
    "print('----------------------------')\n",
    "print('VALIDATION FILES:')\n",
    "print(reference_df_val)\n",
    "print('----------------------------')\n",
    "print('TESTING FILES:')\n",
    "print(reference_df_test)"
   ]
  },
  {
   "cell_type": "markdown",
   "metadata": {
    "id": "YWHq02qWguwV"
   },
   "source": [
    "#### 1.4.1 - Smoke test\n",
    "We enable the possibility to perform some tests without loading the entire dataset by setting `smoke_test=True`. With this option the train, validation and test set are reduced to a fraction `smoke_test_frac` of elements. This can be useful to test if everything is working as intended before the full training, or if the current hardware is not powerful enough. "
   ]
  },
  {
   "cell_type": "code",
   "execution_count": 14,
   "metadata": {
    "execution": {
     "iopub.execute_input": "2023-01-26T20:45:42.168792Z",
     "iopub.status.busy": "2023-01-26T20:45:42.168616Z",
     "iopub.status.idle": "2023-01-26T20:45:42.172670Z",
     "shell.execute_reply": "2023-01-26T20:45:42.172161Z",
     "shell.execute_reply.started": "2023-01-26T20:45:42.168777Z"
    },
    "id": "kWb3R_eQguwW"
   },
   "outputs": [],
   "source": [
    "smoke_test = False\n",
    "smoke_test_frac = 0.2\n",
    "smoke_test_threshold = 1000 # minimum length of reduced datasets\n",
    "\n",
    "if smoke_test:\n",
    "    len_min = smoke_test_frac * min(len(reference_df_train), len(reference_df_val), len(reference_df_test))\n",
    "    if len_min < smoke_test_threshold:\n",
    "        raise Exception(f'One of the reduced datasets would have a number of samples < {smoke_test_threshold}! Select a larger value for \"smoke_test_frac\".')\n",
    "    else: \n",
    "        reference_df_train = reference_df_train.sample(frac=smoke_test_frac, replace=False)\n",
    "        reference_df_val   = reference_df_val.sample(frac=smoke_test_frac, replace=False)\n",
    "        reference_df_test  = reference_df_test.sample(frac=smoke_test_frac, replace=False)"
   ]
  },
  {
   "cell_type": "code",
   "execution_count": 15,
   "metadata": {
    "colab": {
     "base_uri": "https://localhost:8080/"
    },
    "execution": {
     "iopub.execute_input": "2023-01-26T20:45:42.173479Z",
     "iopub.status.busy": "2023-01-26T20:45:42.173323Z",
     "iopub.status.idle": "2023-01-26T20:45:42.177845Z",
     "shell.execute_reply": "2023-01-26T20:45:42.177271Z",
     "shell.execute_reply.started": "2023-01-26T20:45:42.173462Z"
    },
    "id": "QdOpKmpwguwi",
    "outputId": "b7a85adc-74eb-4ab2-a4d6-99df1497dd7d"
   },
   "outputs": [
    {
     "name": "stdout",
     "output_type": "stream",
     "text": [
      "TRAINING SET\n",
      "\tnumber of audio files: 84843\n",
      "\tpercentage of audio files: 80.17%\n",
      "VALIDATION SET\n",
      "\tnumber of audio files: 9981\n",
      "\tpercentage of audio files: 9.43%\n",
      "TEST SET\n",
      "\tnumber of audio files: 11005\n",
      "\tpercentage of audio files: 10.40%\n"
     ]
    }
   ],
   "source": [
    "print('TRAINING SET')\n",
    "print('\\tnumber of audio files: %i' %len(reference_df_train))\n",
    "print('\\tpercentage of audio files: %.2f%%' %(len(reference_df_train)/num_files*100))\n",
    "\n",
    "print('VALIDATION SET')\n",
    "print('\\tnumber of audio files: %i' %len(reference_df_val))\n",
    "print('\\tpercentage of audio files: %.2f%%' %(len(reference_df_val)/num_files*100))\n",
    "\n",
    "print('TEST SET')\n",
    "print('\\tnumber of audio files: %i' %len(reference_df_test))\n",
    "print('\\tpercentage of audio files: %.2f%%' %(len(reference_df_test)/num_files*100))"
   ]
  },
  {
   "cell_type": "markdown",
   "metadata": {
    "id": "Qpc9ckEFguwm"
   },
   "source": [
    "#### 1.4.2 - Dataset distribution\n",
    "Let's now plot the percentage of elements of each class in each set. "
   ]
  },
  {
   "cell_type": "code",
   "execution_count": 16,
   "metadata": {
    "colab": {
     "base_uri": "https://localhost:8080/",
     "height": 1000
    },
    "execution": {
     "iopub.execute_input": "2023-01-26T20:45:42.178500Z",
     "iopub.status.busy": "2023-01-26T20:45:42.178361Z",
     "iopub.status.idle": "2023-01-26T20:45:42.887015Z",
     "shell.execute_reply": "2023-01-26T20:45:42.886448Z",
     "shell.execute_reply.started": "2023-01-26T20:45:42.178488Z"
    },
    "id": "YhKiDxNuguwo",
    "outputId": "7c0798c8-217f-4560-9676-aa7ddd09fd9d"
   },
   "outputs": [
    {
     "data": {
      "image/png": "[encoded data removed]",
      "text/plain": [
       "<Figure size 1008x1512 with 3 Axes>"
      ]
     },
     "metadata": {
      "needs_background": "light"
     },
     "output_type": "display_data"
    }
   ],
   "source": [
    "fig, ax = plt.subplots(3, 1, figsize=(14, 21))\n",
    "\n",
    "plot_utils.hist_class_distribution(reference_df_train, ax[0], commands)\n",
    "plot_utils.hist_class_distribution(reference_df_val, ax[1], commands)\n",
    "plot_utils.hist_class_distribution(reference_df_test, ax[2], commands)\n",
    "\n",
    "for i in range(3):\n",
    "    ax[i].set_ylabel('Normalized counts')\n",
    "    ax[i].grid(alpha=0.5)\n",
    "    ax[i].tick_params(axis='x', labelrotation=90)\n",
    "    \n",
    "ax[0].set_title('Training set distribution', fontsize=18)\n",
    "ax[1].set_title('Validation set distribution', fontsize=18)\n",
    "ax[2].set_title('Testing set distribution', fontsize=18)\n",
    "\n",
    "plt.tight_layout()\n",
    "plt.show()"
   ]
  },
  {
   "cell_type": "markdown",
   "metadata": {
    "id": "5OntieQwayQN"
   },
   "source": [
    "### 1.5 Noise loading \n",
    "We load here the available noisy audio signals and we defined the object `noise_dict`, which is required by the function `load_and_preprocessing_data` (see next section)."
   ]
  },
  {
   "cell_type": "code",
   "execution_count": 17,
   "metadata": {
    "colab": {
     "base_uri": "https://localhost:8080/"
    },
    "execution": {
     "iopub.execute_input": "2023-01-26T20:45:42.887984Z",
     "iopub.status.busy": "2023-01-26T20:45:42.887796Z",
     "iopub.status.idle": "2023-01-26T20:45:43.733135Z",
     "shell.execute_reply": "2023-01-26T20:45:43.732308Z",
     "shell.execute_reply.started": "2023-01-26T20:45:42.887968Z"
    },
    "id": "G_Mm2LkLaxUT",
    "outputId": "81a07950-1f58-4d8b-e2c4-56b832c60511"
   },
   "outputs": [
    {
     "name": "stderr",
     "output_type": "stream",
     "text": [
      "/notebooks/preprocessing_utils.py:70: WavFileWarning: Chunk (non-data) not understood, skipping it.\n",
      "  _, data = wavfile.read(file_path)\n"
     ]
    }
   ],
   "source": [
    "noise_path = '_background_noise_'\n",
    "\n",
    "# load all noises \n",
    "noise_1 = preprocessing_utils.load_data('doing_the_dishes.wav', noise_path)\n",
    "noise_2 = preprocessing_utils.load_data('dude_miaowing.wav', noise_path)\n",
    "noise_3 = preprocessing_utils.load_data('exercise_bike.wav', noise_path)\n",
    "noise_4 = preprocessing_utils.load_data('pink_noise.wav', noise_path)\n",
    "noise_5 = preprocessing_utils.load_data('running_tap.wav', noise_path)\n",
    "noise_6 = preprocessing_utils.load_data('white_noise.wav', noise_path)\n",
    "\n",
    "noise_dict = {\n",
    "    '1': noise_1, \n",
    "    '2': noise_2, \n",
    "    '3': noise_3, \n",
    "    '4': noise_4, \n",
    "    '5': noise_5, \n",
    "    '6': noise_6\n",
    "}"
   ]
  },
  {
   "cell_type": "markdown",
   "metadata": {
    "id": "af53Vbe4gu07"
   },
   "source": [
    "## 2 - Data Loading using the Dataset API\n",
    "As the dataset is quite large (>5GiB), there is the risk that it will not entirely fit in the memory, plus the preprocessing pipeline would be computationally intensive. For these reasons, we want to implement a proper and optimized data-loading pipeline, as reading the data can be the main bottleneck of the entire training process. This can be done by exploit the [Tensorflow Dataset API](https://www.tensorflow.org/guide/datasets).\n",
    "\n",
    "The main goal of this phase is to create a `tf.data.Dataset` object to efficiently load and preprocess your data. \n",
    "\n",
    "### 2.1 Loading and preprocessing\n",
    "First, to load and preprocess the data, we use the function `load_and_preprocess_data`, defined in the file `preprocessing_utils.py`. This function puts together all loading and preprocessing methods that can be explored in the notebook `B1_data_analysis_and_preprocessing_inspection.ipynb`. \n",
    "\n"
   ]
  },
  {
   "cell_type": "code",
   "execution_count": 18,
   "metadata": {
    "colab": {
     "base_uri": "https://localhost:8080/"
    },
    "execution": {
     "iopub.execute_input": "2023-01-26T20:45:43.734269Z",
     "iopub.status.busy": "2023-01-26T20:45:43.734068Z",
     "iopub.status.idle": "2023-01-26T20:45:43.739155Z",
     "shell.execute_reply": "2023-01-26T20:45:43.738602Z",
     "shell.execute_reply.started": "2023-01-26T20:45:43.734252Z"
    },
    "id": "XPDcrdmCY17R",
    "outputId": "a43f53fd-6ab8-4fa6-d8a3-a1d8979cbdcb"
   },
   "outputs": [
    {
     "name": "stdout",
     "output_type": "stream",
     "text": [
      "def load_and_preprocess_data(file_name, file_label, data_path_=data_path):\n",
      "\n",
      "    # load data\n",
      "    data = load_data(file_name, file_label, data_path_=data_path_)\n",
      "    \n",
      "    # padding/trimming\n",
      "    data = padding_trimming(data)\n",
      "        \n",
      "    # TensorFlow takes as input 32-bit floating point data\n",
      "    return data.astype(np.float32)\n",
      "\n"
     ]
    }
   ],
   "source": [
    "print(inspect.getsource(preprocessing_utils.load_and_preprocess_data))"
   ]
  },
  {
   "attachments": {},
   "cell_type": "markdown",
   "metadata": {
    "id": "2fIv5VEdgu1a"
   },
   "source": [
    "### 2.2 - Dataset definition\n",
    "We now use the function `create_dataset`, defined in the file `preprocessing_utils.py`. This function initializes a `tf.data.Dataset` object and properly maps all the required processing. More details on this procedure can be found [here](https://www.tensorflow.org/guide/performance/datasets), along with additional tips and tricks for performance optimization."
   ]
  },
  {
   "cell_type": "code",
   "execution_count": 19,
   "metadata": {
    "execution": {
     "iopub.execute_input": "2023-01-26T20:45:43.740110Z",
     "iopub.status.busy": "2023-01-26T20:45:43.739914Z",
     "iopub.status.idle": "2023-01-26T20:45:43.743760Z",
     "shell.execute_reply": "2023-01-26T20:45:43.743200Z",
     "shell.execute_reply.started": "2023-01-26T20:45:43.740096Z"
    },
    "id": "IpL9t-wfcgSu"
   },
   "outputs": [
    {
     "name": "stdout",
     "output_type": "stream",
     "text": [
      "def create_dataset(df, is_train=True, data_path_=data_path, cache_file=None, shuffle=True, apply_random_shift=False, apply_background_noise=False, noise_dict=None, noise_reduction=0.5, features=1, batch_size=32):\n",
      "    '''\n",
      "    features:\n",
      "    - 1 for MFCC features [delta_order=2] (default)\n",
      "    - 2 for log Mel-filterbank energy features\n",
      "    - 3 for spectrogram\n",
      "    - 4 for Discrete Wavelet Transform + MFCC features\n",
      "    - 5 for MFCC features [delta_order=0]\n",
      "    - 6 for log Mel-filterbank energy features [winlen=32, winstep=15.5, nfilt=64]\n",
      "    - 7 for log Mel-filterbank energy features [winlen=25, winstep=8,    nfilt=80]\n",
      "    '''\n",
      "\n",
      "    # Convert DataFrame to lists\n",
      "    file_names  = df['file'].tolist()\n",
      "    file_labels = df['class'].tolist()\n",
      "\n",
      "    # Create a Dataset object\n",
      "    dataset = tf.data.Dataset.from_tensor_slices((file_names, file_labels))\n",
      "\n",
      "    # Map the \"load_and_preprocess_data\" function\n",
      "    dataset = dataset.map(lambda file_name, file_label: (tf.numpy_function(load_and_preprocess_data, [file_name, file_label, data_path_], tf.float32), file_label), num_parallel_calls=os.cpu_count())\n",
      "\n",
      "    if is_train:\n",
      "\n",
      "        # Cache\n",
      "        if cache_file:\n",
      "            dataset = dataset.cache(filename=cache_file)\n",
      "\n",
      "        # Shuffle\n",
      "        if shuffle:\n",
      "            dataset = dataset.shuffle(buffer_size=len(df))\n",
      "\n",
      "        # Repeat the dataset indefinitely\n",
      "        dataset = dataset.repeat()\n",
      "\n",
      "    # Map the \"random_time_shift\" function\n",
      "    if apply_random_shift:\n",
      "        dataset = dataset.map(lambda data, label: (tf.numpy_function(random_time_shift, [data], tf.float32), label))\n",
      "\n",
      "    # Map the \"background_noise\" function\n",
      "    if apply_background_noise and np.random.uniform() < 0.8:\n",
      "        noise_list = [tf.convert_to_tensor(noise, dtype=tf.float32) for noise in noise_dict.values()]\n",
      "        dataset    = dataset.map(lambda data, label: (tf.numpy_function(background_noise, [data, -1, -1, noise_reduction, *noise_list], tf.float32), label))\n",
      "\n",
      "    # Extract features\n",
      "    if   features == 1:\n",
      "        dataset = dataset.map(lambda data, label: (tf.numpy_function(get_mfcc,        [data], tf.float32), label))\n",
      "    elif features == 2:\n",
      "        dataset = dataset.map(lambda data, label: (tf.numpy_function(get_logfbank,    [data], tf.float32), label))\n",
      "    elif features == 3:\n",
      "        dataset = dataset.map(lambda data, label: (tf.numpy_function(get_spectrogram, [data], tf.float32), label))\n",
      "    elif features == 4:\n",
      "        dataset = dataset.map(lambda data, label: (tf.numpy_function(get_dwt,         [data], tf.float32), label))\n",
      "        dataset = dataset.map(lambda data, label: (tf.numpy_function(get_mfcc,        [data], tf.float32), label))\n",
      "    elif features == 5:\n",
      "        dataset = dataset.map(lambda data, label: (tf.numpy_function(get_mfcc,        [data, 0], tf.float32), label))\n",
      "    elif features == 6:\n",
      "        dataset = dataset.map(lambda data, label: (tf.numpy_function(get_logfbank,    [data, 16000, 32, 15.5, 64], tf.float32), label))\n",
      "    elif features == 7:\n",
      "        dataset = dataset.map(lambda data, label: (tf.numpy_function(get_logfbank,    [data, 16000, 25, 8, 80], tf.float32), label))\n",
      "\n",
      "    if not is_train:\n",
      "\n",
      "        # Cache\n",
      "        if cache_file:\n",
      "            dataset = dataset.cache(filename=cache_file)\n",
      "\n",
      "        # Shuffle\n",
      "        if shuffle:\n",
      "            dataset = dataset.shuffle(buffer_size=len(df))\n",
      "\n",
      "        # Repeat the dataset indefinitely\n",
      "        dataset = dataset.repeat()\n",
      "\n",
      "    # Batch\n",
      "    dataset = dataset.batch(batch_size=batch_size)\n",
      "\n",
      "    # Prefetch\n",
      "    dataset = dataset.prefetch(buffer_size=1)\n",
      "\n",
      "    # Steps\n",
      "    steps = int(np.ceil(len(df) / batch_size))\n",
      "\n",
      "    return dataset, steps\n",
      "\n"
     ]
    }
   ],
   "source": [
    "print(inspect.getsource(preprocessing_utils.create_dataset))"
   ]
  },
  {
   "cell_type": "markdown",
   "metadata": {
    "id": "g7wcCw0Kgu1b"
   },
   "source": [
    "### 2.3 - Dataset initialization\n",
    "Finally, we define the training, validation and testing dataset, applying the above function to each of the corresponding reference dataframes. We also evaluate the number of steps (*train_steps*, *val_steps* and *test_steps*) required to load and process the entire dataset (num. of samples / batch_size).\n"
   ]
  },
  {
   "cell_type": "code",
   "execution_count": 21,
   "metadata": {
    "execution": {
     "iopub.execute_input": "2023-01-26T20:45:43.750845Z",
     "iopub.status.busy": "2023-01-26T20:45:43.750367Z",
     "iopub.status.idle": "2023-01-26T20:45:44.289534Z",
     "shell.execute_reply": "2023-01-26T20:45:44.288879Z",
     "shell.execute_reply.started": "2023-01-26T20:45:43.750825Z"
    },
    "id": "i2c5zxUVgu1b"
   },
   "outputs": [],
   "source": [
    "'''\n",
    "    features_to_extract:\n",
    "    - 1 for MFCC features [delta_order=2] (default)\n",
    "    - 2 for log Mel-filterbank energy features\n",
    "    - 3 for spectrogram\n",
    "    - 4 for Discrete Wavelet Transform + MFCC features\n",
    "    - 5 for MFCC features [delta_order=0]\n",
    "    - 6 for log Mel-filterbank energy features [winlen=32, winstep=15.5, nfilt=64]\n",
    "    - 7 for log Mel-filterbank energy features [winlen=25, winstep=8,    nfilt=80]\n",
    "    else the original signal without feature extraction is returned\n",
    "'''\n",
    "\n",
    "apply_bn = True\n",
    "noise_red = 0.5\n",
    "features_to_extract = 2\n",
    "batch_size = 32\n",
    "\n",
    "train_dataset, train_steps = create_dataset(\n",
    "    reference_df_train,\n",
    "    is_train=True,\n",
    "    cache_file='train_cache',\n",
    "    shuffle=True,\n",
    "    apply_background_noise=apply_bn,\n",
    "    noise_dict=noise_dict,\n",
    "    noise_reduction=noise_red,\n",
    "    features=features_to_extract,\n",
    "    batch_size=batch_size\n",
    ")\n",
    "\n",
    "val_dataset, val_steps = create_dataset(\n",
    "    reference_df_val,\n",
    "    is_train=False,\n",
    "    cache_file='val_cache',\n",
    "    shuffle=True,\n",
    "    apply_background_noise=False,\n",
    "    features=features_to_extract,\n",
    "    batch_size=batch_size\n",
    ")\n",
    "\n",
    "# important! shuffle=False\n",
    "test_dataset, test_steps = create_dataset(\n",
    "    reference_df_test,\n",
    "    is_train=False,\n",
    "    cache_file='test_cache',\n",
    "    shuffle=False,\n",
    "    apply_background_noise=False,\n",
    "    features=features_to_extract,\n",
    "    batch_size=batch_size\n",
    ")"
   ]
  },
  {
   "cell_type": "markdown",
   "metadata": {
    "id": "1dp116A5gu1c"
   },
   "source": [
    "## 3 - Conformer model\n",
    "\n",
    "References:\n",
    "- [Conformer: Convolution-augmented Transformer for Speech Recognition | Google](https://arxiv.org/abs/2005.08100)\n",
    "- [Fake Speech Detection: Conformer [TF] | Kaggle](https://www.kaggle.com/code/awsaf49/fake-speech-detection-conformer-tf)\n",
    "- [audio_classification_models | GitHub](https://github.com/awsaf49/audio_classification_models)\n",
    "\n",
    "This model combines **Convolutional Neural Networks** and **Transformers** to get the best of both worlds by modeling both local and global features of an audio sequence in a parameter-efficient way.\n",
    "We will use only the **Encoder** part of the model.\n",
    "The main components of the **Conformer-Block** are the following:\n",
    "\n",
    "- **Feed-forward module**: simple fully connected layer to map $n$ inputs to $m$ outputs\n",
    "- **Self-attention module**: compute globally coherent features\n",
    "- **Convolution module**: compute locally coherent features using `pointwise conv` and `1d depth-wise conv`\n",
    "- **Layer normalization module**: unlike batch normalization, it directly estimates the normalization statistics from the summed inputs to the neurons within a hidden layer"
   ]
  },
  {
   "cell_type": "code",
   "execution_count": 22,
   "metadata": {
    "execution": {
     "iopub.execute_input": "2023-01-26T20:45:44.290611Z",
     "iopub.status.busy": "2023-01-26T20:45:44.290411Z",
     "iopub.status.idle": "2023-01-26T20:45:46.692868Z",
     "shell.execute_reply": "2023-01-26T20:45:46.692141Z",
     "shell.execute_reply.started": "2023-01-26T20:45:44.290593Z"
    }
   },
   "outputs": [
    {
     "name": "stdout",
     "output_type": "stream",
     "text": [
      "Collecting audio_classification_models\n",
      "  Downloading audio_classification_models-1.0.9-py3-none-any.whl (17 kB)\n",
      "Collecting six>=1.16.0\n",
      "  Downloading six-1.16.0-py2.py3-none-any.whl (11 kB)\n",
      "Requirement already satisfied: numpy>=1.19.5 in /usr/local/lib/python3.9/dist-packages (from audio_classification_models) (1.23.1)\n",
      "Installing collected packages: six, audio_classification_models\n",
      "  Attempting uninstall: six\n",
      "    Found existing installation: six 1.14.0\n",
      "    Uninstalling six-1.14.0:\n",
      "      Successfully uninstalled six-1.14.0\n",
      "Successfully installed audio_classification_models-1.0.9 six-1.16.0\n",
      "\u001b[33mWARNING: Running pip as the 'root' user can result in broken permissions and conflicting behaviour with the system package manager. It is recommended to use a virtual environment instead: https://pip.pypa.io/warnings/venv\u001b[0m\u001b[33m\n",
      "\u001b[0m"
     ]
    }
   ],
   "source": [
    "! pip install audio_classification_models"
   ]
  },
  {
   "cell_type": "code",
   "execution_count": 23,
   "metadata": {
    "execution": {
     "iopub.execute_input": "2023-01-26T20:45:46.694041Z",
     "iopub.status.busy": "2023-01-26T20:45:46.693844Z",
     "iopub.status.idle": "2023-01-26T20:45:46.703399Z",
     "shell.execute_reply": "2023-01-26T20:45:46.702969Z",
     "shell.execute_reply.started": "2023-01-26T20:45:46.694022Z"
    }
   },
   "outputs": [],
   "source": [
    "from audio_classification_models import ConformerEncoder\n",
    "\n",
    "from tensorflow.keras.layers import Input, Reshape, GlobalAveragePooling1D, GlobalMaxPool1D, Dense\n",
    "from tensorflow.keras.models import Model\n",
    "from tensorflow.keras.optimizers import Adam\n",
    "from tensorflow.keras.callbacks import EarlyStopping, ReduceLROnPlateau, ModelCheckpoint"
   ]
  },
  {
   "cell_type": "markdown",
   "metadata": {
    "id": "6ehk_BTxgu1d"
   },
   "source": [
    "### 3.1 - Model definition\n"
   ]
  },
  {
   "cell_type": "code",
   "execution_count": 24,
   "metadata": {
    "execution": {
     "iopub.execute_input": "2023-01-26T20:45:46.704126Z",
     "iopub.status.busy": "2023-01-26T20:45:46.703972Z",
     "iopub.status.idle": "2023-01-26T20:45:46.709274Z",
     "shell.execute_reply": "2023-01-26T20:45:46.708748Z",
     "shell.execute_reply.started": "2023-01-26T20:45:46.704111Z"
    },
    "id": "UQHcgyER6gna"
   },
   "outputs": [],
   "source": [
    "def conformer(input_shape=(99, 40), pooling='avg', output_shape=35, final_activation='softmax', name='conformer', **kwargs):\n",
    "    \n",
    "    inp = Input(shape=input_shape)\n",
    "    out = Reshape(input_shape=input_shape, target_shape=(input_shape[0], input_shape[1], 1))(inp)\n",
    "    out = ConformerEncoder(**kwargs)(out)\n",
    "    \n",
    "    if   pooling == 'avg':\n",
    "        out = GlobalAveragePooling1D()(out)\n",
    "    elif pooling == 'max':\n",
    "        out = GlobalMaxPool1D()(out)\n",
    "    else:\n",
    "        raise ValueError(\"'pooling' must be either 'avg' or 'max'\")\n",
    "\n",
    "    out = Dense(output_shape, activation=final_activation)(out)\n",
    "    \n",
    "    model = Model(inputs=inp, outputs=out, name=name)\n",
    "    \n",
    "    return model"
   ]
  },
  {
   "cell_type": "code",
   "execution_count": 25,
   "metadata": {
    "colab": {
     "base_uri": "https://localhost:8080/"
    },
    "execution": {
     "iopub.execute_input": "2023-01-26T20:45:46.709927Z",
     "iopub.status.busy": "2023-01-26T20:45:46.709777Z",
     "iopub.status.idle": "2023-01-26T20:45:47.958609Z",
     "shell.execute_reply": "2023-01-26T20:45:47.957977Z",
     "shell.execute_reply.started": "2023-01-26T20:45:46.709913Z"
    },
    "id": "bvPRWpCRgu1f",
    "outputId": "4b363c9c-c59e-435b-df09-d4622d84479c"
   },
   "outputs": [
    {
     "name": "stdout",
     "output_type": "stream",
     "text": [
      "Model: \"conformer_F2_N1_Pavg\"\n",
      "_________________________________________________________________\n",
      " Layer (type)                Output Shape              Param #   \n",
      "=================================================================\n",
      " input_1 (InputLayer)        [(None, 99, 40)]          0         \n",
      "                                                                 \n",
      " reshape (Reshape)           (None, 99, 40, 1)         0         \n",
      "                                                                 \n",
      " conformer_encoder (Conforme  (None, None, 144)        902448    \n",
      " rEncoder)                                                       \n",
      "                                                                 \n",
      " global_average_pooling1d (G  (None, 144)              0         \n",
      " lobalAveragePooling1D)                                          \n",
      "                                                                 \n",
      " dense (Dense)               (None, 35)                5075      \n",
      "                                                                 \n",
      "=================================================================\n",
      "Total params: 907,523\n",
      "Trainable params: 907,235\n",
      "Non-trainable params: 288\n",
      "_________________________________________________________________\n"
     ]
    }
   ],
   "source": [
    "features_to_input = { # input shapes\n",
    "    1 : (99, 39),     # MFCC features, delta_order=2\n",
    "    2 : (99, 40),     # log Mel-filterbank energy features\n",
    "    3 : (98, 257),    # spectrogram\n",
    "    4 : (49, 39),     # Discrete Wavelet Transform + MFCC features\n",
    "    5 : (99, 13)      # MFCC features, delta_order=0\n",
    "}\n",
    "\n",
    "input_shape     = features_to_input[features_to_extract]\n",
    "num_blocks      = 1 # number of conformer blocks\n",
    "pooling         = 'avg'\n",
    "output_shape    = 35\n",
    "final_activation = 'softmax'\n",
    "model_name      = f'conformer_F{features_to_extract}_N{num_blocks}_P{pooling}'\n",
    "\n",
    "model = conformer(input_shape, pooling, output_shape, final_activation, model_name, num_blocks=num_blocks)\n",
    "model.summary()"
   ]
  },
  {
   "cell_type": "code",
   "execution_count": 26,
   "metadata": {
    "execution": {
     "iopub.execute_input": "2023-01-26T20:45:47.959548Z",
     "iopub.status.busy": "2023-01-26T20:45:47.959368Z",
     "iopub.status.idle": "2023-01-26T20:45:47.968269Z",
     "shell.execute_reply": "2023-01-26T20:45:47.967703Z",
     "shell.execute_reply.started": "2023-01-26T20:45:47.959533Z"
    },
    "id": "VwTP3DimCENO"
   },
   "outputs": [],
   "source": [
    "model.compile(\n",
    "            optimizer = Adam(learning_rate=1e-4, beta_1=0.9, beta_2=0.98, epsilon=1e-9),\n",
    "            loss      = \"sparse_categorical_crossentropy\",\n",
    "            metrics   = \"sparse_categorical_accuracy\"\n",
    "            )"
   ]
  },
  {
   "cell_type": "code",
   "execution_count": 27,
   "metadata": {
    "execution": {
     "iopub.execute_input": "2023-01-26T20:45:47.969658Z",
     "iopub.status.busy": "2023-01-26T20:45:47.969239Z",
     "iopub.status.idle": "2023-01-26T20:45:47.971999Z",
     "shell.execute_reply": "2023-01-26T20:45:47.971491Z",
     "shell.execute_reply.started": "2023-01-26T20:45:47.969642Z"
    },
    "id": "Q0uoLXKPgu2G"
   },
   "outputs": [],
   "source": [
    "# Show the structure of the model through building blocks\n",
    "# tf.keras.utils.plot_model(model, to_file=f'{model_name}.png')\n",
    "# Image(f'{model_name}.png')"
   ]
  },
  {
   "cell_type": "markdown",
   "metadata": {
    "id": "-khCC16dgu2K"
   },
   "source": [
    "### 3.2 - Model training "
   ]
  },
  {
   "cell_type": "code",
   "execution_count": 28,
   "metadata": {
    "execution": {
     "iopub.execute_input": "2023-01-26T20:45:47.975688Z",
     "iopub.status.busy": "2023-01-26T20:45:47.975197Z",
     "iopub.status.idle": "2023-01-26T20:45:47.977927Z",
     "shell.execute_reply": "2023-01-26T20:45:47.977411Z",
     "shell.execute_reply.started": "2023-01-26T20:45:47.975670Z"
    },
    "id": "9YgyrsX9ofph"
   },
   "outputs": [],
   "source": [
    "# uncomment to remove cache files\n",
    "# remove_file_starting_with('train_cache')"
   ]
  },
  {
   "cell_type": "code",
   "execution_count": 29,
   "metadata": {
    "colab": {
     "base_uri": "https://localhost:8080/"
    },
    "execution": {
     "iopub.execute_input": "2023-01-26T20:45:47.978624Z",
     "iopub.status.busy": "2023-01-26T20:45:47.978480Z",
     "iopub.status.idle": "2023-01-26T21:14:11.546134Z",
     "shell.execute_reply": "2023-01-26T21:14:11.545538Z",
     "shell.execute_reply.started": "2023-01-26T20:45:47.978612Z"
    },
    "id": "ZEr0gilQgu2d",
    "outputId": "a36988d1-9216-4167-97af-7e05b6bb7358"
   },
   "outputs": [
    {
     "name": "stdout",
     "output_type": "stream",
     "text": [
      "Epoch 1/100\n"
     ]
    },
    {
     "name": "stderr",
     "output_type": "stream",
     "text": [
      "2023-01-26 20:55:52.751686: W tensorflow/core/kernels/data/cache_dataset_ops.cc:296] The calling iterator did not fully read the dataset being cached. In order to avoid unexpected truncation of the dataset, the partially cached contents of the dataset  will be discarded. This can happen if you have an input pipeline similar to `dataset.cache().take(k).repeat()`. You should use `dataset.take(k).cache().repeat()` instead.\n"
     ]
    },
    {
     "name": "stdout",
     "output_type": "stream",
     "text": [
      "2650/2652 [============================>.] - ETA: 0s - loss: 2.5405 - sparse_categorical_accuracy: 0.2936"
     ]
    },
    {
     "name": "stderr",
     "output_type": "stream",
     "text": [
      "2023-01-26 20:58:05.738715: W tensorflow/core/kernels/data/cache_dataset_ops.cc:296] The calling iterator did not fully read the dataset being cached. In order to avoid unexpected truncation of the dataset, the partially cached contents of the dataset  will be discarded. This can happen if you have an input pipeline similar to `dataset.cache().take(k).repeat()`. You should use `dataset.take(k).cache().repeat()` instead.\n"
     ]
    },
    {
     "name": "stdout",
     "output_type": "stream",
     "text": [
      "2652/2652 [==============================] - 768s 57ms/step - loss: 2.5399 - sparse_categorical_accuracy: 0.2937 - val_loss: 1.6090 - val_sparse_categorical_accuracy: 0.5337 - lr: 1.0000e-04\n",
      "Epoch 2/100\n",
      "2652/2652 [==============================] - 37s 14ms/step - loss: 1.3868 - sparse_categorical_accuracy: 0.5994 - val_loss: 1.0077 - val_sparse_categorical_accuracy: 0.7058 - lr: 1.0000e-04\n",
      "Epoch 3/100\n",
      "2652/2652 [==============================] - 45s 17ms/step - loss: 1.0166 - sparse_categorical_accuracy: 0.7034 - val_loss: 0.7796 - val_sparse_categorical_accuracy: 0.7703 - lr: 1.0000e-04\n",
      "Epoch 4/100\n",
      "2652/2652 [==============================] - 40s 15ms/step - loss: 0.8321 - sparse_categorical_accuracy: 0.7557 - val_loss: 0.7522 - val_sparse_categorical_accuracy: 0.7737 - lr: 1.0000e-04\n",
      "Epoch 5/100\n",
      "2652/2652 [==============================] - 39s 15ms/step - loss: 0.7136 - sparse_categorical_accuracy: 0.7883 - val_loss: 0.6406 - val_sparse_categorical_accuracy: 0.8052 - lr: 1.0000e-04\n",
      "Epoch 6/100\n",
      "2652/2652 [==============================] - 34s 13ms/step - loss: 0.6323 - sparse_categorical_accuracy: 0.8105 - val_loss: 0.5618 - val_sparse_categorical_accuracy: 0.8323 - lr: 1.0000e-04\n",
      "Epoch 7/100\n",
      "2652/2652 [==============================] - 52s 20ms/step - loss: 0.5694 - sparse_categorical_accuracy: 0.8287 - val_loss: 0.5344 - val_sparse_categorical_accuracy: 0.8406 - lr: 1.0000e-04\n",
      "Epoch 8/100\n",
      "2652/2652 [==============================] - 40s 15ms/step - loss: 0.5266 - sparse_categorical_accuracy: 0.8412 - val_loss: 0.5029 - val_sparse_categorical_accuracy: 0.8511 - lr: 1.0000e-04\n",
      "Epoch 9/100\n",
      "2652/2652 [==============================] - 38s 14ms/step - loss: 0.4854 - sparse_categorical_accuracy: 0.8531 - val_loss: 0.4729 - val_sparse_categorical_accuracy: 0.8616 - lr: 1.0000e-04\n",
      "Epoch 10/100\n",
      "2652/2652 [==============================] - 40s 15ms/step - loss: 0.4513 - sparse_categorical_accuracy: 0.8632 - val_loss: 0.4644 - val_sparse_categorical_accuracy: 0.8578 - lr: 1.0000e-04\n",
      "Epoch 11/100\n",
      "2652/2652 [==============================] - 32s 12ms/step - loss: 0.4255 - sparse_categorical_accuracy: 0.8702 - val_loss: 0.4974 - val_sparse_categorical_accuracy: 0.8578 - lr: 1.0000e-04\n",
      "Epoch 12/100\n",
      "2652/2652 [==============================] - 36s 14ms/step - loss: 0.3983 - sparse_categorical_accuracy: 0.8772 - val_loss: 0.4609 - val_sparse_categorical_accuracy: 0.8641 - lr: 1.0000e-04\n",
      "Epoch 13/100\n",
      "2652/2652 [==============================] - 40s 15ms/step - loss: 0.3754 - sparse_categorical_accuracy: 0.8847 - val_loss: 0.4316 - val_sparse_categorical_accuracy: 0.8699 - lr: 1.0000e-04\n",
      "Epoch 14/100\n",
      "2652/2652 [==============================] - 32s 12ms/step - loss: 0.3534 - sparse_categorical_accuracy: 0.8918 - val_loss: 0.4484 - val_sparse_categorical_accuracy: 0.8703 - lr: 1.0000e-04\n",
      "Epoch 15/100\n",
      "2652/2652 [==============================] - 31s 12ms/step - loss: 0.3352 - sparse_categorical_accuracy: 0.8968 - val_loss: 0.4388 - val_sparse_categorical_accuracy: 0.8726 - lr: 1.0000e-04\n",
      "Epoch 16/100\n",
      "2652/2652 [==============================] - ETA: 0s - loss: 0.3173 - sparse_categorical_accuracy: 0.9017\n",
      "Epoch 16: ReduceLROnPlateau reducing learning rate to 9.999999747378752e-06.\n",
      "2652/2652 [==============================] - 41s 15ms/step - loss: 0.3173 - sparse_categorical_accuracy: 0.9017 - val_loss: 0.4528 - val_sparse_categorical_accuracy: 0.8682 - lr: 1.0000e-04\n",
      "Epoch 17/100\n",
      "2652/2652 [==============================] - 36s 13ms/step - loss: 0.2332 - sparse_categorical_accuracy: 0.9295 - val_loss: 0.3830 - val_sparse_categorical_accuracy: 0.8924 - lr: 1.0000e-05\n",
      "Epoch 18/100\n",
      "2652/2652 [==============================] - 33s 13ms/step - loss: 0.2156 - sparse_categorical_accuracy: 0.9355 - val_loss: 0.3852 - val_sparse_categorical_accuracy: 0.8920 - lr: 1.0000e-05\n",
      "Epoch 19/100\n",
      "2652/2652 [==============================] - 32s 12ms/step - loss: 0.2093 - sparse_categorical_accuracy: 0.9388 - val_loss: 0.3843 - val_sparse_categorical_accuracy: 0.8932 - lr: 1.0000e-05\n",
      "Epoch 20/100\n",
      "2651/2652 [============================>.] - ETA: 0s - loss: 0.2044 - sparse_categorical_accuracy: 0.9392\n",
      "Epoch 20: ReduceLROnPlateau reducing learning rate to 9.999999747378752e-07.\n",
      "2652/2652 [==============================] - 32s 12ms/step - loss: 0.2044 - sparse_categorical_accuracy: 0.9392 - val_loss: 0.3878 - val_sparse_categorical_accuracy: 0.8923 - lr: 1.0000e-05\n",
      "Epoch 21/100\n",
      "2652/2652 [==============================] - 31s 12ms/step - loss: 0.1935 - sparse_categorical_accuracy: 0.9439 - val_loss: 0.3867 - val_sparse_categorical_accuracy: 0.8919 - lr: 1.0000e-06\n",
      "Epoch 22/100\n",
      "2652/2652 [==============================] - 31s 12ms/step - loss: 0.1914 - sparse_categorical_accuracy: 0.9435 - val_loss: 0.3858 - val_sparse_categorical_accuracy: 0.8918 - lr: 1.0000e-06\n",
      "Epoch 23/100\n",
      "2650/2652 [============================>.] - ETA: 0s - loss: 0.1917 - sparse_categorical_accuracy: 0.9433\n",
      "Epoch 23: ReduceLROnPlateau reducing learning rate to 9.999999974752428e-08.\n",
      "2652/2652 [==============================] - 31s 12ms/step - loss: 0.1916 - sparse_categorical_accuracy: 0.9433 - val_loss: 0.3853 - val_sparse_categorical_accuracy: 0.8931 - lr: 1.0000e-06\n",
      "Epoch 24/100\n",
      "2652/2652 [==============================] - 31s 12ms/step - loss: 0.1905 - sparse_categorical_accuracy: 0.9440 - val_loss: 0.3854 - val_sparse_categorical_accuracy: 0.8925 - lr: 1.0000e-07\n",
      "Epoch 25/100\n",
      "2652/2652 [==============================] - 36s 13ms/step - loss: 0.1884 - sparse_categorical_accuracy: 0.9452 - val_loss: 0.3854 - val_sparse_categorical_accuracy: 0.8924 - lr: 1.0000e-07\n",
      "Epoch 26/100\n",
      "2650/2652 [============================>.] - ETA: 0s - loss: 0.1898 - sparse_categorical_accuracy: 0.9446\n",
      "Epoch 26: ReduceLROnPlateau reducing learning rate to 1.0000000116860975e-08.\n",
      "2652/2652 [==============================] - 32s 12ms/step - loss: 0.1897 - sparse_categorical_accuracy: 0.9446 - val_loss: 0.3855 - val_sparse_categorical_accuracy: 0.8926 - lr: 1.0000e-07\n",
      "Epoch 27/100\n",
      "2652/2652 [==============================] - 32s 12ms/step - loss: 0.1892 - sparse_categorical_accuracy: 0.9452 - val_loss: 0.3853 - val_sparse_categorical_accuracy: 0.8931 - lr: 1.0000e-08\n"
     ]
    }
   ],
   "source": [
    "num_epochs = 100\n",
    "\n",
    "early_stopping   = EarlyStopping(monitor='val_loss', patience=10)\n",
    "reduce_LR        = ReduceLROnPlateau(monitor='val_loss', factor=0.1, patience=3, verbose=1)\n",
    "model_checkpoint = ModelCheckpoint(f'trained_models/{model_name}.h5', monitor='val_loss', save_best_only=True)\n",
    "\n",
    "history = model.fit(\n",
    "                train_dataset,\n",
    "                epochs=num_epochs,\n",
    "                steps_per_epoch=train_steps,\n",
    "                validation_data=val_dataset,\n",
    "                validation_steps=val_steps,\n",
    "                callbacks=[early_stopping, reduce_LR, model_checkpoint],\n",
    "                verbose=1\n",
    "                )"
   ]
  },
  {
   "cell_type": "code",
   "execution_count": 31,
   "metadata": {
    "colab": {
     "base_uri": "https://localhost:8080/",
     "height": 819
    },
    "execution": {
     "iopub.execute_input": "2023-01-26T21:14:21.907894Z",
     "iopub.status.busy": "2023-01-26T21:14:21.907627Z",
     "iopub.status.idle": "2023-01-26T21:14:21.919823Z",
     "shell.execute_reply": "2023-01-26T21:14:21.919349Z",
     "shell.execute_reply.started": "2023-01-26T21:14:21.907876Z"
    },
    "id": "g6xpCJ7Tgu2f",
    "outputId": "73cd19ea-1826-4786-e53d-ada84616ea1a"
   },
   "outputs": [
    {
     "name": "stdout",
     "output_type": "stream",
     "text": [
      "Training history:\n"
     ]
    },
    {
     "data": {
      "text/html": [
       "<div>\n",
       "<style scoped>\n",
       "    .dataframe tbody tr th:only-of-type {\n",
       "        vertical-align: middle;\n",
       "    }\n",
       "\n",
       "    .dataframe tbody tr th {\n",
       "        vertical-align: top;\n",
       "    }\n",
       "\n",
       "    .dataframe thead th {\n",
       "        text-align: right;\n",
       "    }\n",
       "</style>\n",
       "<table border=\"1\" class=\"dataframe\">\n",
       "  <thead>\n",
       "    <tr style=\"text-align: right;\">\n",
       "      <th></th>\n",
       "      <th>loss</th>\n",
       "      <th>sparse_categorical_accuracy</th>\n",
       "      <th>val_loss</th>\n",
       "      <th>val_sparse_categorical_accuracy</th>\n",
       "      <th>lr</th>\n",
       "    </tr>\n",
       "  </thead>\n",
       "  <tbody>\n",
       "    <tr>\n",
       "      <th>0</th>\n",
       "      <td>2.539878</td>\n",
       "      <td>0.293741</td>\n",
       "      <td>1.609006</td>\n",
       "      <td>0.533654</td>\n",
       "      <td>1.000000e-04</td>\n",
       "    </tr>\n",
       "    <tr>\n",
       "      <th>1</th>\n",
       "      <td>1.386816</td>\n",
       "      <td>0.599359</td>\n",
       "      <td>1.007731</td>\n",
       "      <td>0.705829</td>\n",
       "      <td>1.000000e-04</td>\n",
       "    </tr>\n",
       "    <tr>\n",
       "      <th>2</th>\n",
       "      <td>1.016639</td>\n",
       "      <td>0.703443</td>\n",
       "      <td>0.779604</td>\n",
       "      <td>0.770333</td>\n",
       "      <td>1.000000e-04</td>\n",
       "    </tr>\n",
       "    <tr>\n",
       "      <th>3</th>\n",
       "      <td>0.832103</td>\n",
       "      <td>0.755691</td>\n",
       "      <td>0.752220</td>\n",
       "      <td>0.773738</td>\n",
       "      <td>1.000000e-04</td>\n",
       "    </tr>\n",
       "    <tr>\n",
       "      <th>4</th>\n",
       "      <td>0.713571</td>\n",
       "      <td>0.788320</td>\n",
       "      <td>0.640585</td>\n",
       "      <td>0.805188</td>\n",
       "      <td>1.000000e-04</td>\n",
       "    </tr>\n",
       "    <tr>\n",
       "      <th>5</th>\n",
       "      <td>0.632327</td>\n",
       "      <td>0.810485</td>\n",
       "      <td>0.561768</td>\n",
       "      <td>0.832332</td>\n",
       "      <td>1.000000e-04</td>\n",
       "    </tr>\n",
       "    <tr>\n",
       "      <th>6</th>\n",
       "      <td>0.569445</td>\n",
       "      <td>0.828738</td>\n",
       "      <td>0.534445</td>\n",
       "      <td>0.840645</td>\n",
       "      <td>1.000000e-04</td>\n",
       "    </tr>\n",
       "    <tr>\n",
       "      <th>7</th>\n",
       "      <td>0.526616</td>\n",
       "      <td>0.841240</td>\n",
       "      <td>0.502872</td>\n",
       "      <td>0.851062</td>\n",
       "      <td>1.000000e-04</td>\n",
       "    </tr>\n",
       "    <tr>\n",
       "      <th>8</th>\n",
       "      <td>0.485371</td>\n",
       "      <td>0.853106</td>\n",
       "      <td>0.472932</td>\n",
       "      <td>0.861579</td>\n",
       "      <td>1.000000e-04</td>\n",
       "    </tr>\n",
       "    <tr>\n",
       "      <th>9</th>\n",
       "      <td>0.451288</td>\n",
       "      <td>0.863169</td>\n",
       "      <td>0.464399</td>\n",
       "      <td>0.857772</td>\n",
       "      <td>1.000000e-04</td>\n",
       "    </tr>\n",
       "    <tr>\n",
       "      <th>10</th>\n",
       "      <td>0.425527</td>\n",
       "      <td>0.870239</td>\n",
       "      <td>0.497389</td>\n",
       "      <td>0.857772</td>\n",
       "      <td>1.000000e-04</td>\n",
       "    </tr>\n",
       "    <tr>\n",
       "      <th>11</th>\n",
       "      <td>0.398262</td>\n",
       "      <td>0.877227</td>\n",
       "      <td>0.460909</td>\n",
       "      <td>0.864083</td>\n",
       "      <td>1.000000e-04</td>\n",
       "    </tr>\n",
       "    <tr>\n",
       "      <th>12</th>\n",
       "      <td>0.375446</td>\n",
       "      <td>0.884698</td>\n",
       "      <td>0.431616</td>\n",
       "      <td>0.869892</td>\n",
       "      <td>1.000000e-04</td>\n",
       "    </tr>\n",
       "    <tr>\n",
       "      <th>13</th>\n",
       "      <td>0.353407</td>\n",
       "      <td>0.891780</td>\n",
       "      <td>0.448422</td>\n",
       "      <td>0.870292</td>\n",
       "      <td>1.000000e-04</td>\n",
       "    </tr>\n",
       "    <tr>\n",
       "      <th>14</th>\n",
       "      <td>0.335179</td>\n",
       "      <td>0.896764</td>\n",
       "      <td>0.438848</td>\n",
       "      <td>0.872596</td>\n",
       "      <td>1.000000e-04</td>\n",
       "    </tr>\n",
       "    <tr>\n",
       "      <th>15</th>\n",
       "      <td>0.317278</td>\n",
       "      <td>0.901713</td>\n",
       "      <td>0.452845</td>\n",
       "      <td>0.868189</td>\n",
       "      <td>1.000000e-04</td>\n",
       "    </tr>\n",
       "    <tr>\n",
       "      <th>16</th>\n",
       "      <td>0.233159</td>\n",
       "      <td>0.929487</td>\n",
       "      <td>0.382980</td>\n",
       "      <td>0.892428</td>\n",
       "      <td>1.000000e-05</td>\n",
       "    </tr>\n",
       "    <tr>\n",
       "      <th>17</th>\n",
       "      <td>0.215601</td>\n",
       "      <td>0.935509</td>\n",
       "      <td>0.385175</td>\n",
       "      <td>0.892027</td>\n",
       "      <td>1.000000e-05</td>\n",
       "    </tr>\n",
       "    <tr>\n",
       "      <th>18</th>\n",
       "      <td>0.209253</td>\n",
       "      <td>0.938773</td>\n",
       "      <td>0.384253</td>\n",
       "      <td>0.893229</td>\n",
       "      <td>1.000000e-05</td>\n",
       "    </tr>\n",
       "    <tr>\n",
       "      <th>19</th>\n",
       "      <td>0.204364</td>\n",
       "      <td>0.939209</td>\n",
       "      <td>0.387842</td>\n",
       "      <td>0.892328</td>\n",
       "      <td>1.000000e-05</td>\n",
       "    </tr>\n",
       "    <tr>\n",
       "      <th>20</th>\n",
       "      <td>0.193511</td>\n",
       "      <td>0.943910</td>\n",
       "      <td>0.386734</td>\n",
       "      <td>0.891927</td>\n",
       "      <td>1.000000e-06</td>\n",
       "    </tr>\n",
       "    <tr>\n",
       "      <th>21</th>\n",
       "      <td>0.191434</td>\n",
       "      <td>0.943462</td>\n",
       "      <td>0.385781</td>\n",
       "      <td>0.891827</td>\n",
       "      <td>1.000000e-06</td>\n",
       "    </tr>\n",
       "    <tr>\n",
       "      <th>22</th>\n",
       "      <td>0.191595</td>\n",
       "      <td>0.943286</td>\n",
       "      <td>0.385280</td>\n",
       "      <td>0.893129</td>\n",
       "      <td>1.000000e-06</td>\n",
       "    </tr>\n",
       "    <tr>\n",
       "      <th>23</th>\n",
       "      <td>0.190474</td>\n",
       "      <td>0.944016</td>\n",
       "      <td>0.385412</td>\n",
       "      <td>0.892528</td>\n",
       "      <td>1.000000e-07</td>\n",
       "    </tr>\n",
       "    <tr>\n",
       "      <th>24</th>\n",
       "      <td>0.188357</td>\n",
       "      <td>0.945218</td>\n",
       "      <td>0.385364</td>\n",
       "      <td>0.892428</td>\n",
       "      <td>1.000000e-07</td>\n",
       "    </tr>\n",
       "    <tr>\n",
       "      <th>25</th>\n",
       "      <td>0.189737</td>\n",
       "      <td>0.944617</td>\n",
       "      <td>0.385514</td>\n",
       "      <td>0.892628</td>\n",
       "      <td>1.000000e-07</td>\n",
       "    </tr>\n",
       "    <tr>\n",
       "      <th>26</th>\n",
       "      <td>0.189201</td>\n",
       "      <td>0.945171</td>\n",
       "      <td>0.385262</td>\n",
       "      <td>0.893129</td>\n",
       "      <td>1.000000e-08</td>\n",
       "    </tr>\n",
       "  </tbody>\n",
       "</table>\n",
       "</div>"
      ],
      "text/plain": [
       "        loss  sparse_categorical_accuracy  val_loss  \\\n",
       "0   2.539878                     0.293741  1.609006   \n",
       "1   1.386816                     0.599359  1.007731   \n",
       "2   1.016639                     0.703443  0.779604   \n",
       "3   0.832103                     0.755691  0.752220   \n",
       "4   0.713571                     0.788320  0.640585   \n",
       "5   0.632327                     0.810485  0.561768   \n",
       "6   0.569445                     0.828738  0.534445   \n",
       "7   0.526616                     0.841240  0.502872   \n",
       "8   0.485371                     0.853106  0.472932   \n",
       "9   0.451288                     0.863169  0.464399   \n",
       "10  0.425527                     0.870239  0.497389   \n",
       "11  0.398262                     0.877227  0.460909   \n",
       "12  0.375446                     0.884698  0.431616   \n",
       "13  0.353407                     0.891780  0.448422   \n",
       "14  0.335179                     0.896764  0.438848   \n",
       "15  0.317278                     0.901713  0.452845   \n",
       "16  0.233159                     0.929487  0.382980   \n",
       "17  0.215601                     0.935509  0.385175   \n",
       "18  0.209253                     0.938773  0.384253   \n",
       "19  0.204364                     0.939209  0.387842   \n",
       "20  0.193511                     0.943910  0.386734   \n",
       "21  0.191434                     0.943462  0.385781   \n",
       "22  0.191595                     0.943286  0.385280   \n",
       "23  0.190474                     0.944016  0.385412   \n",
       "24  0.188357                     0.945218  0.385364   \n",
       "25  0.189737                     0.944617  0.385514   \n",
       "26  0.189201                     0.945171  0.385262   \n",
       "\n",
       "    val_sparse_categorical_accuracy            lr  \n",
       "0                          0.533654  1.000000e-04  \n",
       "1                          0.705829  1.000000e-04  \n",
       "2                          0.770333  1.000000e-04  \n",
       "3                          0.773738  1.000000e-04  \n",
       "4                          0.805188  1.000000e-04  \n",
       "5                          0.832332  1.000000e-04  \n",
       "6                          0.840645  1.000000e-04  \n",
       "7                          0.851062  1.000000e-04  \n",
       "8                          0.861579  1.000000e-04  \n",
       "9                          0.857772  1.000000e-04  \n",
       "10                         0.857772  1.000000e-04  \n",
       "11                         0.864083  1.000000e-04  \n",
       "12                         0.869892  1.000000e-04  \n",
       "13                         0.870292  1.000000e-04  \n",
       "14                         0.872596  1.000000e-04  \n",
       "15                         0.868189  1.000000e-04  \n",
       "16                         0.892428  1.000000e-05  \n",
       "17                         0.892027  1.000000e-05  \n",
       "18                         0.893229  1.000000e-05  \n",
       "19                         0.892328  1.000000e-05  \n",
       "20                         0.891927  1.000000e-06  \n",
       "21                         0.891827  1.000000e-06  \n",
       "22                         0.893129  1.000000e-06  \n",
       "23                         0.892528  1.000000e-07  \n",
       "24                         0.892428  1.000000e-07  \n",
       "25                         0.892628  1.000000e-07  \n",
       "26                         0.893129  1.000000e-08  "
      ]
     },
     "execution_count": 31,
     "metadata": {},
     "output_type": "execute_result"
    }
   ],
   "source": [
    "print('Training history:')\n",
    "pd.DataFrame(history.history)"
   ]
  },
  {
   "cell_type": "code",
   "execution_count": 32,
   "metadata": {
    "colab": {
     "base_uri": "https://localhost:8080/",
     "height": 725
    },
    "execution": {
     "iopub.execute_input": "2023-01-26T21:14:26.845367Z",
     "iopub.status.busy": "2023-01-26T21:14:26.844765Z",
     "iopub.status.idle": "2023-01-26T21:15:12.442400Z",
     "shell.execute_reply": "2023-01-26T21:15:12.441711Z",
     "shell.execute_reply.started": "2023-01-26T21:14:26.845346Z"
    },
    "id": "B3Lq3SY4gu3J",
    "outputId": "d1987fc5-ac27-4d22-8617-6e427c9f86ab"
   },
   "outputs": [
    {
     "data": {
      "image/png": "[encoded data removed]",
      "text/plain": [
       "<Figure size 576x720 with 2 Axes>"
      ]
     },
     "metadata": {
      "needs_background": "light"
     },
     "output_type": "display_data"
    }
   ],
   "source": [
    "plot_utils.plot_history(history, columns=['loss', 'sparse_categorical_accuracy'])"
   ]
  },
  {
   "cell_type": "markdown",
   "metadata": {
    "id": "R9R3FIblgu3O"
   },
   "source": [
    "Uncomment the cell below to save the trained model."
   ]
  },
  {
   "cell_type": "code",
   "execution_count": 33,
   "metadata": {
    "colab": {
     "base_uri": "https://localhost:8080/",
     "height": 34
    },
    "execution": {
     "iopub.execute_input": "2023-01-26T21:15:28.567079Z",
     "iopub.status.busy": "2023-01-26T21:15:28.566800Z",
     "iopub.status.idle": "2023-01-26T21:15:33.174561Z",
     "shell.execute_reply": "2023-01-26T21:15:33.173860Z",
     "shell.execute_reply.started": "2023-01-26T21:15:28.567058Z"
    },
    "id": "DhUE4Zc6gu3P",
    "outputId": "e8491376-e833-46ad-d83a-23e62d9de32d"
   },
   "outputs": [],
   "source": [
    "model.save(f'trained_models/{model_name}.h5')"
   ]
  },
  {
   "cell_type": "markdown",
   "metadata": {
    "id": "GqXQhhpvgu5P"
   },
   "source": [
    "### 3.3 - Validation metrics\n",
    "Since the dataset is unbalanced (see histograms in section 1.4) and we have more than 2 classes, the accuracy is not a good metric. To have a good understanding of the classifier performance we must rely on other metrics.  \n",
    "\n",
    "First we compute the output of the network for all data in the test set. To obtain it use:\n",
    "```python \n",
    "    model.predict(test_dataset, steps=test_steps)[:len(test_labels)].squeeze()\n",
    "```\n",
    "This is needed because the elements in `[len(val_labels):]` are not part of the dataset, but they are just added to complete the batch. \n",
    "\n",
    "Then we get the predicted label by computing the $argmax$ over the output of the network, for each input data. This is motivated by the fact that there are as many neurons as labels in the last layer of the network and we used the softmax activation function. "
   ]
  },
  {
   "cell_type": "code",
   "execution_count": 34,
   "metadata": {
    "colab": {
     "base_uri": "https://localhost:8080/",
     "height": 1000
    },
    "execution": {
     "iopub.execute_input": "2023-01-26T21:15:43.340985Z",
     "iopub.status.busy": "2023-01-26T21:15:43.340439Z",
     "iopub.status.idle": "2023-01-26T21:17:25.102140Z",
     "shell.execute_reply": "2023-01-26T21:17:25.101490Z",
     "shell.execute_reply.started": "2023-01-26T21:15:43.340961Z"
    },
    "id": "d9qSfMZlgu5U",
    "outputId": "e03cd433-b338-4703-95e0-534ecdee0c10"
   },
   "outputs": [
    {
     "name": "stdout",
     "output_type": "stream",
     "text": [
      "343/344 [============================>.] - ETA: 0s"
     ]
    },
    {
     "name": "stderr",
     "output_type": "stream",
     "text": [
      "2023-01-26 21:17:11.019223: W tensorflow/core/kernels/data/cache_dataset_ops.cc:296] The calling iterator did not fully read the dataset being cached. In order to avoid unexpected truncation of the dataset, the partially cached contents of the dataset  will be discarded. This can happen if you have an input pipeline similar to `dataset.cache().take(k).repeat()`. You should use `dataset.take(k).cache().repeat()` instead.\n"
     ]
    },
    {
     "name": "stdout",
     "output_type": "stream",
     "text": [
      "344/344 [==============================] - 99s 287ms/step\n"
     ]
    },
    {
     "data": {
      "image/png": "[encoded data removed]",
      "text/plain": [
       "<Figure size 1512x1296 with 2 Axes>"
      ]
     },
     "metadata": {
      "needs_background": "light"
     },
     "output_type": "display_data"
    }
   ],
   "source": [
    "# true labels\n",
    "y_true = reference_df_test['class'].tolist()\n",
    "\n",
    "# get predictions for test set\n",
    "test_pred = model.predict(test_dataset, steps=test_steps, verbose=1)[:len(y_true)].squeeze()\n",
    "\n",
    "# predicted labels\n",
    "y_pred = np.argmax(test_pred, axis=1)\n",
    "\n",
    "# plot confusion matrix\n",
    "cm = confusion_matrix(y_pred, y_true)\n",
    "plot_utils.plot_confusion_matrix(cm, labels=commands, normalize=True, saveit=False, model_name='')"
   ]
  },
  {
   "cell_type": "code",
   "execution_count": 35,
   "metadata": {
    "colab": {
     "base_uri": "https://localhost:8080/",
     "height": 81
    },
    "execution": {
     "iopub.execute_input": "2023-01-26T21:17:25.103516Z",
     "iopub.status.busy": "2023-01-26T21:17:25.103317Z",
     "iopub.status.idle": "2023-01-26T21:17:25.139932Z",
     "shell.execute_reply": "2023-01-26T21:17:25.139315Z",
     "shell.execute_reply.started": "2023-01-26T21:17:25.103501Z"
    },
    "id": "NPE9Z35Xgu70",
    "outputId": "4bc88640-05e8-4660-8ffa-3c1916a1f600"
   },
   "outputs": [
    {
     "data": {
      "text/html": [
       "<div>\n",
       "<style scoped>\n",
       "    .dataframe tbody tr th:only-of-type {\n",
       "        vertical-align: middle;\n",
       "    }\n",
       "\n",
       "    .dataframe tbody tr th {\n",
       "        vertical-align: top;\n",
       "    }\n",
       "\n",
       "    .dataframe thead th {\n",
       "        text-align: right;\n",
       "    }\n",
       "</style>\n",
       "<table border=\"1\" class=\"dataframe\">\n",
       "  <thead>\n",
       "    <tr style=\"text-align: right;\">\n",
       "      <th></th>\n",
       "      <th>precision</th>\n",
       "      <th>recall</th>\n",
       "      <th>f1-score</th>\n",
       "      <th>accuracy</th>\n",
       "      <th>cross-entropy</th>\n",
       "      <th>Cohen-Kappa</th>\n",
       "    </tr>\n",
       "  </thead>\n",
       "  <tbody>\n",
       "    <tr>\n",
       "      <th>0</th>\n",
       "      <td>0.8846</td>\n",
       "      <td>0.884</td>\n",
       "      <td>0.8841</td>\n",
       "      <td>0.884</td>\n",
       "      <td>0.4185</td>\n",
       "      <td>0.8801</td>\n",
       "    </tr>\n",
       "  </tbody>\n",
       "</table>\n",
       "</div>"
      ],
      "text/plain": [
       "   precision  recall  f1-score  accuracy  cross-entropy  Cohen-Kappa\n",
       "0     0.8846   0.884    0.8841     0.884         0.4185       0.8801"
      ]
     },
     "metadata": {},
     "output_type": "display_data"
    }
   ],
   "source": [
    "def class_report(y_true, y_pred):\n",
    "    precision_macro,    recall_macro,    fscore_macro,    _ = precision_recall_fscore_support(y_true=y_true, y_pred=y_pred, average='macro')\n",
    "    precision_micro,    recall_micro,    fscore_micro,    _ = precision_recall_fscore_support(y_true=y_true, y_pred=y_pred, average='micro')\n",
    "    precision_weighted, recall_weighted, fscore_weighted, _ = precision_recall_fscore_support(y_true=y_true, y_pred=y_pred, average='weighted')\n",
    "    \n",
    "    df_report = pd.DataFrame(\n",
    "        {\n",
    "            'precision': [precision_macro, precision_micro, precision_weighted],\n",
    "            'recall': [recall_macro, recall_micro, recall_weighted],\n",
    "            'f1-score': [fscore_macro, fscore_micro, fscore_weighted]\n",
    "        }, \n",
    "        index=['macro', 'micro', 'weighted']\n",
    "    )\n",
    "    \n",
    "    return df_report\n",
    "\n",
    "# get metrics and display them \n",
    "accuracy = accuracy_score(y_true=y_true, y_pred=y_pred)\n",
    "logloss  = log_loss(y_true, test_pred, labels=np.arange(35))\n",
    "cohen_k  = cohen_kappa_score(y_true, y_pred)\n",
    "\n",
    "# print('Accuracy:      {:.2f}%'.format(accuracy*100))\n",
    "# print('Error rate:    {:.2f}%'.format((1-accuracy)*100))\n",
    "# print('Cross-entropy: {:.4f}'.format(logloss))\n",
    "# print(\"Cohen's Kappa: {:.4f}\".format(cohen_k))\n",
    "\n",
    "cr = class_report(y_true, y_pred)\n",
    "weighted_metrics = cr.iloc[-1].tolist()\n",
    "\n",
    "df_metrics_modified = pd.DataFrame(\n",
    "    [weighted_metrics + [accuracy, logloss, cohen_k]], \n",
    "    columns = ['precision', 'recall', 'f1-score', 'accuracy', 'cross-entropy', 'Cohen-Kappa'], \n",
    ")\n",
    "\n",
    "display(df_metrics_modified.round(4))"
   ]
  },
  {
   "cell_type": "markdown",
   "metadata": {
    "id": "pAzYaBq6avvO"
   },
   "source": [
    "## 4 - Hyperparameter tuning: Bayesian optimization with KerasTuner"
   ]
  },
  {
   "cell_type": "markdown",
   "metadata": {
    "id": "1dp116A5gu1c"
   },
   "source": [
    "### 4.1 - Import for BO"
   ]
  },
  {
   "cell_type": "code",
   "execution_count": 36,
   "metadata": {
    "colab": {
     "base_uri": "https://localhost:8080/"
    },
    "execution": {
     "iopub.execute_input": "2023-01-26T21:18:21.182133Z",
     "iopub.status.busy": "2023-01-26T21:18:21.181546Z",
     "iopub.status.idle": "2023-01-26T21:18:23.847627Z",
     "shell.execute_reply": "2023-01-26T21:18:23.846937Z",
     "shell.execute_reply.started": "2023-01-26T21:18:21.182105Z"
    },
    "id": "IavVFHif1vRL",
    "outputId": "d300c548-e70b-40f4-f833-00919fee0226"
   },
   "outputs": [
    {
     "name": "stdout",
     "output_type": "stream",
     "text": [
      "Collecting keras-tuner\n",
      "  Downloading keras_tuner-1.1.3-py3-none-any.whl (135 kB)\n",
      "\u001b[2K     \u001b[90m━━━━━━━━━━━━━━━━━━━━━━━━━━━━━━━━━━━━━━\u001b[0m \u001b[32m135.7/135.7 kB\u001b[0m \u001b[31m21.6 MB/s\u001b[0m eta \u001b[36m0:00:00\u001b[0m\n",
      "\u001b[?25hRequirement already satisfied: packaging in /usr/local/lib/python3.9/dist-packages (from keras-tuner) (21.3)\n",
      "Requirement already satisfied: ipython in /usr/local/lib/python3.9/dist-packages (from keras-tuner) (8.4.0)\n",
      "Requirement already satisfied: tensorboard in /usr/local/lib/python3.9/dist-packages (from keras-tuner) (2.9.1)\n",
      "Collecting kt-legacy\n",
      "  Downloading kt_legacy-1.0.4-py3-none-any.whl (9.6 kB)\n",
      "Requirement already satisfied: requests in /usr/local/lib/python3.9/dist-packages (from keras-tuner) (2.28.1)\n",
      "Requirement already satisfied: numpy in /usr/local/lib/python3.9/dist-packages (from keras-tuner) (1.23.1)\n",
      "Requirement already satisfied: pickleshare in /usr/local/lib/python3.9/dist-packages (from ipython->keras-tuner) (0.7.5)\n",
      "Requirement already satisfied: prompt-toolkit!=3.0.0,!=3.0.1,<3.1.0,>=2.0.0 in /usr/local/lib/python3.9/dist-packages (from ipython->keras-tuner) (3.0.30)\n",
      "Requirement already satisfied: matplotlib-inline in /usr/local/lib/python3.9/dist-packages (from ipython->keras-tuner) (0.1.3)\n",
      "Requirement already satisfied: pexpect>4.3 in /usr/local/lib/python3.9/dist-packages (from ipython->keras-tuner) (4.8.0)\n",
      "Requirement already satisfied: traitlets>=5 in /usr/local/lib/python3.9/dist-packages (from ipython->keras-tuner) (5.3.0)\n",
      "Requirement already satisfied: pygments>=2.4.0 in /usr/local/lib/python3.9/dist-packages (from ipython->keras-tuner) (2.12.0)\n",
      "Requirement already satisfied: jedi>=0.16 in /usr/local/lib/python3.9/dist-packages (from ipython->keras-tuner) (0.18.1)\n",
      "Requirement already satisfied: setuptools>=18.5 in /usr/local/lib/python3.9/dist-packages (from ipython->keras-tuner) (63.1.0)\n",
      "Requirement already satisfied: stack-data in /usr/local/lib/python3.9/dist-packages (from ipython->keras-tuner) (0.3.0)\n",
      "Requirement already satisfied: backcall in /usr/local/lib/python3.9/dist-packages (from ipython->keras-tuner) (0.2.0)\n",
      "Requirement already satisfied: decorator in /usr/local/lib/python3.9/dist-packages (from ipython->keras-tuner) (5.1.1)\n",
      "Requirement already satisfied: pyparsing!=3.0.5,>=2.0.2 in /usr/local/lib/python3.9/dist-packages (from packaging->keras-tuner) (3.0.9)\n",
      "Requirement already satisfied: idna<4,>=2.5 in /usr/lib/python3/dist-packages (from requests->keras-tuner) (2.8)\n",
      "Requirement already satisfied: charset-normalizer<3,>=2 in /usr/local/lib/python3.9/dist-packages (from requests->keras-tuner) (2.1.0)\n",
      "Requirement already satisfied: certifi>=2017.4.17 in /usr/lib/python3/dist-packages (from requests->keras-tuner) (2019.11.28)\n",
      "Requirement already satisfied: urllib3<1.27,>=1.21.1 in /usr/local/lib/python3.9/dist-packages (from requests->keras-tuner) (1.26.10)\n",
      "Requirement already satisfied: grpcio>=1.24.3 in /usr/local/lib/python3.9/dist-packages (from tensorboard->keras-tuner) (1.47.0)\n",
      "Requirement already satisfied: google-auth-oauthlib<0.5,>=0.4.1 in /usr/local/lib/python3.9/dist-packages (from tensorboard->keras-tuner) (0.4.6)\n",
      "Requirement already satisfied: absl-py>=0.4 in /usr/local/lib/python3.9/dist-packages (from tensorboard->keras-tuner) (1.1.0)\n",
      "Requirement already satisfied: protobuf<3.20,>=3.9.2 in /usr/local/lib/python3.9/dist-packages (from tensorboard->keras-tuner) (3.19.4)\n",
      "Requirement already satisfied: markdown>=2.6.8 in /usr/local/lib/python3.9/dist-packages (from tensorboard->keras-tuner) (3.3.7)\n",
      "Requirement already satisfied: tensorboard-data-server<0.7.0,>=0.6.0 in /usr/local/lib/python3.9/dist-packages (from tensorboard->keras-tuner) (0.6.1)\n",
      "Requirement already satisfied: google-auth<3,>=1.6.3 in /usr/local/lib/python3.9/dist-packages (from tensorboard->keras-tuner) (2.9.0)\n",
      "Requirement already satisfied: tensorboard-plugin-wit>=1.6.0 in /usr/local/lib/python3.9/dist-packages (from tensorboard->keras-tuner) (1.8.1)\n",
      "Requirement already satisfied: wheel>=0.26 in /usr/local/lib/python3.9/dist-packages (from tensorboard->keras-tuner) (0.35.1)\n",
      "Requirement already satisfied: werkzeug>=1.0.1 in /usr/local/lib/python3.9/dist-packages (from tensorboard->keras-tuner) (2.1.2)\n",
      "Requirement already satisfied: six>=1.9.0 in /usr/local/lib/python3.9/dist-packages (from google-auth<3,>=1.6.3->tensorboard->keras-tuner) (1.16.0)\n",
      "Requirement already satisfied: rsa<5,>=3.1.4 in /usr/lib/python3/dist-packages (from google-auth<3,>=1.6.3->tensorboard->keras-tuner) (4.0)\n",
      "Requirement already satisfied: cachetools<6.0,>=2.0.0 in /usr/local/lib/python3.9/dist-packages (from google-auth<3,>=1.6.3->tensorboard->keras-tuner) (5.2.0)\n",
      "Requirement already satisfied: pyasn1-modules>=0.2.1 in /usr/local/lib/python3.9/dist-packages (from google-auth<3,>=1.6.3->tensorboard->keras-tuner) (0.2.8)\n",
      "Requirement already satisfied: requests-oauthlib>=0.7.0 in /usr/local/lib/python3.9/dist-packages (from google-auth-oauthlib<0.5,>=0.4.1->tensorboard->keras-tuner) (1.3.1)\n",
      "Requirement already satisfied: parso<0.9.0,>=0.8.0 in /usr/local/lib/python3.9/dist-packages (from jedi>=0.16->ipython->keras-tuner) (0.8.3)\n",
      "Requirement already satisfied: importlib-metadata>=4.4 in /usr/local/lib/python3.9/dist-packages (from markdown>=2.6.8->tensorboard->keras-tuner) (4.12.0)\n",
      "Requirement already satisfied: ptyprocess>=0.5 in /usr/local/lib/python3.9/dist-packages (from pexpect>4.3->ipython->keras-tuner) (0.7.0)\n",
      "Requirement already satisfied: wcwidth in /usr/local/lib/python3.9/dist-packages (from prompt-toolkit!=3.0.0,!=3.0.1,<3.1.0,>=2.0.0->ipython->keras-tuner) (0.2.5)\n",
      "Requirement already satisfied: executing in /usr/local/lib/python3.9/dist-packages (from stack-data->ipython->keras-tuner) (0.8.3)\n",
      "Requirement already satisfied: pure-eval in /usr/local/lib/python3.9/dist-packages (from stack-data->ipython->keras-tuner) (0.2.2)\n",
      "Requirement already satisfied: asttokens in /usr/local/lib/python3.9/dist-packages (from stack-data->ipython->keras-tuner) (2.0.5)\n",
      "Requirement already satisfied: zipp>=0.5 in /usr/local/lib/python3.9/dist-packages (from importlib-metadata>=4.4->markdown>=2.6.8->tensorboard->keras-tuner) (3.8.1)\n",
      "Requirement already satisfied: pyasn1<0.5.0,>=0.4.6 in /usr/local/lib/python3.9/dist-packages (from pyasn1-modules>=0.2.1->google-auth<3,>=1.6.3->tensorboard->keras-tuner) (0.4.8)\n",
      "Requirement already satisfied: oauthlib>=3.0.0 in /usr/local/lib/python3.9/dist-packages (from requests-oauthlib>=0.7.0->google-auth-oauthlib<0.5,>=0.4.1->tensorboard->keras-tuner) (3.2.0)\n",
      "Installing collected packages: kt-legacy, keras-tuner\n",
      "Successfully installed keras-tuner-1.1.3 kt-legacy-1.0.4\n",
      "\u001b[33mWARNING: Running pip as the 'root' user can result in broken permissions and conflicting behaviour with the system package manager. It is recommended to use a virtual environment instead: https://pip.pypa.io/warnings/venv\u001b[0m\u001b[33m\n",
      "\u001b[0m"
     ]
    }
   ],
   "source": [
    "! pip install keras-tuner\n",
    "\n",
    "import keras_tuner"
   ]
  },
  {
   "cell_type": "markdown",
   "metadata": {
    "id": "tXtyU_GnWTzg"
   },
   "source": [
    "### 4.2 - Define the search space"
   ]
  },
  {
   "cell_type": "code",
   "execution_count": 37,
   "metadata": {
    "execution": {
     "iopub.execute_input": "2023-01-26T21:18:35.653854Z",
     "iopub.status.busy": "2023-01-26T21:18:35.653560Z",
     "iopub.status.idle": "2023-01-26T21:18:35.657387Z",
     "shell.execute_reply": "2023-01-26T21:18:35.656798Z",
     "shell.execute_reply.started": "2023-01-26T21:18:35.653830Z"
    }
   },
   "outputs": [],
   "source": [
    "input_shape     = features_to_input[features_to_extract]\n",
    "num_blocks      = 1 # number of conformer blocks\n",
    "pooling         = 'avg'\n",
    "output_shape    = 35\n",
    "final_activation = 'softmax'"
   ]
  },
  {
   "cell_type": "code",
   "execution_count": 38,
   "metadata": {
    "execution": {
     "iopub.execute_input": "2023-01-26T21:18:42.913551Z",
     "iopub.status.busy": "2023-01-26T21:18:42.913274Z",
     "iopub.status.idle": "2023-01-26T21:18:43.198403Z",
     "shell.execute_reply": "2023-01-26T21:18:43.197634Z",
     "shell.execute_reply.started": "2023-01-26T21:18:42.913531Z"
    }
   },
   "outputs": [
    {
     "data": {
      "text/plain": [
       "<keras.engine.functional.Functional at 0x7f0f2f585520>"
      ]
     },
     "execution_count": 38,
     "metadata": {},
     "output_type": "execute_result"
    }
   ],
   "source": [
    "def build_model(hp):\n",
    "\n",
    "    # search space\n",
    "    sub_filters      = hp.Int(\"sub_filters\",      128, 144, step=2) # 'sub_filters' must be even\n",
    "    sub_kernel_size = hp.Int(\"sub_kernel_size\",   2,   4)\n",
    "    sub_strides     = hp.Int(\"sub_strides\",       1,   2)\n",
    "    head_size       = hp.Int(\"head_size\",        16,  32)\n",
    "    num_heads       = hp.Int(\"num_heads\",         2,   6)\n",
    "    kernel_size     = hp.Int(\"kernel_size\",       2,  32)\n",
    "    dropout         = hp.Float(\"dropout\",        .1,  .5)\n",
    "    \n",
    "    # call existing model-building code with the hyperparameter values\n",
    "    model = conformer(\n",
    "                    input_shape,\n",
    "                    pooling,\n",
    "                    output_shape,\n",
    "                    final_activation,\n",
    "                    num_blocks  = num_blocks,\n",
    "                    dmodel      = sub_filters,\n",
    "                    head_size   = head_size,\n",
    "                    num_heads   = num_heads,\n",
    "                    kernel_size = kernel_size,\n",
    "                    dropout     = dropout,\n",
    "                    subsampling = {\n",
    "                                'type'        : 'conv2d',\n",
    "                                'filters'      : sub_filters,\n",
    "                                'kernel_size' : sub_kernel_size,\n",
    "                                'strides'     : sub_strides\n",
    "                                },\n",
    "                    )\n",
    "    \n",
    "    model.compile(\n",
    "                optimizer = Adam(learning_rate=1e-4, beta_1=0.9, beta_2=0.98, epsilon=1e-9),\n",
    "                loss      = \"sparse_categorical_crossentropy\",\n",
    "                metrics   = \"sparse_categorical_accuracy\"\n",
    "                )\n",
    "    \n",
    "    return model\n",
    "\n",
    "build_model(keras_tuner.HyperParameters())"
   ]
  },
  {
   "cell_type": "markdown",
   "metadata": {},
   "source": [
    "### 4.3 - Start the search"
   ]
  },
  {
   "cell_type": "code",
   "execution_count": 39,
   "metadata": {
    "execution": {
     "iopub.execute_input": "2023-01-26T21:19:05.024593Z",
     "iopub.status.busy": "2023-01-26T21:19:05.023935Z",
     "iopub.status.idle": "2023-01-26T21:19:05.455950Z",
     "shell.execute_reply": "2023-01-26T21:19:05.455423Z",
     "shell.execute_reply.started": "2023-01-26T21:19:05.024572Z"
    }
   },
   "outputs": [
    {
     "name": "stdout",
     "output_type": "stream",
     "text": [
      "INFO:tensorflow:Reloading Oracle from existing project keras_tuner/conformer/oracle.json\n",
      "INFO:tensorflow:Reloading Tuner from keras_tuner/conformer/tuner0.json\n",
      "Search space summary\n",
      "Default search space size: 7\n",
      "sub_filters (Int)\n",
      "{'default': None, 'conditions': [], 'min_value': 128, 'max_value': 144, 'step': 2, 'sampling': None}\n",
      "sub_kernel_size (Int)\n",
      "{'default': None, 'conditions': [], 'min_value': 2, 'max_value': 4, 'step': 1, 'sampling': None}\n",
      "sub_strides (Int)\n",
      "{'default': None, 'conditions': [], 'min_value': 1, 'max_value': 2, 'step': 1, 'sampling': None}\n",
      "head_size (Int)\n",
      "{'default': None, 'conditions': [], 'min_value': 16, 'max_value': 32, 'step': 1, 'sampling': None}\n",
      "num_heads (Int)\n",
      "{'default': None, 'conditions': [], 'min_value': 2, 'max_value': 6, 'step': 1, 'sampling': None}\n",
      "kernel_size (Int)\n",
      "{'default': None, 'conditions': [], 'min_value': 2, 'max_value': 32, 'step': 1, 'sampling': None}\n",
      "dropout (Float)\n",
      "{'default': 0.1, 'conditions': [], 'min_value': 0.1, 'max_value': 0.5, 'step': None, 'sampling': None}\n"
     ]
    }
   ],
   "source": [
    "tuner = keras_tuner.BayesianOptimization(\n",
    "    \n",
    "    hypermodel           = build_model,\n",
    "    objective            = \"val_sparse_categorical_accuracy\",\n",
    "    max_trials           = 20,\n",
    "    seed                 = 1,\n",
    "    max_model_size       = 2*10**6,\n",
    "    directory            = \"keras_tuner\",\n",
    "    project_name         = \"conformer\",\n",
    "    overwrite            = False,\n",
    "    executions_per_trial = 1\n",
    "    \n",
    ")\n",
    "\n",
    "tuner.search_space_summary()"
   ]
  },
  {
   "cell_type": "code",
   "execution_count": 40,
   "metadata": {
    "execution": {
     "iopub.execute_input": "2023-01-26T21:19:23.266910Z",
     "iopub.status.busy": "2023-01-26T21:19:23.266376Z",
     "iopub.status.idle": "2023-01-26T21:19:23.271694Z",
     "shell.execute_reply": "2023-01-26T21:19:23.271256Z",
     "shell.execute_reply.started": "2023-01-26T21:19:23.266887Z"
    }
   },
   "outputs": [
    {
     "name": "stdout",
     "output_type": "stream",
     "text": [
      "INFO:tensorflow:Oracle triggered exit\n"
     ]
    }
   ],
   "source": [
    "num_epochs = 100\n",
    "\n",
    "early_stopping = EarlyStopping(monitor='val_loss', patience=5)\n",
    "reduce_LR      = ReduceLROnPlateau(monitor='val_loss', factor=0.1, patience=2, verbose=1)\n",
    "\n",
    "tuner.search(\n",
    "            train_dataset,\n",
    "            epochs=num_epochs,\n",
    "            steps_per_epoch=train_steps,\n",
    "            validation_data=val_dataset,\n",
    "            validation_steps=val_steps,\n",
    "            callbacks=[early_stopping, reduce_LR], \n",
    "            verbose=1\n",
    "            )"
   ]
  },
  {
   "cell_type": "markdown",
   "metadata": {},
   "source": [
    "### 4.4 - Query the results"
   ]
  },
  {
   "cell_type": "code",
   "execution_count": 41,
   "metadata": {
    "execution": {
     "iopub.execute_input": "2023-01-26T21:19:45.393198Z",
     "iopub.status.busy": "2023-01-26T21:19:45.392730Z",
     "iopub.status.idle": "2023-01-26T21:19:45.397273Z",
     "shell.execute_reply": "2023-01-26T21:19:45.396664Z",
     "shell.execute_reply.started": "2023-01-26T21:19:45.393173Z"
    }
   },
   "outputs": [
    {
     "name": "stdout",
     "output_type": "stream",
     "text": [
      "Results summary\n",
      "Results in keras_tuner/conformer\n",
      "Showing 10 best trials\n",
      "<keras_tuner.engine.objective.Objective object at 0x7f0f2f622490>\n",
      "Trial summary\n",
      "Hyperparameters:\n",
      "sub_filters: 144\n",
      "sub_kernel_size: 4\n",
      "sub_strides: 1\n",
      "head_size: 26\n",
      "num_heads: 6\n",
      "kernel_size: 32\n",
      "dropout: 0.1\n",
      "Score: 0.9155648946762085\n",
      "Trial summary\n",
      "Hyperparameters:\n",
      "sub_filters: 144\n",
      "sub_kernel_size: 4\n",
      "sub_strides: 1\n",
      "head_size: 29\n",
      "num_heads: 4\n",
      "kernel_size: 32\n",
      "dropout: 0.1\n",
      "Score: 0.9141626358032227\n",
      "Trial summary\n",
      "Hyperparameters:\n",
      "sub_filters: 142\n",
      "sub_kernel_size: 4\n",
      "sub_strides: 1\n",
      "head_size: 16\n",
      "num_heads: 3\n",
      "kernel_size: 32\n",
      "dropout: 0.1\n",
      "Score: 0.9126602411270142\n",
      "Trial summary\n",
      "Hyperparameters:\n",
      "sub_filters: 134\n",
      "sub_kernel_size: 4\n",
      "sub_strides: 1\n",
      "head_size: 32\n",
      "num_heads: 6\n",
      "kernel_size: 32\n",
      "dropout: 0.1\n",
      "Score: 0.911057710647583\n",
      "Trial summary\n",
      "Hyperparameters:\n",
      "sub_filters: 144\n",
      "sub_kernel_size: 4\n",
      "sub_strides: 1\n",
      "head_size: 16\n",
      "num_heads: 6\n",
      "kernel_size: 32\n",
      "dropout: 0.1\n",
      "Score: 0.9099559187889099\n",
      "Trial summary\n",
      "Hyperparameters:\n",
      "sub_filters: 138\n",
      "sub_kernel_size: 4\n",
      "sub_strides: 1\n",
      "head_size: 22\n",
      "num_heads: 5\n",
      "kernel_size: 32\n",
      "dropout: 0.1\n",
      "Score: 0.9099559187889099\n",
      "Trial summary\n",
      "Hyperparameters:\n",
      "sub_filters: 128\n",
      "sub_kernel_size: 4\n",
      "sub_strides: 1\n",
      "head_size: 16\n",
      "num_heads: 6\n",
      "kernel_size: 32\n",
      "dropout: 0.1\n",
      "Score: 0.9087539911270142\n",
      "Trial summary\n",
      "Hyperparameters:\n",
      "sub_filters: 130\n",
      "sub_kernel_size: 4\n",
      "sub_strides: 1\n",
      "head_size: 20\n",
      "num_heads: 4\n",
      "kernel_size: 26\n",
      "dropout: 0.22953310593326495\n",
      "Score: 0.9085536599159241\n",
      "Trial summary\n",
      "Hyperparameters:\n",
      "sub_filters: 144\n",
      "sub_kernel_size: 4\n",
      "sub_strides: 1\n",
      "head_size: 23\n",
      "num_heads: 2\n",
      "kernel_size: 32\n",
      "dropout: 0.1\n",
      "Score: 0.9069511294364929\n",
      "Trial summary\n",
      "Hyperparameters:\n",
      "sub_filters: 144\n",
      "sub_kernel_size: 4\n",
      "sub_strides: 1\n",
      "head_size: 32\n",
      "num_heads: 6\n",
      "kernel_size: 12\n",
      "dropout: 0.1\n",
      "Score: 0.9066506624221802\n"
     ]
    }
   ],
   "source": [
    "tuner.results_summary()"
   ]
  },
  {
   "cell_type": "code",
   "execution_count": 42,
   "metadata": {
    "execution": {
     "iopub.execute_input": "2023-01-26T21:20:26.038393Z",
     "iopub.status.busy": "2023-01-26T21:20:26.038140Z",
     "iopub.status.idle": "2023-01-26T21:20:26.939508Z",
     "shell.execute_reply": "2023-01-26T21:20:26.939007Z",
     "shell.execute_reply.started": "2023-01-26T21:20:26.038375Z"
    }
   },
   "outputs": [
    {
     "name": "stdout",
     "output_type": "stream",
     "text": [
      "Model: \"conformer\"\n",
      "_________________________________________________________________\n",
      " Layer (type)                Output Shape              Param #   \n",
      "=================================================================\n",
      " input_1 (InputLayer)        [(None, 99, 40)]          0         \n",
      "                                                                 \n",
      " reshape (Reshape)           (None, 99, 40, 1)         0         \n",
      "                                                                 \n",
      " conformer_encoder (Conforme  (None, None, 144)        1679352   \n",
      " rEncoder)                                                       \n",
      "                                                                 \n",
      " global_average_pooling1d (G  (None, 144)              0         \n",
      " lobalAveragePooling1D)                                          \n",
      "                                                                 \n",
      " dense (Dense)               (None, 35)                5075      \n",
      "                                                                 \n",
      "=================================================================\n",
      "Total params: 1,684,427\n",
      "Trainable params: 1,684,139\n",
      "Non-trainable params: 288\n",
      "_________________________________________________________________\n",
      "WARNING:tensorflow:Detecting that an object or model or tf.train.Checkpoint is being deleted with unrestored values. See the following logs for the specific values in question. To silence these warnings, use `status.expect_partial()`. See https://www.tensorflow.org/api_docs/python/tf/train/Checkpoint#restorefor details about the status object returned by the restore function.\n",
      "WARNING:tensorflow:Value in checkpoint could not be found in the restored object: (root).optimizer.iter\n",
      "WARNING:tensorflow:Value in checkpoint could not be found in the restored object: (root).optimizer.beta_1\n",
      "WARNING:tensorflow:Value in checkpoint could not be found in the restored object: (root).optimizer.beta_2\n",
      "WARNING:tensorflow:Value in checkpoint could not be found in the restored object: (root).optimizer.decay\n",
      "WARNING:tensorflow:Value in checkpoint could not be found in the restored object: (root).optimizer.learning_rate\n"
     ]
    }
   ],
   "source": [
    "tuner.get_best_models(num_models=1)[0].summary()"
   ]
  },
  {
   "cell_type": "markdown",
   "metadata": {
    "id": "-khCC16dgu2K"
   },
   "source": [
    "## 5 - Best model: training and testing\n"
   ]
  },
  {
   "cell_type": "markdown",
   "metadata": {
    "id": "cUkhIoN8Y32y"
   },
   "source": [
    "### 5.1 - Best model definition"
   ]
  },
  {
   "cell_type": "code",
   "execution_count": 43,
   "metadata": {
    "execution": {
     "iopub.execute_input": "2023-01-26T21:26:07.527143Z",
     "iopub.status.busy": "2023-01-26T21:26:07.526860Z",
     "iopub.status.idle": "2023-01-26T21:26:07.530561Z",
     "shell.execute_reply": "2023-01-26T21:26:07.530086Z",
     "shell.execute_reply.started": "2023-01-26T21:26:07.527124Z"
    }
   },
   "outputs": [],
   "source": [
    "input_shape     = features_to_input[features_to_extract]\n",
    "num_blocks      = 1 # number of conformer blocks\n",
    "pooling         = 'avg'\n",
    "output_shape    = 35\n",
    "final_activation = 'softmax'\n",
    "model_name      = 'conformer_best'"
   ]
  },
  {
   "cell_type": "markdown",
   "metadata": {},
   "source": [
    "Get the best hyperparameters."
   ]
  },
  {
   "cell_type": "code",
   "execution_count": 54,
   "metadata": {
    "execution": {
     "iopub.execute_input": "2023-01-26T21:30:42.041243Z",
     "iopub.status.busy": "2023-01-26T21:30:42.040976Z",
     "iopub.status.idle": "2023-01-26T21:30:42.045870Z",
     "shell.execute_reply": "2023-01-26T21:30:42.045218Z",
     "shell.execute_reply.started": "2023-01-26T21:30:42.041223Z"
    }
   },
   "outputs": [
    {
     "data": {
      "text/plain": [
       "{'sub_filters': 144,\n",
       " 'sub_kernel_size': 4,\n",
       " 'sub_strides': 1,\n",
       " 'head_size': 26,\n",
       " 'num_heads': 6,\n",
       " 'kernel_size': 32,\n",
       " 'dropout': 0.1}"
      ]
     },
     "execution_count": 54,
     "metadata": {},
     "output_type": "execute_result"
    }
   ],
   "source": [
    "best_hps = tuner.get_best_hyperparameters()[0]\n",
    "best_hps.values"
   ]
  },
  {
   "cell_type": "markdown",
   "metadata": {},
   "source": [
    "Build the model with the best hyperparameters."
   ]
  },
  {
   "cell_type": "code",
   "execution_count": 55,
   "metadata": {
    "execution": {
     "iopub.execute_input": "2023-01-26T21:32:09.090711Z",
     "iopub.status.busy": "2023-01-26T21:32:09.090439Z",
     "iopub.status.idle": "2023-01-26T21:32:09.370571Z",
     "shell.execute_reply": "2023-01-26T21:32:09.369976Z",
     "shell.execute_reply.started": "2023-01-26T21:32:09.090693Z"
    }
   },
   "outputs": [
    {
     "name": "stdout",
     "output_type": "stream",
     "text": [
      "Model: \"conformer\"\n",
      "_________________________________________________________________\n",
      " Layer (type)                Output Shape              Param #   \n",
      "=================================================================\n",
      " input_2 (InputLayer)        [(None, 99, 40)]          0         \n",
      "                                                                 \n",
      " reshape_1 (Reshape)         (None, 99, 40, 1)         0         \n",
      "                                                                 \n",
      " conformer_encoder (Conforme  (None, None, 144)        1679352   \n",
      " rEncoder)                                                       \n",
      "                                                                 \n",
      " global_average_pooling1d_1   (None, 144)              0         \n",
      " (GlobalAveragePooling1D)                                        \n",
      "                                                                 \n",
      " dense_1 (Dense)             (None, 35)                5075      \n",
      "                                                                 \n",
      "=================================================================\n",
      "Total params: 1,684,427\n",
      "Trainable params: 1,684,139\n",
      "Non-trainable params: 288\n",
      "_________________________________________________________________\n"
     ]
    }
   ],
   "source": [
    "model = build_model(best_hps)\n",
    "model.summary()"
   ]
  },
  {
   "cell_type": "markdown",
   "metadata": {
    "id": "6AOKfTzRgu2Y"
   },
   "source": [
    "### 5.2 - Best model training\n",
    "At this point we can retrain the best model."
   ]
  },
  {
   "cell_type": "code",
   "execution_count": 57,
   "metadata": {
    "execution": {
     "iopub.execute_input": "2023-01-26T21:35:50.561841Z",
     "iopub.status.busy": "2023-01-26T21:35:50.561553Z",
     "iopub.status.idle": "2023-01-26T22:20:50.208672Z",
     "shell.execute_reply": "2023-01-26T22:20:50.207966Z",
     "shell.execute_reply.started": "2023-01-26T21:35:50.561814Z"
    }
   },
   "outputs": [
    {
     "name": "stdout",
     "output_type": "stream",
     "text": [
      "Epoch 1/100\n",
      "2652/2652 [==============================] - 112s 40ms/step - loss: 2.4598 - sparse_categorical_accuracy: 0.3175 - val_loss: 1.7036 - val_sparse_categorical_accuracy: 0.5069 - lr: 1.0000e-04\n",
      "Epoch 2/100\n",
      "2652/2652 [==============================] - 103s 39ms/step - loss: 1.2549 - sparse_categorical_accuracy: 0.6429 - val_loss: 1.0796 - val_sparse_categorical_accuracy: 0.6745 - lr: 1.0000e-04\n",
      "Epoch 3/100\n",
      "2652/2652 [==============================] - 103s 39ms/step - loss: 0.8700 - sparse_categorical_accuracy: 0.7484 - val_loss: 0.7142 - val_sparse_categorical_accuracy: 0.7928 - lr: 1.0000e-04\n",
      "Epoch 4/100\n",
      "2652/2652 [==============================] - 106s 40ms/step - loss: 0.6920 - sparse_categorical_accuracy: 0.7983 - val_loss: 0.6772 - val_sparse_categorical_accuracy: 0.7941 - lr: 1.0000e-04\n",
      "Epoch 5/100\n",
      "2652/2652 [==============================] - 105s 40ms/step - loss: 0.5811 - sparse_categorical_accuracy: 0.8296 - val_loss: 0.5558 - val_sparse_categorical_accuracy: 0.8323 - lr: 1.0000e-04\n",
      "Epoch 6/100\n",
      "2652/2652 [==============================] - 102s 39ms/step - loss: 0.5064 - sparse_categorical_accuracy: 0.8501 - val_loss: 0.5213 - val_sparse_categorical_accuracy: 0.8475 - lr: 1.0000e-04\n",
      "Epoch 7/100\n",
      "2652/2652 [==============================] - 103s 39ms/step - loss: 0.4507 - sparse_categorical_accuracy: 0.8658 - val_loss: 0.4945 - val_sparse_categorical_accuracy: 0.8597 - lr: 1.0000e-04\n",
      "Epoch 8/100\n",
      "2652/2652 [==============================] - 98s 37ms/step - loss: 0.4063 - sparse_categorical_accuracy: 0.8784 - val_loss: 0.4436 - val_sparse_categorical_accuracy: 0.8687 - lr: 1.0000e-04\n",
      "Epoch 9/100\n",
      "2652/2652 [==============================] - 103s 39ms/step - loss: 0.3721 - sparse_categorical_accuracy: 0.8881 - val_loss: 0.4173 - val_sparse_categorical_accuracy: 0.8813 - lr: 1.0000e-04\n",
      "Epoch 10/100\n",
      "2652/2652 [==============================] - 96s 36ms/step - loss: 0.3413 - sparse_categorical_accuracy: 0.8969 - val_loss: 0.4508 - val_sparse_categorical_accuracy: 0.8740 - lr: 1.0000e-04\n",
      "Epoch 11/100\n",
      "2652/2652 [==============================] - 96s 36ms/step - loss: 0.3124 - sparse_categorical_accuracy: 0.9054 - val_loss: 0.4316 - val_sparse_categorical_accuracy: 0.8757 - lr: 1.0000e-04\n",
      "Epoch 12/100\n",
      "2652/2652 [==============================] - 103s 39ms/step - loss: 0.2898 - sparse_categorical_accuracy: 0.9127 - val_loss: 0.3952 - val_sparse_categorical_accuracy: 0.8890 - lr: 1.0000e-04\n",
      "Epoch 13/100\n",
      "2652/2652 [==============================] - 113s 43ms/step - loss: 0.2694 - sparse_categorical_accuracy: 0.9178 - val_loss: 0.3844 - val_sparse_categorical_accuracy: 0.8906 - lr: 1.0000e-04\n",
      "Epoch 14/100\n",
      "2652/2652 [==============================] - 95s 36ms/step - loss: 0.2493 - sparse_categorical_accuracy: 0.9240 - val_loss: 0.4267 - val_sparse_categorical_accuracy: 0.8814 - lr: 1.0000e-04\n",
      "Epoch 15/100\n",
      "2652/2652 [==============================] - 95s 36ms/step - loss: 0.2337 - sparse_categorical_accuracy: 0.9284 - val_loss: 0.3930 - val_sparse_categorical_accuracy: 0.8925 - lr: 1.0000e-04\n",
      "Epoch 16/100\n",
      "2651/2652 [============================>.] - ETA: 0s - loss: 0.2168 - sparse_categorical_accuracy: 0.9338\n",
      "Epoch 16: ReduceLROnPlateau reducing learning rate to 9.999999747378752e-06.\n",
      "2652/2652 [==============================] - 95s 36ms/step - loss: 0.2168 - sparse_categorical_accuracy: 0.9338 - val_loss: 0.4624 - val_sparse_categorical_accuracy: 0.8804 - lr: 1.0000e-04\n",
      "Epoch 17/100\n",
      "2652/2652 [==============================] - 98s 37ms/step - loss: 0.1324 - sparse_categorical_accuracy: 0.9623 - val_loss: 0.3288 - val_sparse_categorical_accuracy: 0.9132 - lr: 1.0000e-05\n",
      "Epoch 18/100\n",
      "2652/2652 [==============================] - 96s 36ms/step - loss: 0.1147 - sparse_categorical_accuracy: 0.9687 - val_loss: 0.3342 - val_sparse_categorical_accuracy: 0.9134 - lr: 1.0000e-05\n",
      "Epoch 19/100\n",
      "2652/2652 [==============================] - 96s 36ms/step - loss: 0.1067 - sparse_categorical_accuracy: 0.9716 - val_loss: 0.3325 - val_sparse_categorical_accuracy: 0.9137 - lr: 1.0000e-05\n",
      "Epoch 20/100\n",
      "2651/2652 [============================>.] - ETA: 0s - loss: 0.1009 - sparse_categorical_accuracy: 0.9726\n",
      "Epoch 20: ReduceLROnPlateau reducing learning rate to 9.999999747378752e-07.\n",
      "2652/2652 [==============================] - 110s 42ms/step - loss: 0.1009 - sparse_categorical_accuracy: 0.9726 - val_loss: 0.3396 - val_sparse_categorical_accuracy: 0.9132 - lr: 1.0000e-05\n",
      "Epoch 21/100\n",
      "2652/2652 [==============================] - 96s 36ms/step - loss: 0.0913 - sparse_categorical_accuracy: 0.9760 - val_loss: 0.3365 - val_sparse_categorical_accuracy: 0.9136 - lr: 1.0000e-06\n",
      "Epoch 22/100\n",
      "2652/2652 [==============================] - 96s 36ms/step - loss: 0.0905 - sparse_categorical_accuracy: 0.9762 - val_loss: 0.3363 - val_sparse_categorical_accuracy: 0.9149 - lr: 1.0000e-06\n",
      "Epoch 23/100\n",
      "2651/2652 [============================>.] - ETA: 0s - loss: 0.0888 - sparse_categorical_accuracy: 0.9770\n",
      "Epoch 23: ReduceLROnPlateau reducing learning rate to 9.999999974752428e-08.\n",
      "2652/2652 [==============================] - 96s 36ms/step - loss: 0.0888 - sparse_categorical_accuracy: 0.9770 - val_loss: 0.3363 - val_sparse_categorical_accuracy: 0.9145 - lr: 1.0000e-06\n",
      "Epoch 24/100\n",
      "2652/2652 [==============================] - 96s 36ms/step - loss: 0.0871 - sparse_categorical_accuracy: 0.9781 - val_loss: 0.3357 - val_sparse_categorical_accuracy: 0.9149 - lr: 1.0000e-07\n",
      "Epoch 25/100\n",
      "2652/2652 [==============================] - 96s 36ms/step - loss: 0.0877 - sparse_categorical_accuracy: 0.9773 - val_loss: 0.3354 - val_sparse_categorical_accuracy: 0.9143 - lr: 1.0000e-07\n",
      "Epoch 26/100\n",
      "2651/2652 [============================>.] - ETA: 0s - loss: 0.0865 - sparse_categorical_accuracy: 0.9777\n",
      "Epoch 26: ReduceLROnPlateau reducing learning rate to 1.0000000116860975e-08.\n",
      "2652/2652 [==============================] - 96s 36ms/step - loss: 0.0865 - sparse_categorical_accuracy: 0.9777 - val_loss: 0.3361 - val_sparse_categorical_accuracy: 0.9143 - lr: 1.0000e-07\n",
      "Epoch 27/100\n",
      "2652/2652 [==============================] - 96s 36ms/step - loss: 0.0867 - sparse_categorical_accuracy: 0.9778 - val_loss: 0.3365 - val_sparse_categorical_accuracy: 0.9146 - lr: 1.0000e-08\n"
     ]
    }
   ],
   "source": [
    "num_epochs = 100\n",
    "\n",
    "early_stopping   = EarlyStopping(monitor='val_loss', patience=10)\n",
    "reduce_LR        = ReduceLROnPlateau(monitor='val_loss', factor=0.1, patience=3, verbose=1)\n",
    "model_checkpoint = ModelCheckpoint(f'trained_models/{model_name}.h5', monitor='val_loss', save_best_only=True)\n",
    "\n",
    "history = model.fit(\n",
    "                train_dataset,\n",
    "                epochs=num_epochs,\n",
    "                steps_per_epoch=train_steps,\n",
    "                validation_data=val_dataset,\n",
    "                validation_steps=val_steps,\n",
    "                callbacks=[early_stopping, reduce_LR, model_checkpoint],\n",
    "                verbose=1\n",
    "                )"
   ]
  },
  {
   "cell_type": "code",
   "execution_count": 58,
   "metadata": {
    "colab": {
     "base_uri": "https://localhost:8080/",
     "height": 756
    },
    "execution": {
     "iopub.execute_input": "2023-01-26T22:20:50.209983Z",
     "iopub.status.busy": "2023-01-26T22:20:50.209802Z",
     "iopub.status.idle": "2023-01-26T22:20:50.220958Z",
     "shell.execute_reply": "2023-01-26T22:20:50.220461Z",
     "shell.execute_reply.started": "2023-01-26T22:20:50.209968Z"
    },
    "id": "g6xpCJ7Tgu2f",
    "outputId": "6327917f-9af2-4613-f45d-435d9c6b0987"
   },
   "outputs": [
    {
     "name": "stdout",
     "output_type": "stream",
     "text": [
      "Training history:\n"
     ]
    },
    {
     "data": {
      "text/html": [
       "<div>\n",
       "<style scoped>\n",
       "    .dataframe tbody tr th:only-of-type {\n",
       "        vertical-align: middle;\n",
       "    }\n",
       "\n",
       "    .dataframe tbody tr th {\n",
       "        vertical-align: top;\n",
       "    }\n",
       "\n",
       "    .dataframe thead th {\n",
       "        text-align: right;\n",
       "    }\n",
       "</style>\n",
       "<table border=\"1\" class=\"dataframe\">\n",
       "  <thead>\n",
       "    <tr style=\"text-align: right;\">\n",
       "      <th></th>\n",
       "      <th>loss</th>\n",
       "      <th>sparse_categorical_accuracy</th>\n",
       "      <th>val_loss</th>\n",
       "      <th>val_sparse_categorical_accuracy</th>\n",
       "      <th>lr</th>\n",
       "    </tr>\n",
       "  </thead>\n",
       "  <tbody>\n",
       "    <tr>\n",
       "      <th>0</th>\n",
       "      <td>2.459834</td>\n",
       "      <td>0.317532</td>\n",
       "      <td>1.703555</td>\n",
       "      <td>0.506911</td>\n",
       "      <td>1.000000e-04</td>\n",
       "    </tr>\n",
       "    <tr>\n",
       "      <th>1</th>\n",
       "      <td>1.254921</td>\n",
       "      <td>0.642864</td>\n",
       "      <td>1.079622</td>\n",
       "      <td>0.674479</td>\n",
       "      <td>1.000000e-04</td>\n",
       "    </tr>\n",
       "    <tr>\n",
       "      <th>2</th>\n",
       "      <td>0.869983</td>\n",
       "      <td>0.748409</td>\n",
       "      <td>0.714230</td>\n",
       "      <td>0.792768</td>\n",
       "      <td>1.000000e-04</td>\n",
       "    </tr>\n",
       "    <tr>\n",
       "      <th>3</th>\n",
       "      <td>0.691984</td>\n",
       "      <td>0.798265</td>\n",
       "      <td>0.677187</td>\n",
       "      <td>0.794071</td>\n",
       "      <td>1.000000e-04</td>\n",
       "    </tr>\n",
       "    <tr>\n",
       "      <th>4</th>\n",
       "      <td>0.581096</td>\n",
       "      <td>0.829633</td>\n",
       "      <td>0.555790</td>\n",
       "      <td>0.832332</td>\n",
       "      <td>1.000000e-04</td>\n",
       "    </tr>\n",
       "    <tr>\n",
       "      <th>5</th>\n",
       "      <td>0.506432</td>\n",
       "      <td>0.850113</td>\n",
       "      <td>0.521259</td>\n",
       "      <td>0.847456</td>\n",
       "      <td>1.000000e-04</td>\n",
       "    </tr>\n",
       "    <tr>\n",
       "      <th>6</th>\n",
       "      <td>0.450740</td>\n",
       "      <td>0.865832</td>\n",
       "      <td>0.494467</td>\n",
       "      <td>0.859675</td>\n",
       "      <td>1.000000e-04</td>\n",
       "    </tr>\n",
       "    <tr>\n",
       "      <th>7</th>\n",
       "      <td>0.406323</td>\n",
       "      <td>0.878382</td>\n",
       "      <td>0.443582</td>\n",
       "      <td>0.868690</td>\n",
       "      <td>1.000000e-04</td>\n",
       "    </tr>\n",
       "    <tr>\n",
       "      <th>8</th>\n",
       "      <td>0.372093</td>\n",
       "      <td>0.888139</td>\n",
       "      <td>0.417256</td>\n",
       "      <td>0.881310</td>\n",
       "      <td>1.000000e-04</td>\n",
       "    </tr>\n",
       "    <tr>\n",
       "      <th>9</th>\n",
       "      <td>0.341315</td>\n",
       "      <td>0.896917</td>\n",
       "      <td>0.450788</td>\n",
       "      <td>0.873998</td>\n",
       "      <td>1.000000e-04</td>\n",
       "    </tr>\n",
       "    <tr>\n",
       "      <th>10</th>\n",
       "      <td>0.312351</td>\n",
       "      <td>0.905366</td>\n",
       "      <td>0.431646</td>\n",
       "      <td>0.875701</td>\n",
       "      <td>1.000000e-04</td>\n",
       "    </tr>\n",
       "    <tr>\n",
       "      <th>11</th>\n",
       "      <td>0.289773</td>\n",
       "      <td>0.912684</td>\n",
       "      <td>0.395242</td>\n",
       "      <td>0.889022</td>\n",
       "      <td>1.000000e-04</td>\n",
       "    </tr>\n",
       "    <tr>\n",
       "      <th>12</th>\n",
       "      <td>0.269428</td>\n",
       "      <td>0.917810</td>\n",
       "      <td>0.384363</td>\n",
       "      <td>0.890625</td>\n",
       "      <td>1.000000e-04</td>\n",
       "    </tr>\n",
       "    <tr>\n",
       "      <th>13</th>\n",
       "      <td>0.249329</td>\n",
       "      <td>0.924031</td>\n",
       "      <td>0.426726</td>\n",
       "      <td>0.881410</td>\n",
       "      <td>1.000000e-04</td>\n",
       "    </tr>\n",
       "    <tr>\n",
       "      <th>14</th>\n",
       "      <td>0.233667</td>\n",
       "      <td>0.928415</td>\n",
       "      <td>0.393039</td>\n",
       "      <td>0.892528</td>\n",
       "      <td>1.000000e-04</td>\n",
       "    </tr>\n",
       "    <tr>\n",
       "      <th>15</th>\n",
       "      <td>0.216814</td>\n",
       "      <td>0.933824</td>\n",
       "      <td>0.462415</td>\n",
       "      <td>0.880409</td>\n",
       "      <td>1.000000e-04</td>\n",
       "    </tr>\n",
       "    <tr>\n",
       "      <th>16</th>\n",
       "      <td>0.132378</td>\n",
       "      <td>0.962304</td>\n",
       "      <td>0.328756</td>\n",
       "      <td>0.913161</td>\n",
       "      <td>1.000000e-05</td>\n",
       "    </tr>\n",
       "    <tr>\n",
       "      <th>17</th>\n",
       "      <td>0.114661</td>\n",
       "      <td>0.968703</td>\n",
       "      <td>0.334237</td>\n",
       "      <td>0.913361</td>\n",
       "      <td>1.000000e-05</td>\n",
       "    </tr>\n",
       "    <tr>\n",
       "      <th>18</th>\n",
       "      <td>0.106732</td>\n",
       "      <td>0.971613</td>\n",
       "      <td>0.332509</td>\n",
       "      <td>0.913662</td>\n",
       "      <td>1.000000e-05</td>\n",
       "    </tr>\n",
       "    <tr>\n",
       "      <th>19</th>\n",
       "      <td>0.100857</td>\n",
       "      <td>0.972580</td>\n",
       "      <td>0.339600</td>\n",
       "      <td>0.913161</td>\n",
       "      <td>1.000000e-05</td>\n",
       "    </tr>\n",
       "    <tr>\n",
       "      <th>20</th>\n",
       "      <td>0.091300</td>\n",
       "      <td>0.976009</td>\n",
       "      <td>0.336472</td>\n",
       "      <td>0.913562</td>\n",
       "      <td>1.000000e-06</td>\n",
       "    </tr>\n",
       "    <tr>\n",
       "      <th>21</th>\n",
       "      <td>0.090503</td>\n",
       "      <td>0.976197</td>\n",
       "      <td>0.336293</td>\n",
       "      <td>0.914864</td>\n",
       "      <td>1.000000e-06</td>\n",
       "    </tr>\n",
       "    <tr>\n",
       "      <th>22</th>\n",
       "      <td>0.088794</td>\n",
       "      <td>0.976951</td>\n",
       "      <td>0.336312</td>\n",
       "      <td>0.914463</td>\n",
       "      <td>1.000000e-06</td>\n",
       "    </tr>\n",
       "    <tr>\n",
       "      <th>23</th>\n",
       "      <td>0.087114</td>\n",
       "      <td>0.978141</td>\n",
       "      <td>0.335659</td>\n",
       "      <td>0.914864</td>\n",
       "      <td>1.000000e-07</td>\n",
       "    </tr>\n",
       "    <tr>\n",
       "      <th>24</th>\n",
       "      <td>0.087680</td>\n",
       "      <td>0.977270</td>\n",
       "      <td>0.335446</td>\n",
       "      <td>0.914263</td>\n",
       "      <td>1.000000e-07</td>\n",
       "    </tr>\n",
       "    <tr>\n",
       "      <th>25</th>\n",
       "      <td>0.086506</td>\n",
       "      <td>0.977682</td>\n",
       "      <td>0.336055</td>\n",
       "      <td>0.914263</td>\n",
       "      <td>1.000000e-07</td>\n",
       "    </tr>\n",
       "    <tr>\n",
       "      <th>26</th>\n",
       "      <td>0.086681</td>\n",
       "      <td>0.977800</td>\n",
       "      <td>0.336478</td>\n",
       "      <td>0.914563</td>\n",
       "      <td>1.000000e-08</td>\n",
       "    </tr>\n",
       "  </tbody>\n",
       "</table>\n",
       "</div>"
      ],
      "text/plain": [
       "        loss  sparse_categorical_accuracy  val_loss  \\\n",
       "0   2.459834                     0.317532  1.703555   \n",
       "1   1.254921                     0.642864  1.079622   \n",
       "2   0.869983                     0.748409  0.714230   \n",
       "3   0.691984                     0.798265  0.677187   \n",
       "4   0.581096                     0.829633  0.555790   \n",
       "5   0.506432                     0.850113  0.521259   \n",
       "6   0.450740                     0.865832  0.494467   \n",
       "7   0.406323                     0.878382  0.443582   \n",
       "8   0.372093                     0.888139  0.417256   \n",
       "9   0.341315                     0.896917  0.450788   \n",
       "10  0.312351                     0.905366  0.431646   \n",
       "11  0.289773                     0.912684  0.395242   \n",
       "12  0.269428                     0.917810  0.384363   \n",
       "13  0.249329                     0.924031  0.426726   \n",
       "14  0.233667                     0.928415  0.393039   \n",
       "15  0.216814                     0.933824  0.462415   \n",
       "16  0.132378                     0.962304  0.328756   \n",
       "17  0.114661                     0.968703  0.334237   \n",
       "18  0.106732                     0.971613  0.332509   \n",
       "19  0.100857                     0.972580  0.339600   \n",
       "20  0.091300                     0.976009  0.336472   \n",
       "21  0.090503                     0.976197  0.336293   \n",
       "22  0.088794                     0.976951  0.336312   \n",
       "23  0.087114                     0.978141  0.335659   \n",
       "24  0.087680                     0.977270  0.335446   \n",
       "25  0.086506                     0.977682  0.336055   \n",
       "26  0.086681                     0.977800  0.336478   \n",
       "\n",
       "    val_sparse_categorical_accuracy            lr  \n",
       "0                          0.506911  1.000000e-04  \n",
       "1                          0.674479  1.000000e-04  \n",
       "2                          0.792768  1.000000e-04  \n",
       "3                          0.794071  1.000000e-04  \n",
       "4                          0.832332  1.000000e-04  \n",
       "5                          0.847456  1.000000e-04  \n",
       "6                          0.859675  1.000000e-04  \n",
       "7                          0.868690  1.000000e-04  \n",
       "8                          0.881310  1.000000e-04  \n",
       "9                          0.873998  1.000000e-04  \n",
       "10                         0.875701  1.000000e-04  \n",
       "11                         0.889022  1.000000e-04  \n",
       "12                         0.890625  1.000000e-04  \n",
       "13                         0.881410  1.000000e-04  \n",
       "14                         0.892528  1.000000e-04  \n",
       "15                         0.880409  1.000000e-04  \n",
       "16                         0.913161  1.000000e-05  \n",
       "17                         0.913361  1.000000e-05  \n",
       "18                         0.913662  1.000000e-05  \n",
       "19                         0.913161  1.000000e-05  \n",
       "20                         0.913562  1.000000e-06  \n",
       "21                         0.914864  1.000000e-06  \n",
       "22                         0.914463  1.000000e-06  \n",
       "23                         0.914864  1.000000e-07  \n",
       "24                         0.914263  1.000000e-07  \n",
       "25                         0.914263  1.000000e-07  \n",
       "26                         0.914563  1.000000e-08  "
      ]
     },
     "execution_count": 58,
     "metadata": {},
     "output_type": "execute_result"
    }
   ],
   "source": [
    "print('Training history:')\n",
    "pd.DataFrame(history.history)"
   ]
  },
  {
   "cell_type": "code",
   "execution_count": 59,
   "metadata": {
    "colab": {
     "base_uri": "https://localhost:8080/",
     "height": 725
    },
    "execution": {
     "iopub.execute_input": "2023-01-26T22:20:50.222067Z",
     "iopub.status.busy": "2023-01-26T22:20:50.221906Z",
     "iopub.status.idle": "2023-01-26T22:20:50.552864Z",
     "shell.execute_reply": "2023-01-26T22:20:50.552207Z",
     "shell.execute_reply.started": "2023-01-26T22:20:50.222052Z"
    },
    "id": "B3Lq3SY4gu3J",
    "outputId": "009889c7-d480-4e49-a03b-9b66678f96dc"
   },
   "outputs": [
    {
     "data": {
      "image/png": "[encoded data removed]",
      "text/plain": [
       "<Figure size 576x720 with 2 Axes>"
      ]
     },
     "metadata": {
      "needs_background": "light"
     },
     "output_type": "display_data"
    }
   ],
   "source": [
    "plot_utils.plot_history(history, columns=['loss', 'sparse_categorical_accuracy'])"
   ]
  },
  {
   "cell_type": "markdown",
   "metadata": {
    "id": "R9R3FIblgu3O"
   },
   "source": [
    "Uncomment the cell below to save the trained model."
   ]
  },
  {
   "cell_type": "code",
   "execution_count": 60,
   "metadata": {
    "execution": {
     "iopub.execute_input": "2023-01-26T22:20:50.554558Z",
     "iopub.status.busy": "2023-01-26T22:20:50.554140Z",
     "iopub.status.idle": "2023-01-26T22:20:51.544506Z",
     "shell.execute_reply": "2023-01-26T22:20:51.543978Z",
     "shell.execute_reply.started": "2023-01-26T22:20:50.554540Z"
    },
    "id": "DhUE4Zc6gu3P"
   },
   "outputs": [],
   "source": [
    "model.save(f'trained_models/{model_name}.h5')"
   ]
  },
  {
   "cell_type": "markdown",
   "metadata": {
    "id": "GqXQhhpvgu5P"
   },
   "source": [
    "### 5.3 - Validation metrics"
   ]
  },
  {
   "cell_type": "code",
   "execution_count": 61,
   "metadata": {
    "colab": {
     "base_uri": "https://localhost:8080/"
    },
    "execution": {
     "iopub.execute_input": "2023-01-26T22:20:51.545880Z",
     "iopub.status.busy": "2023-01-26T22:20:51.545320Z",
     "iopub.status.idle": "2023-01-26T22:20:56.191364Z",
     "shell.execute_reply": "2023-01-26T22:20:56.190737Z",
     "shell.execute_reply.started": "2023-01-26T22:20:51.545859Z"
    },
    "id": "d9qSfMZlgu5U",
    "outputId": "7eb6eedb-2c2c-4b2c-b340-d90927979d7c"
   },
   "outputs": [
    {
     "name": "stdout",
     "output_type": "stream",
     "text": [
      "344/344 [==============================] - 5s 12ms/step\n"
     ]
    }
   ],
   "source": [
    "# true labels\n",
    "y_true = reference_df_test['class'].tolist()\n",
    "\n",
    "# get predictions for test set\n",
    "test_pred = model.predict(test_dataset, steps=test_steps, verbose=1)[:len(y_true)].squeeze()\n",
    "\n",
    "# predicted labels\n",
    "y_pred = np.argmax(test_pred, axis=1)"
   ]
  },
  {
   "cell_type": "markdown",
   "metadata": {
    "id": "jinyZOKNgu7V"
   },
   "source": [
    "Plot the confusion matrix:"
   ]
  },
  {
   "cell_type": "code",
   "execution_count": 62,
   "metadata": {
    "colab": {
     "base_uri": "https://localhost:8080/",
     "height": 1000
    },
    "execution": {
     "iopub.execute_input": "2023-01-26T22:20:56.192301Z",
     "iopub.status.busy": "2023-01-26T22:20:56.192116Z",
     "iopub.status.idle": "2023-01-26T22:20:58.997072Z",
     "shell.execute_reply": "2023-01-26T22:20:58.996624Z",
     "shell.execute_reply.started": "2023-01-26T22:20:56.192287Z"
    },
    "id": "cHIhE3c3gu7e",
    "outputId": "75b61740-c348-4078-c109-1efa3ee9a360"
   },
   "outputs": [
    {
     "data": {
      "image/png": "[encoded data removed]",
      "text/plain": [
       "<Figure size 1512x1296 with 2 Axes>"
      ]
     },
     "metadata": {
      "needs_background": "light"
     },
     "output_type": "display_data"
    }
   ],
   "source": [
    "cm = confusion_matrix(y_pred, y_true)\n",
    "plot_utils.plot_confusion_matrix(cm, labels=commands, normalize=True, saveit=False, model_name='')\n",
    "# plt.savefig(f'figures/cm_{model_name}.png')"
   ]
  },
  {
   "cell_type": "markdown",
   "metadata": {
    "id": "6K19gHq1gu7z"
   },
   "source": [
    "Evaluate some metrics:\n",
    "\n"
   ]
  },
  {
   "cell_type": "code",
   "execution_count": 63,
   "metadata": {
    "execution": {
     "iopub.execute_input": "2023-01-26T22:20:58.998487Z",
     "iopub.status.busy": "2023-01-26T22:20:58.997722Z",
     "iopub.status.idle": "2023-01-26T22:20:59.026031Z",
     "shell.execute_reply": "2023-01-26T22:20:59.025577Z",
     "shell.execute_reply.started": "2023-01-26T22:20:58.998472Z"
    },
    "id": "NPE9Z35Xgu70"
   },
   "outputs": [],
   "source": [
    "# get metrics and display them\n",
    "accuracy = accuracy_score(y_true=y_true, y_pred=y_pred)\n",
    "logloss  = log_loss(y_true, test_pred, labels=np.arange(35))\n",
    "cohen_k  = cohen_kappa_score(y_true, y_pred)\n",
    "\n",
    "# print('Accuracy:      {:.2f}%'.format(accuracy*100))\n",
    "# print('Error rate:    {:.2f}%'.format((1-accuracy)*100))\n",
    "# print('Cross-entropy: {:.4f}'.format(logloss))\n",
    "# print(\"Cohen's Kappa: {:.4f}\".format(cohen_k))\n",
    "\n",
    "cr = class_report(y_true, y_pred)"
   ]
  },
  {
   "cell_type": "code",
   "execution_count": 64,
   "metadata": {
    "colab": {
     "base_uri": "https://localhost:8080/",
     "height": 81
    },
    "execution": {
     "iopub.execute_input": "2023-01-26T22:20:59.027235Z",
     "iopub.status.busy": "2023-01-26T22:20:59.026663Z",
     "iopub.status.idle": "2023-01-26T22:20:59.035153Z",
     "shell.execute_reply": "2023-01-26T22:20:59.034733Z",
     "shell.execute_reply.started": "2023-01-26T22:20:59.027216Z"
    },
    "id": "SaXtDPNwgu73",
    "outputId": "c1c6c187-2ad6-43bb-92cf-7684d77176b8"
   },
   "outputs": [
    {
     "data": {
      "text/html": [
       "<div>\n",
       "<style scoped>\n",
       "    .dataframe tbody tr th:only-of-type {\n",
       "        vertical-align: middle;\n",
       "    }\n",
       "\n",
       "    .dataframe tbody tr th {\n",
       "        vertical-align: top;\n",
       "    }\n",
       "\n",
       "    .dataframe thead th {\n",
       "        text-align: right;\n",
       "    }\n",
       "</style>\n",
       "<table border=\"1\" class=\"dataframe\">\n",
       "  <thead>\n",
       "    <tr style=\"text-align: right;\">\n",
       "      <th></th>\n",
       "      <th>precision</th>\n",
       "      <th>recall</th>\n",
       "      <th>f1-score</th>\n",
       "      <th>accuracy</th>\n",
       "      <th>cross-entropy</th>\n",
       "      <th>Cohen-Kappa</th>\n",
       "    </tr>\n",
       "  </thead>\n",
       "  <tbody>\n",
       "    <tr>\n",
       "      <th>0</th>\n",
       "      <td>0.9069</td>\n",
       "      <td>0.9062</td>\n",
       "      <td>0.9064</td>\n",
       "      <td>0.9062</td>\n",
       "      <td>0.3623</td>\n",
       "      <td>0.9031</td>\n",
       "    </tr>\n",
       "  </tbody>\n",
       "</table>\n",
       "</div>"
      ],
      "text/plain": [
       "   precision  recall  f1-score  accuracy  cross-entropy  Cohen-Kappa\n",
       "0     0.9069  0.9062    0.9064    0.9062         0.3623       0.9031"
      ]
     },
     "metadata": {},
     "output_type": "display_data"
    }
   ],
   "source": [
    "weighted_metrics = cr.iloc[-1].tolist()\n",
    "\n",
    "df_metrics_simple = pd.DataFrame(\n",
    "    [weighted_metrics + [accuracy, logloss, cohen_k]], \n",
    "    columns = ['precision', 'recall', 'f1-score', 'accuracy', 'cross-entropy', 'Cohen-Kappa'], \n",
    ")\n",
    "\n",
    "display(df_metrics_simple.round(4))"
   ]
  },
  {
   "attachments": {},
   "cell_type": "markdown",
   "metadata": {
    "id": "aqEwef54gu74"
   },
   "source": [
    "# References\n",
    "**[Sainath15]** <br>\n",
    " Tara N. Sainath, Carolina Parada, _Convolutional Neural Networks for Small-footprint Keyword Spotting_, INTERSPEECH, Dresden, Germany, September 2015.\n",
    "\n",
    "**[Warden18]** <br>\n",
    " Pete Warden, _Speech Commands: A Dataset for Limited-Vocabulary Speech Recognition_, arXiv:1804.03209, April 2018. \n",
    " \n",
    "**[Lyons14]** <br>\n",
    " James Lyons et al. (2020, January 14). jameslyons/python_speech_features: release v0.6.1 (Version 0.6.1). Zenodo.\n",
    "\n",
    "**[Andrade18]** <br>\n",
    "Andrade, D.C., Leo, S., Viana, M., & Bernkopf, C. (2018). _A neural attention model for speech command recognition_. ArXiv, abs/1808.08929.\n",
    "\n",
    "**[Chorowski15]** <br>\n",
    "Chorowski, J., Bahdanau, D., Serdyuk, D., Cho, K., & Bengio, Y. (2015). _Attention-Based Models for Speech Recognition_. ArXiv, abs/1506.07503.\n",
    "\n",
    "**[Gulati20]** <br>\n",
    "Gulati, A., Qin, J., Chiu, C., Parmar, N., Zhang, Y., Yu, J., Han, W., Wang, S., Zhang, Z., Wu, Y., & Pang, R. (2020). _Conformer: Convolution-augmented Transformer for Speech Recognition_. ArXiv, abs/2005.08100.\n",
    "\n",
    "**[Dong18]** <br>\n",
    "L. Dong, S. Xu and B. Xu, _Speech-Transformer: A No-Recurrence Sequence-to-Sequence Model for Speech Recognition_, 2018 IEEE International Conference on Acoustics, Speech and Signal Processing (ICASSP), Calgary, AB, Canada, 2018, pp. 5884-5888, doi: 10.1109/ICASSP.2018.8462506."
   ]
  }
 ],
 "metadata": {
  "accelerator": "GPU",
  "colab": {
   "provenance": []
  },
  "gpuClass": "premium",
  "kernelspec": {
   "display_name": "hda",
   "language": "python",
   "name": "python3"
  },
  "language_info": {
   "codemirror_mode": {
    "name": "ipython",
    "version": 3
   },
   "file_extension": ".py",
   "mimetype": "text/x-python",
   "name": "python",
   "nbconvert_exporter": "python",
   "pygments_lexer": "ipython3",
   "version": "3.10.8 (main, Nov 24 2022, 14:13:03) [GCC 11.2.0]"
  },
  "vscode": {
   "interpreter": {
    "hash": "2dbd5f52e176f26a59a7f95f14a81615dde9e9336e1642592a7a0db563ccdd35"
   }
  }
 },
 "nbformat": 4,
 "nbformat_minor": 4
}
